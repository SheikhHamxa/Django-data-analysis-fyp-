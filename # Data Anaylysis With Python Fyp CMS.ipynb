{
 "cells": [
  {
   "cell_type": "markdown",
   "metadata": {},
   "source": [
    "# Data Anaylysis With Python Fyp CMS"
   ]
  },
  {
   "cell_type": "code",
   "execution_count": 1,
   "metadata": {},
   "outputs": [],
   "source": [
    "#Importing Libraries\n",
    "import pandas as pd\n",
    "import numpy as np\n",
    "import matplotlib.pyplot as plt\n",
    "from pandasql import sqldf\n",
    "pysqldf = lambda q: sqldf(q, globals())\n",
    "%matplotlib inline"
   ]
  },
  {
   "cell_type": "markdown",
   "metadata": {},
   "source": [
    "# Data Explore\n",
    "<b> Package Rates Data set <b>"
   ]
  },
  {
   "cell_type": "code",
   "execution_count": 2,
   "metadata": {},
   "outputs": [
    {
     "data": {
      "text/html": [
       "<div>\n",
       "<style scoped>\n",
       "    .dataframe tbody tr th:only-of-type {\n",
       "        vertical-align: middle;\n",
       "    }\n",
       "\n",
       "    .dataframe tbody tr th {\n",
       "        vertical-align: top;\n",
       "    }\n",
       "\n",
       "    .dataframe thead th {\n",
       "        text-align: right;\n",
       "    }\n",
       "</style>\n",
       "<table border=\"1\" class=\"dataframe\">\n",
       "  <thead>\n",
       "    <tr style=\"text-align: right;\">\n",
       "      <th></th>\n",
       "      <th>id</th>\n",
       "      <th>price_in_gram</th>\n",
       "      <th>from_district</th>\n",
       "      <th>from_province</th>\n",
       "      <th>to_district</th>\n",
       "      <th>to_province</th>\n",
       "      <th>weight_in_gram</th>\n",
       "      <th>package_type</th>\n",
       "    </tr>\n",
       "  </thead>\n",
       "  <tbody>\n",
       "    <tr>\n",
       "      <td>0</td>\n",
       "      <td>1</td>\n",
       "      <td>5.0</td>\n",
       "      <td>Karachi</td>\n",
       "      <td>Sindh</td>\n",
       "      <td>Rawalpindi</td>\n",
       "      <td>Punjab</td>\n",
       "      <td>10</td>\n",
       "      <td>DOCUMENTS</td>\n",
       "    </tr>\n",
       "    <tr>\n",
       "      <td>1</td>\n",
       "      <td>2</td>\n",
       "      <td>8.0</td>\n",
       "      <td>Rawalpindi</td>\n",
       "      <td>Punjab</td>\n",
       "      <td>Islamabd</td>\n",
       "      <td>Punjab</td>\n",
       "      <td>24</td>\n",
       "      <td>BOOK/COpy</td>\n",
       "    </tr>\n",
       "    <tr>\n",
       "      <td>2</td>\n",
       "      <td>3</td>\n",
       "      <td>8.0</td>\n",
       "      <td>Islamabd</td>\n",
       "      <td>Punjab</td>\n",
       "      <td>Rawalpindi</td>\n",
       "      <td>Punjab</td>\n",
       "      <td>16</td>\n",
       "      <td>DOCUMENTS</td>\n",
       "    </tr>\n",
       "    <tr>\n",
       "      <td>3</td>\n",
       "      <td>4</td>\n",
       "      <td>12.0</td>\n",
       "      <td>Rawalpindi</td>\n",
       "      <td>Punjab</td>\n",
       "      <td>Peshawer</td>\n",
       "      <td>KPK</td>\n",
       "      <td>20</td>\n",
       "      <td>BOOK/COpy</td>\n",
       "    </tr>\n",
       "    <tr>\n",
       "      <td>4</td>\n",
       "      <td>5</td>\n",
       "      <td>15.0</td>\n",
       "      <td>Islamabd</td>\n",
       "      <td>Punjab</td>\n",
       "      <td>Chakwal</td>\n",
       "      <td>Punjab</td>\n",
       "      <td>60</td>\n",
       "      <td>OTHER_PHYSICAL_INSTRUMENTS</td>\n",
       "    </tr>\n",
       "    <tr>\n",
       "      <td>...</td>\n",
       "      <td>...</td>\n",
       "      <td>...</td>\n",
       "      <td>...</td>\n",
       "      <td>...</td>\n",
       "      <td>...</td>\n",
       "      <td>...</td>\n",
       "      <td>...</td>\n",
       "      <td>...</td>\n",
       "    </tr>\n",
       "    <tr>\n",
       "      <td>512</td>\n",
       "      <td>513</td>\n",
       "      <td>119.0</td>\n",
       "      <td>Sheikupura</td>\n",
       "      <td>Punjab</td>\n",
       "      <td>Naushro feroz</td>\n",
       "      <td>Sindh</td>\n",
       "      <td>476</td>\n",
       "      <td>OTHER_PHYSICAL_INSTRUMENTS</td>\n",
       "    </tr>\n",
       "    <tr>\n",
       "      <td>513</td>\n",
       "      <td>514</td>\n",
       "      <td>120.0</td>\n",
       "      <td>Haripur</td>\n",
       "      <td>KPK</td>\n",
       "      <td>Naushro feroz</td>\n",
       "      <td>Sindh</td>\n",
       "      <td>480</td>\n",
       "      <td>OTHER_PHYSICAL_INSTRUMENTS</td>\n",
       "    </tr>\n",
       "    <tr>\n",
       "      <td>514</td>\n",
       "      <td>515</td>\n",
       "      <td>121.0</td>\n",
       "      <td>Haripur</td>\n",
       "      <td>KPK</td>\n",
       "      <td>Malir</td>\n",
       "      <td>Sindh</td>\n",
       "      <td>484</td>\n",
       "      <td>OTHER_PHYSICAL_INSTRUMENTS</td>\n",
       "    </tr>\n",
       "    <tr>\n",
       "      <td>515</td>\n",
       "      <td>516</td>\n",
       "      <td>122.0</td>\n",
       "      <td>Rawalakot</td>\n",
       "      <td>AJK</td>\n",
       "      <td>Malir</td>\n",
       "      <td>Sindh</td>\n",
       "      <td>488</td>\n",
       "      <td>OTHER_PHYSICAL_INSTRUMENTS</td>\n",
       "    </tr>\n",
       "    <tr>\n",
       "      <td>516</td>\n",
       "      <td>517</td>\n",
       "      <td>123.0</td>\n",
       "      <td>Bagh</td>\n",
       "      <td>AJK</td>\n",
       "      <td>Malir</td>\n",
       "      <td>Sindh</td>\n",
       "      <td>492</td>\n",
       "      <td>OTHER_PHYSICAL_INSTRUMENTS</td>\n",
       "    </tr>\n",
       "  </tbody>\n",
       "</table>\n",
       "<p>517 rows × 8 columns</p>\n",
       "</div>"
      ],
      "text/plain": [
       "      id  price_in_gram from_district from_province    to_district  \\\n",
       "0      1            5.0       Karachi         Sindh     Rawalpindi   \n",
       "1      2            8.0    Rawalpindi        Punjab       Islamabd   \n",
       "2      3            8.0      Islamabd        Punjab     Rawalpindi   \n",
       "3      4           12.0    Rawalpindi        Punjab       Peshawer   \n",
       "4      5           15.0      Islamabd        Punjab        Chakwal   \n",
       "..   ...            ...           ...           ...            ...   \n",
       "512  513          119.0    Sheikupura        Punjab  Naushro feroz   \n",
       "513  514          120.0       Haripur           KPK  Naushro feroz   \n",
       "514  515          121.0       Haripur           KPK          Malir   \n",
       "515  516          122.0     Rawalakot           AJK          Malir   \n",
       "516  517          123.0          Bagh           AJK          Malir   \n",
       "\n",
       "    to_province  weight_in_gram                package_type  \n",
       "0        Punjab              10                   DOCUMENTS  \n",
       "1        Punjab              24                   BOOK/COpy  \n",
       "2        Punjab              16                   DOCUMENTS  \n",
       "3           KPK              20                   BOOK/COpy  \n",
       "4        Punjab              60  OTHER_PHYSICAL_INSTRUMENTS  \n",
       "..          ...             ...                         ...  \n",
       "512       Sindh             476  OTHER_PHYSICAL_INSTRUMENTS  \n",
       "513       Sindh             480  OTHER_PHYSICAL_INSTRUMENTS  \n",
       "514       Sindh             484  OTHER_PHYSICAL_INSTRUMENTS  \n",
       "515       Sindh             488  OTHER_PHYSICAL_INSTRUMENTS  \n",
       "516       Sindh             492  OTHER_PHYSICAL_INSTRUMENTS  \n",
       "\n",
       "[517 rows x 8 columns]"
      ]
     },
     "execution_count": 2,
     "metadata": {},
     "output_type": "execute_result"
    }
   ],
   "source": [
    "\n",
    "df_pkg_rates=pd.read_csv(r'pacakagerates2.csv')\n",
    "df_pkg_rates"
   ]
  },
  {
   "cell_type": "code",
   "execution_count": 3,
   "metadata": {},
   "outputs": [
    {
     "data": {
      "text/html": [
       "<div>\n",
       "<style scoped>\n",
       "    .dataframe tbody tr th:only-of-type {\n",
       "        vertical-align: middle;\n",
       "    }\n",
       "\n",
       "    .dataframe tbody tr th {\n",
       "        vertical-align: top;\n",
       "    }\n",
       "\n",
       "    .dataframe thead th {\n",
       "        text-align: right;\n",
       "    }\n",
       "</style>\n",
       "<table border=\"1\" class=\"dataframe\">\n",
       "  <thead>\n",
       "    <tr style=\"text-align: right;\">\n",
       "      <th></th>\n",
       "      <th>id</th>\n",
       "      <th>price_in_gram</th>\n",
       "      <th>from_district</th>\n",
       "      <th>from_province</th>\n",
       "      <th>to_district</th>\n",
       "      <th>to_province</th>\n",
       "      <th>weight_in_gram</th>\n",
       "      <th>package_type</th>\n",
       "    </tr>\n",
       "  </thead>\n",
       "  <tbody>\n",
       "    <tr>\n",
       "      <td>0</td>\n",
       "      <td>1</td>\n",
       "      <td>5.0</td>\n",
       "      <td>Karachi</td>\n",
       "      <td>Sindh</td>\n",
       "      <td>Rawalpindi</td>\n",
       "      <td>Punjab</td>\n",
       "      <td>10</td>\n",
       "      <td>DOCUMENTS</td>\n",
       "    </tr>\n",
       "    <tr>\n",
       "      <td>1</td>\n",
       "      <td>2</td>\n",
       "      <td>8.0</td>\n",
       "      <td>Rawalpindi</td>\n",
       "      <td>Punjab</td>\n",
       "      <td>Islamabd</td>\n",
       "      <td>Punjab</td>\n",
       "      <td>24</td>\n",
       "      <td>BOOK/COpy</td>\n",
       "    </tr>\n",
       "    <tr>\n",
       "      <td>2</td>\n",
       "      <td>3</td>\n",
       "      <td>8.0</td>\n",
       "      <td>Islamabd</td>\n",
       "      <td>Punjab</td>\n",
       "      <td>Rawalpindi</td>\n",
       "      <td>Punjab</td>\n",
       "      <td>16</td>\n",
       "      <td>DOCUMENTS</td>\n",
       "    </tr>\n",
       "    <tr>\n",
       "      <td>3</td>\n",
       "      <td>4</td>\n",
       "      <td>12.0</td>\n",
       "      <td>Rawalpindi</td>\n",
       "      <td>Punjab</td>\n",
       "      <td>Peshawer</td>\n",
       "      <td>KPK</td>\n",
       "      <td>20</td>\n",
       "      <td>BOOK/COpy</td>\n",
       "    </tr>\n",
       "    <tr>\n",
       "      <td>4</td>\n",
       "      <td>5</td>\n",
       "      <td>15.0</td>\n",
       "      <td>Islamabd</td>\n",
       "      <td>Punjab</td>\n",
       "      <td>Chakwal</td>\n",
       "      <td>Punjab</td>\n",
       "      <td>60</td>\n",
       "      <td>OTHER_PHYSICAL_INSTRUMENTS</td>\n",
       "    </tr>\n",
       "  </tbody>\n",
       "</table>\n",
       "</div>"
      ],
      "text/plain": [
       "   id  price_in_gram from_district from_province to_district to_province  \\\n",
       "0   1            5.0       Karachi         Sindh  Rawalpindi      Punjab   \n",
       "1   2            8.0    Rawalpindi        Punjab    Islamabd      Punjab   \n",
       "2   3            8.0      Islamabd        Punjab  Rawalpindi      Punjab   \n",
       "3   4           12.0    Rawalpindi        Punjab    Peshawer         KPK   \n",
       "4   5           15.0      Islamabd        Punjab     Chakwal      Punjab   \n",
       "\n",
       "   weight_in_gram                package_type  \n",
       "0              10                   DOCUMENTS  \n",
       "1              24                   BOOK/COpy  \n",
       "2              16                   DOCUMENTS  \n",
       "3              20                   BOOK/COpy  \n",
       "4              60  OTHER_PHYSICAL_INSTRUMENTS  "
      ]
     },
     "execution_count": 3,
     "metadata": {},
     "output_type": "execute_result"
    }
   ],
   "source": [
    "# to see top 5 rows \n",
    "df_pkg_rates.head(5)"
   ]
  },
  {
   "cell_type": "code",
   "execution_count": 4,
   "metadata": {},
   "outputs": [
    {
     "data": {
      "text/html": [
       "<div>\n",
       "<style scoped>\n",
       "    .dataframe tbody tr th:only-of-type {\n",
       "        vertical-align: middle;\n",
       "    }\n",
       "\n",
       "    .dataframe tbody tr th {\n",
       "        vertical-align: top;\n",
       "    }\n",
       "\n",
       "    .dataframe thead th {\n",
       "        text-align: right;\n",
       "    }\n",
       "</style>\n",
       "<table border=\"1\" class=\"dataframe\">\n",
       "  <thead>\n",
       "    <tr style=\"text-align: right;\">\n",
       "      <th></th>\n",
       "      <th>id</th>\n",
       "      <th>price_in_gram</th>\n",
       "      <th>from_district</th>\n",
       "      <th>from_province</th>\n",
       "      <th>to_district</th>\n",
       "      <th>to_province</th>\n",
       "      <th>weight_in_gram</th>\n",
       "      <th>package_type</th>\n",
       "    </tr>\n",
       "  </thead>\n",
       "  <tbody>\n",
       "    <tr>\n",
       "      <td>512</td>\n",
       "      <td>513</td>\n",
       "      <td>119.0</td>\n",
       "      <td>Sheikupura</td>\n",
       "      <td>Punjab</td>\n",
       "      <td>Naushro feroz</td>\n",
       "      <td>Sindh</td>\n",
       "      <td>476</td>\n",
       "      <td>OTHER_PHYSICAL_INSTRUMENTS</td>\n",
       "    </tr>\n",
       "    <tr>\n",
       "      <td>513</td>\n",
       "      <td>514</td>\n",
       "      <td>120.0</td>\n",
       "      <td>Haripur</td>\n",
       "      <td>KPK</td>\n",
       "      <td>Naushro feroz</td>\n",
       "      <td>Sindh</td>\n",
       "      <td>480</td>\n",
       "      <td>OTHER_PHYSICAL_INSTRUMENTS</td>\n",
       "    </tr>\n",
       "    <tr>\n",
       "      <td>514</td>\n",
       "      <td>515</td>\n",
       "      <td>121.0</td>\n",
       "      <td>Haripur</td>\n",
       "      <td>KPK</td>\n",
       "      <td>Malir</td>\n",
       "      <td>Sindh</td>\n",
       "      <td>484</td>\n",
       "      <td>OTHER_PHYSICAL_INSTRUMENTS</td>\n",
       "    </tr>\n",
       "    <tr>\n",
       "      <td>515</td>\n",
       "      <td>516</td>\n",
       "      <td>122.0</td>\n",
       "      <td>Rawalakot</td>\n",
       "      <td>AJK</td>\n",
       "      <td>Malir</td>\n",
       "      <td>Sindh</td>\n",
       "      <td>488</td>\n",
       "      <td>OTHER_PHYSICAL_INSTRUMENTS</td>\n",
       "    </tr>\n",
       "    <tr>\n",
       "      <td>516</td>\n",
       "      <td>517</td>\n",
       "      <td>123.0</td>\n",
       "      <td>Bagh</td>\n",
       "      <td>AJK</td>\n",
       "      <td>Malir</td>\n",
       "      <td>Sindh</td>\n",
       "      <td>492</td>\n",
       "      <td>OTHER_PHYSICAL_INSTRUMENTS</td>\n",
       "    </tr>\n",
       "  </tbody>\n",
       "</table>\n",
       "</div>"
      ],
      "text/plain": [
       "      id  price_in_gram from_district from_province    to_district  \\\n",
       "512  513          119.0    Sheikupura        Punjab  Naushro feroz   \n",
       "513  514          120.0       Haripur           KPK  Naushro feroz   \n",
       "514  515          121.0       Haripur           KPK          Malir   \n",
       "515  516          122.0     Rawalakot           AJK          Malir   \n",
       "516  517          123.0          Bagh           AJK          Malir   \n",
       "\n",
       "    to_province  weight_in_gram                package_type  \n",
       "512       Sindh             476  OTHER_PHYSICAL_INSTRUMENTS  \n",
       "513       Sindh             480  OTHER_PHYSICAL_INSTRUMENTS  \n",
       "514       Sindh             484  OTHER_PHYSICAL_INSTRUMENTS  \n",
       "515       Sindh             488  OTHER_PHYSICAL_INSTRUMENTS  \n",
       "516       Sindh             492  OTHER_PHYSICAL_INSTRUMENTS  "
      ]
     },
     "execution_count": 4,
     "metadata": {},
     "output_type": "execute_result"
    }
   ],
   "source": [
    "# to see bottom 5 rows \n",
    "df_pkg_rates.tail(5)"
   ]
  },
  {
   "cell_type": "markdown",
   "metadata": {},
   "source": [
    "# To see all columns and rows"
   ]
  },
  {
   "cell_type": "code",
   "execution_count": 5,
   "metadata": {},
   "outputs": [
    {
     "data": {
      "text/plain": [
       "(517, 8)"
      ]
     },
     "execution_count": 5,
     "metadata": {},
     "output_type": "execute_result"
    }
   ],
   "source": [
    "df_pkg_rates.shape"
   ]
  },
  {
   "cell_type": "code",
   "execution_count": 6,
   "metadata": {},
   "outputs": [
    {
     "data": {
      "text/plain": [
       "Index(['id', 'price_in_gram', 'from_district', 'from_province', 'to_district',\n",
       "       'to_province', 'weight_in_gram', 'package_type'],\n",
       "      dtype='object')"
      ]
     },
     "execution_count": 6,
     "metadata": {},
     "output_type": "execute_result"
    }
   ],
   "source": [
    "df_pkg_rates.columns"
   ]
  },
  {
   "cell_type": "code",
   "execution_count": 7,
   "metadata": {},
   "outputs": [
    {
     "name": "stdout",
     "output_type": "stream",
     "text": [
      "<class 'pandas.core.frame.DataFrame'>\n",
      "RangeIndex: 517 entries, 0 to 516\n",
      "Data columns (total 8 columns):\n",
      "id                517 non-null int64\n",
      "price_in_gram     517 non-null float64\n",
      "from_district     517 non-null object\n",
      "from_province     517 non-null object\n",
      "to_district       517 non-null object\n",
      "to_province       517 non-null object\n",
      "weight_in_gram    517 non-null int64\n",
      "package_type      517 non-null object\n",
      "dtypes: float64(1), int64(2), object(5)\n",
      "memory usage: 32.4+ KB\n"
     ]
    }
   ],
   "source": [
    "df_pkg_rates.info()"
   ]
  },
  {
   "cell_type": "markdown",
   "metadata": {},
   "source": [
    "# Statistical Discription"
   ]
  },
  {
   "cell_type": "code",
   "execution_count": 8,
   "metadata": {},
   "outputs": [
    {
     "data": {
      "text/html": [
       "<div>\n",
       "<style scoped>\n",
       "    .dataframe tbody tr th:only-of-type {\n",
       "        vertical-align: middle;\n",
       "    }\n",
       "\n",
       "    .dataframe tbody tr th {\n",
       "        vertical-align: top;\n",
       "    }\n",
       "\n",
       "    .dataframe thead th {\n",
       "        text-align: right;\n",
       "    }\n",
       "</style>\n",
       "<table border=\"1\" class=\"dataframe\">\n",
       "  <thead>\n",
       "    <tr style=\"text-align: right;\">\n",
       "      <th></th>\n",
       "      <th>from_district</th>\n",
       "      <th>from_province</th>\n",
       "      <th>to_district</th>\n",
       "      <th>to_province</th>\n",
       "      <th>package_type</th>\n",
       "    </tr>\n",
       "  </thead>\n",
       "  <tbody>\n",
       "    <tr>\n",
       "      <td>count</td>\n",
       "      <td>517</td>\n",
       "      <td>517</td>\n",
       "      <td>517</td>\n",
       "      <td>517</td>\n",
       "      <td>517</td>\n",
       "    </tr>\n",
       "    <tr>\n",
       "      <td>unique</td>\n",
       "      <td>51</td>\n",
       "      <td>6</td>\n",
       "      <td>52</td>\n",
       "      <td>5</td>\n",
       "      <td>3</td>\n",
       "    </tr>\n",
       "    <tr>\n",
       "      <td>top</td>\n",
       "      <td>Rawalpindi</td>\n",
       "      <td>Punjab</td>\n",
       "      <td>Rawalpindi</td>\n",
       "      <td>Punjab</td>\n",
       "      <td>DOCUMENTS</td>\n",
       "    </tr>\n",
       "    <tr>\n",
       "      <td>freq</td>\n",
       "      <td>57</td>\n",
       "      <td>311</td>\n",
       "      <td>68</td>\n",
       "      <td>281</td>\n",
       "      <td>204</td>\n",
       "    </tr>\n",
       "  </tbody>\n",
       "</table>\n",
       "</div>"
      ],
      "text/plain": [
       "       from_district from_province to_district to_province package_type\n",
       "count            517           517         517         517          517\n",
       "unique            51             6          52           5            3\n",
       "top       Rawalpindi        Punjab  Rawalpindi      Punjab    DOCUMENTS\n",
       "freq              57           311          68         281          204"
      ]
     },
     "execution_count": 8,
     "metadata": {},
     "output_type": "execute_result"
    }
   ],
   "source": [
    "# for objects\n",
    "df_pkg_rates.describe(include='object')"
   ]
  },
  {
   "cell_type": "code",
   "execution_count": 9,
   "metadata": {},
   "outputs": [
    {
     "data": {
      "text/html": [
       "<div>\n",
       "<style scoped>\n",
       "    .dataframe tbody tr th:only-of-type {\n",
       "        vertical-align: middle;\n",
       "    }\n",
       "\n",
       "    .dataframe tbody tr th {\n",
       "        vertical-align: top;\n",
       "    }\n",
       "\n",
       "    .dataframe thead th {\n",
       "        text-align: right;\n",
       "    }\n",
       "</style>\n",
       "<table border=\"1\" class=\"dataframe\">\n",
       "  <thead>\n",
       "    <tr style=\"text-align: right;\">\n",
       "      <th></th>\n",
       "      <th>id</th>\n",
       "      <th>price_in_gram</th>\n",
       "      <th>weight_in_gram</th>\n",
       "    </tr>\n",
       "  </thead>\n",
       "  <tbody>\n",
       "    <tr>\n",
       "      <td>count</td>\n",
       "      <td>517.000000</td>\n",
       "      <td>517.000000</td>\n",
       "      <td>517.000000</td>\n",
       "    </tr>\n",
       "    <tr>\n",
       "      <td>mean</td>\n",
       "      <td>259.000000</td>\n",
       "      <td>68.132495</td>\n",
       "      <td>197.392650</td>\n",
       "    </tr>\n",
       "    <tr>\n",
       "      <td>std</td>\n",
       "      <td>149.389312</td>\n",
       "      <td>38.310243</td>\n",
       "      <td>129.136363</td>\n",
       "    </tr>\n",
       "    <tr>\n",
       "      <td>min</td>\n",
       "      <td>1.000000</td>\n",
       "      <td>1.500000</td>\n",
       "      <td>5.000000</td>\n",
       "    </tr>\n",
       "    <tr>\n",
       "      <td>25%</td>\n",
       "      <td>130.000000</td>\n",
       "      <td>35.000000</td>\n",
       "      <td>90.000000</td>\n",
       "    </tr>\n",
       "    <tr>\n",
       "      <td>50%</td>\n",
       "      <td>259.000000</td>\n",
       "      <td>70.000000</td>\n",
       "      <td>174.000000</td>\n",
       "    </tr>\n",
       "    <tr>\n",
       "      <td>75%</td>\n",
       "      <td>388.000000</td>\n",
       "      <td>99.000000</td>\n",
       "      <td>309.000000</td>\n",
       "    </tr>\n",
       "    <tr>\n",
       "      <td>max</td>\n",
       "      <td>517.000000</td>\n",
       "      <td>160.000000</td>\n",
       "      <td>492.000000</td>\n",
       "    </tr>\n",
       "  </tbody>\n",
       "</table>\n",
       "</div>"
      ],
      "text/plain": [
       "               id  price_in_gram  weight_in_gram\n",
       "count  517.000000     517.000000      517.000000\n",
       "mean   259.000000      68.132495      197.392650\n",
       "std    149.389312      38.310243      129.136363\n",
       "min      1.000000       1.500000        5.000000\n",
       "25%    130.000000      35.000000       90.000000\n",
       "50%    259.000000      70.000000      174.000000\n",
       "75%    388.000000      99.000000      309.000000\n",
       "max    517.000000     160.000000      492.000000"
      ]
     },
     "execution_count": 9,
     "metadata": {},
     "output_type": "execute_result"
    }
   ],
   "source": [
    "# for Numeric\n",
    "df_pkg_rates.describe()"
   ]
  },
  {
   "cell_type": "markdown",
   "metadata": {},
   "source": [
    "# Data Cleaning\n",
    "<b> PackageRates datset <b>"
   ]
  },
  {
   "cell_type": "code",
   "execution_count": 10,
   "metadata": {},
   "outputs": [],
   "source": [
    "# data is clean as it was real and self created but will check all ways for dirty data"
   ]
  },
  {
   "cell_type": "code",
   "execution_count": 11,
   "metadata": {},
   "outputs": [
    {
     "name": "stdout",
     "output_type": "stream",
     "text": [
      "id                0\n",
      "price_in_gram     0\n",
      "from_district     0\n",
      "from_province     0\n",
      "to_district       0\n",
      "to_province       0\n",
      "weight_in_gram    0\n",
      "package_type      0\n",
      "dtype: int64\n",
      "Total Missing values: 0\n"
     ]
    }
   ],
   "source": [
    "# to check null\n",
    "print (df_pkg_rates.isnull().sum())\n",
    "print (\"Total Missing values: \" + str(df_pkg_rates.isnull().sum().sum()))"
   ]
  },
  {
   "cell_type": "code",
   "execution_count": 12,
   "metadata": {},
   "outputs": [
    {
     "name": "stdout",
     "output_type": "stream",
     "text": [
      "Outliers in: price_in_gram: \n",
      "0\n",
      "Outliers in: from_district: \n",
      "0\n",
      "Outliers in: from_province: \n",
      "0\n",
      "Outliers in: to_district: \n",
      "0\n",
      "Outliers in: to_province: \n",
      "0\n",
      "Outliers in: weight_in_gram: \n",
      "0\n",
      "Outliers in: package_type: \n",
      "0\n"
     ]
    }
   ],
   "source": [
    "# Check if having any outliers\n",
    "\n",
    "\n",
    "# calculate summary statistics\n",
    "#data_mean, data_std = dataframe.mean(), std(dataframe)\n",
    "from numpy import mean\n",
    "from numpy import std\n",
    "\n",
    "data_mean = mean(df_pkg_rates._get_numeric_data())\n",
    "data_std = std(df_pkg_rates._get_numeric_data())\n",
    "# identify outliers\n",
    "cut_off = data_std * 3\n",
    "lower, upper = data_mean - cut_off, data_mean + cut_off\n",
    "# identify outliers\n",
    "total_outliers = 0\n",
    "for i, x in enumerate(df_pkg_rates):\n",
    "    if not i == 0:\n",
    "        print (\"Outliers in: \" + str(x) + \": \")\n",
    "        try:\n",
    "            outliers = dataframe[df_pkg_rates[x] > df_pkg_rates[x].mean() + 3 * df_pkg_rates[x].std()]\n",
    "            print (len(outliers))\n",
    "            total_outliers += outliers\n",
    "        except:\n",
    "            print(\"0\")\n",
    "#outliers = [x for x in dff[] if x < lower or x > upper]\n",
    "#print('Identified outliers: %d' % len(outliers))\n",
    "# remove outliers\n",
    "#outliers_removed = [x for x in dff if x >= lower and x <= upper]\n",
    "#print('Non-outlier observations: %d' % len(outliers_removed))"
   ]
  },
  {
   "cell_type": "markdown",
   "metadata": {},
   "source": [
    "<b> We have a very clean data set of package rates csv. <b>"
   ]
  },
  {
   "cell_type": "markdown",
   "metadata": {},
   "source": [
    "# Data Analysis And Visualization/ Interpretation\n",
    "<b> Package rates <b>"
   ]
  },
  {
   "cell_type": "markdown",
   "metadata": {},
   "source": [
    "<b> We will analyze some insights from dataset in form of visualization <b> "
   ]
  },
  {
   "cell_type": "markdown",
   "metadata": {},
   "source": [
    "# 1- Show by graph total number of Packages send by each district to find which District is sending Most packages"
   ]
  },
  {
   "cell_type": "code",
   "execution_count": 15,
   "metadata": {},
   "outputs": [
    {
     "data": {
      "image/png": "[encoded data removed]",
      "text/plain": [
       "<Figure size 1152x504 with 1 Axes>"
      ]
     },
     "metadata": {
      "needs_background": "light"
     },
     "output_type": "display_data"
    }
   ],
   "source": [
    "plt.rcParams['figure.figsize']=(16,7)\n",
    "df_pkg_rates.groupby('from_district')['id'].nunique().plot(kind='bar')\n",
    "figsize=(28,5)\n",
    "plt.xlabel('District')\n",
    "plt.ylabel('Total Number')\n",
    "plt.show()"
   ]
  },
  {
   "cell_type": "markdown",
   "metadata": {},
   "source": [
    "# Below The list of counting of total number of sent pacakages city/District"
   ]
  },
  {
   "cell_type": "code",
   "execution_count": 14,
   "metadata": {},
   "outputs": [
    {
     "data": {
      "text/plain": [
       "517"
      ]
     },
     "execution_count": 14,
     "metadata": {},
     "output_type": "execute_result"
    }
   ],
   "source": [
    "df_pkg_rates['from_district'].count()"
   ]
  },
  {
   "cell_type": "code",
   "execution_count": 15,
   "metadata": {},
   "outputs": [
    {
     "name": "stdout",
     "output_type": "stream",
     "text": [
      "57\n"
     ]
    }
   ],
   "source": [
    "rwp= df_pkg_rates.from_district.value_counts()['Rawalpindi']\n",
    "print(rwp)"
   ]
  },
  {
   "cell_type": "code",
   "execution_count": 16,
   "metadata": {},
   "outputs": [
    {
     "name": "stdout",
     "output_type": "stream",
     "text": [
      "54\n"
     ]
    }
   ],
   "source": [
    "isl= df_pkg_rates.from_district.value_counts()['Islamabd']\n",
    "print(isl)"
   ]
  },
  {
   "cell_type": "code",
   "execution_count": 17,
   "metadata": {},
   "outputs": [
    {
     "name": "stdout",
     "output_type": "stream",
     "text": [
      "23\n"
     ]
    }
   ],
   "source": [
    "lhr= df_pkg_rates.from_district.value_counts()['Lahore']\n",
    "print(lhr)"
   ]
  },
  {
   "cell_type": "code",
   "execution_count": 18,
   "metadata": {},
   "outputs": [
    {
     "name": "stdout",
     "output_type": "stream",
     "text": [
      "16\n"
     ]
    }
   ],
   "source": [
    "kri= df_pkg_rates.from_district.value_counts()['Karachi']\n",
    "print(kri)"
   ]
  },
  {
   "cell_type": "markdown",
   "metadata": {},
   "source": [
    "# 2-  Show by graph total number of Packages Received by each District and  find which District is Receiving Most packages"
   ]
  },
  {
   "cell_type": "code",
   "execution_count": 18,
   "metadata": {},
   "outputs": [
    {
     "data": {
      "image/png": "[encoded data removed]",
      "text/plain": [
       "<Figure size 1152x432 with 1 Axes>"
      ]
     },
     "metadata": {
      "needs_background": "light"
     },
     "output_type": "display_data"
    }
   ],
   "source": [
    "plt.rcParams['figure.figsize']=(16,6)\n",
    "plt.xlabel('District')\n",
    "plt.ylabel('Total Number')\n",
    "df_pkg_rates.groupby('to_district')['id'].nunique().plot(kind='bar')\n",
    "plt.show()"
   ]
  },
  {
   "cell_type": "markdown",
   "metadata": {},
   "source": [
    "# Below The list of counting of total number of receive pacakages city/District"
   ]
  },
  {
   "cell_type": "code",
   "execution_count": 20,
   "metadata": {},
   "outputs": [
    {
     "name": "stdout",
     "output_type": "stream",
     "text": [
      "68\n"
     ]
    }
   ],
   "source": [
    "rwp= df_pkg_rates.to_district.value_counts()['Rawalpindi']\n",
    "print(rwp)"
   ]
  },
  {
   "cell_type": "code",
   "execution_count": 21,
   "metadata": {},
   "outputs": [
    {
     "name": "stdout",
     "output_type": "stream",
     "text": [
      "52\n"
     ]
    }
   ],
   "source": [
    "isl= df_pkg_rates.to_district.value_counts()['Islamabd']\n",
    "print(isl)"
   ]
  },
  {
   "cell_type": "code",
   "execution_count": 22,
   "metadata": {},
   "outputs": [
    {
     "name": "stdout",
     "output_type": "stream",
     "text": [
      "11\n"
     ]
    }
   ],
   "source": [
    "lhr= df_pkg_rates.to_district.value_counts()['Lahore']\n",
    "print(lhr)"
   ]
  },
  {
   "cell_type": "code",
   "execution_count": 23,
   "metadata": {},
   "outputs": [
    {
     "name": "stdout",
     "output_type": "stream",
     "text": [
      "27\n"
     ]
    }
   ],
   "source": [
    "kri= df_pkg_rates.to_district.value_counts()['Karachi']\n",
    "print(kri)"
   ]
  },
  {
   "cell_type": "code",
   "execution_count": 24,
   "metadata": {},
   "outputs": [
    {
     "name": "stdout",
     "output_type": "stream",
     "text": [
      "17\n"
     ]
    }
   ],
   "source": [
    "mul=df_pkg_rates.to_district.value_counts()['Multan']\n",
    "print(mul)"
   ]
  },
  {
   "cell_type": "markdown",
   "metadata": {},
   "source": [
    "# 3-  Show by graph total number of Packages Sent by each Province and  find which province is Sending Most packages"
   ]
  },
  {
   "cell_type": "code",
   "execution_count": 25,
   "metadata": {},
   "outputs": [
    {
     "data": {
      "text/plain": [
       "<matplotlib.axes._subplots.AxesSubplot at 0x2510e167e88>"
      ]
     },
     "execution_count": 25,
     "metadata": {},
     "output_type": "execute_result"
    },
    {
     "data": {
      "image/png": "[encoded data removed]",
      "text/plain": [
       "<Figure size 576x288 with 1 Axes>"
      ]
     },
     "metadata": {
      "needs_background": "light"
     },
     "output_type": "display_data"
    }
   ],
   "source": [
    "plt.rcParams['figure.figsize']=(8,4)\n",
    "plt.xlabel('province')\n",
    "plt.ylabel('Total Number')\n",
    "df_pkg_rates.to_province.hist()"
   ]
  },
  {
   "cell_type": "markdown",
   "metadata": {},
   "source": [
    "# To see by Numbering"
   ]
  },
  {
   "cell_type": "code",
   "execution_count": 26,
   "metadata": {},
   "outputs": [
    {
     "data": {
      "text/plain": [
       "89"
      ]
     },
     "execution_count": 26,
     "metadata": {},
     "output_type": "execute_result"
    }
   ],
   "source": [
    "Sindh= df_pkg_rates.to_province.value_counts()['Sindh']\n",
    "Sindh"
   ]
  },
  {
   "cell_type": "code",
   "execution_count": 27,
   "metadata": {},
   "outputs": [
    {
     "data": {
      "text/plain": [
       "35"
      ]
     },
     "execution_count": 27,
     "metadata": {},
     "output_type": "execute_result"
    }
   ],
   "source": [
    "Ajk= df_pkg_rates.to_province.value_counts()['AJK']\n",
    "Ajk"
   ]
  },
  {
   "cell_type": "code",
   "execution_count": 28,
   "metadata": {},
   "outputs": [
    {
     "data": {
      "text/plain": [
       "281"
      ]
     },
     "execution_count": 28,
     "metadata": {},
     "output_type": "execute_result"
    }
   ],
   "source": [
    "Punjab= df_pkg_rates.to_province.value_counts()['Punjab']\n",
    "Punjab"
   ]
  },
  {
   "cell_type": "code",
   "execution_count": 29,
   "metadata": {},
   "outputs": [
    {
     "data": {
      "text/plain": [
       "55"
      ]
     },
     "execution_count": 29,
     "metadata": {},
     "output_type": "execute_result"
    }
   ],
   "source": [
    "Kpk= df_pkg_rates.to_province.value_counts()['KPK']\n",
    "Kpk"
   ]
  },
  {
   "cell_type": "code",
   "execution_count": 30,
   "metadata": {},
   "outputs": [
    {
     "data": {
      "text/plain": [
       "57"
      ]
     },
     "execution_count": 30,
     "metadata": {},
     "output_type": "execute_result"
    }
   ],
   "source": [
    "Baloch= df_pkg_rates.to_province.value_counts()['Balochistan']\n",
    "Baloch"
   ]
  },
  {
   "cell_type": "markdown",
   "metadata": {},
   "source": [
    "# 4- Show by graph total number of Packages Received by each Province and  find which province is Receiving Most packages"
   ]
  },
  {
   "cell_type": "code",
   "execution_count": 19,
   "metadata": {},
   "outputs": [
    {
     "data": {
      "image/png": "[encoded data removed]",
      "text/plain": [
       "<Figure size 864x432 with 1 Axes>"
      ]
     },
     "metadata": {
      "needs_background": "light"
     },
     "output_type": "display_data"
    }
   ],
   "source": [
    "plt.rcParams['figure.figsize']=(12,6)\n",
    "df_pkg_rates.groupby('to_province')['id'].nunique().plot(kind='bar')\n",
    "plt.xlabel('province')\n",
    "plt.ylabel('Total Number')\n",
    "figsize=(28,5)\n",
    "plt.show()"
   ]
  },
  {
   "cell_type": "markdown",
   "metadata": {},
   "source": [
    "# To show by Numbering"
   ]
  },
  {
   "cell_type": "code",
   "execution_count": 32,
   "metadata": {},
   "outputs": [
    {
     "data": {
      "text/plain": [
       "35"
      ]
     },
     "execution_count": 32,
     "metadata": {},
     "output_type": "execute_result"
    }
   ],
   "source": [
    "Ajk= df_pkg_rates.to_province.value_counts()['AJK']\n",
    "Ajk"
   ]
  },
  {
   "cell_type": "code",
   "execution_count": 33,
   "metadata": {},
   "outputs": [
    {
     "data": {
      "text/plain": [
       "281"
      ]
     },
     "execution_count": 33,
     "metadata": {},
     "output_type": "execute_result"
    }
   ],
   "source": [
    "Punjab=df_pkg_rates.to_province.value_counts()['Punjab']\n",
    "Punjab"
   ]
  },
  {
   "cell_type": "code",
   "execution_count": 34,
   "metadata": {},
   "outputs": [
    {
     "data": {
      "text/plain": [
       "89"
      ]
     },
     "execution_count": 34,
     "metadata": {},
     "output_type": "execute_result"
    }
   ],
   "source": [
    "Sindh=df_pkg_rates.to_province.value_counts()['Sindh']\n",
    "Sindh"
   ]
  },
  {
   "cell_type": "code",
   "execution_count": 35,
   "metadata": {},
   "outputs": [
    {
     "data": {
      "text/plain": [
       "55"
      ]
     },
     "execution_count": 35,
     "metadata": {},
     "output_type": "execute_result"
    }
   ],
   "source": [
    "Kpk=df_pkg_rates.to_province.value_counts()['KPK']\n",
    "Kpk"
   ]
  },
  {
   "cell_type": "code",
   "execution_count": 36,
   "metadata": {},
   "outputs": [
    {
     "data": {
      "text/plain": [
       "57"
      ]
     },
     "execution_count": 36,
     "metadata": {},
     "output_type": "execute_result"
    }
   ],
   "source": [
    "Baloch=df_pkg_rates.to_province.value_counts()['Balochistan']\n",
    "Baloch"
   ]
  },
  {
   "cell_type": "markdown",
   "metadata": {},
   "source": [
    "# 5-  Show by graph total number of Packages to see which package is more used"
   ]
  },
  {
   "cell_type": "code",
   "execution_count": 26,
   "metadata": {},
   "outputs": [
    {
     "data": {
      "image/png": "[encoded data removed]",
      "text/plain": [
       "<Figure size 720x504 with 1 Axes>"
      ]
     },
     "metadata": {
      "needs_background": "light"
     },
     "output_type": "display_data"
    }
   ],
   "source": [
    "\n",
    "plt.rcParams['figure.figsize']=(10,7)\n",
    "df_pkg_rates.package_type.hist(color = \"red\", ec=\"skyblue\")\n",
    "plt.xlabel('Package Type')\n",
    "plt.ylabel('Total Number')\n",
    "\n",
    "plt.show()"
   ]
  },
  {
   "cell_type": "markdown",
   "metadata": {},
   "source": [
    "# To See by Numbering"
   ]
  },
  {
   "cell_type": "code",
   "execution_count": 27,
   "metadata": {},
   "outputs": [
    {
     "data": {
      "text/plain": [
       "204"
      ]
     },
     "execution_count": 27,
     "metadata": {},
     "output_type": "execute_result"
    }
   ],
   "source": [
    "docs=df_pkg_rates.package_type.value_counts()['DOCUMENTS']\n",
    "docs"
   ]
  },
  {
   "cell_type": "code",
   "execution_count": 29,
   "metadata": {},
   "outputs": [
    {
     "data": {
      "text/plain": [
       "189"
      ]
     },
     "execution_count": 29,
     "metadata": {},
     "output_type": "execute_result"
    }
   ],
   "source": [
    "book=df_pkg_rates.package_type.value_counts()['BOOK/COpy']\n",
    "book"
   ]
  },
  {
   "cell_type": "code",
   "execution_count": 30,
   "metadata": {},
   "outputs": [
    {
     "data": {
      "text/plain": [
       "124"
      ]
     },
     "execution_count": 30,
     "metadata": {},
     "output_type": "execute_result"
    }
   ],
   "source": [
    "pyhsical=df_pkg_rates.package_type.value_counts()['OTHER_PHYSICAL_INSTRUMENTS']\n",
    "pyhsical"
   ]
  },
  {
   "cell_type": "code",
   "execution_count": 38,
   "metadata": {},
   "outputs": [
    {
     "data": {
      "text/html": [
       "<div>\n",
       "<style scoped>\n",
       "    .dataframe tbody tr th:only-of-type {\n",
       "        vertical-align: middle;\n",
       "    }\n",
       "\n",
       "    .dataframe tbody tr th {\n",
       "        vertical-align: top;\n",
       "    }\n",
       "\n",
       "    .dataframe thead th {\n",
       "        text-align: right;\n",
       "    }\n",
       "</style>\n",
       "<table border=\"1\" class=\"dataframe\">\n",
       "  <thead>\n",
       "    <tr style=\"text-align: right;\">\n",
       "      <th></th>\n",
       "      <th>id</th>\n",
       "      <th>price_in_gram</th>\n",
       "      <th>from_district</th>\n",
       "      <th>from_province</th>\n",
       "      <th>to_district</th>\n",
       "      <th>to_province</th>\n",
       "      <th>weight_in_gram</th>\n",
       "      <th>package_type</th>\n",
       "    </tr>\n",
       "  </thead>\n",
       "  <tbody>\n",
       "    <tr>\n",
       "      <td>0</td>\n",
       "      <td>1</td>\n",
       "      <td>5.0</td>\n",
       "      <td>Karachi</td>\n",
       "      <td>Sindh</td>\n",
       "      <td>Rawalpindi</td>\n",
       "      <td>Punjab</td>\n",
       "      <td>10</td>\n",
       "      <td>DOCUMENTS</td>\n",
       "    </tr>\n",
       "    <tr>\n",
       "      <td>1</td>\n",
       "      <td>2</td>\n",
       "      <td>8.0</td>\n",
       "      <td>Rawalpindi</td>\n",
       "      <td>Punjab</td>\n",
       "      <td>Islamabd</td>\n",
       "      <td>Punjab</td>\n",
       "      <td>24</td>\n",
       "      <td>BOOK/COpy</td>\n",
       "    </tr>\n",
       "    <tr>\n",
       "      <td>2</td>\n",
       "      <td>3</td>\n",
       "      <td>8.0</td>\n",
       "      <td>Islamabd</td>\n",
       "      <td>Punjab</td>\n",
       "      <td>Rawalpindi</td>\n",
       "      <td>Punjab</td>\n",
       "      <td>16</td>\n",
       "      <td>DOCUMENTS</td>\n",
       "    </tr>\n",
       "    <tr>\n",
       "      <td>3</td>\n",
       "      <td>4</td>\n",
       "      <td>12.0</td>\n",
       "      <td>Rawalpindi</td>\n",
       "      <td>Punjab</td>\n",
       "      <td>Peshawer</td>\n",
       "      <td>KPK</td>\n",
       "      <td>20</td>\n",
       "      <td>BOOK/COpy</td>\n",
       "    </tr>\n",
       "    <tr>\n",
       "      <td>4</td>\n",
       "      <td>5</td>\n",
       "      <td>15.0</td>\n",
       "      <td>Islamabd</td>\n",
       "      <td>Punjab</td>\n",
       "      <td>Chakwal</td>\n",
       "      <td>Punjab</td>\n",
       "      <td>60</td>\n",
       "      <td>OTHER_PHYSICAL_INSTRUMENTS</td>\n",
       "    </tr>\n",
       "    <tr>\n",
       "      <td>...</td>\n",
       "      <td>...</td>\n",
       "      <td>...</td>\n",
       "      <td>...</td>\n",
       "      <td>...</td>\n",
       "      <td>...</td>\n",
       "      <td>...</td>\n",
       "      <td>...</td>\n",
       "      <td>...</td>\n",
       "    </tr>\n",
       "    <tr>\n",
       "      <td>512</td>\n",
       "      <td>513</td>\n",
       "      <td>119.0</td>\n",
       "      <td>Sheikupura</td>\n",
       "      <td>Punjab</td>\n",
       "      <td>Naushro feroz</td>\n",
       "      <td>Sindh</td>\n",
       "      <td>476</td>\n",
       "      <td>OTHER_PHYSICAL_INSTRUMENTS</td>\n",
       "    </tr>\n",
       "    <tr>\n",
       "      <td>513</td>\n",
       "      <td>514</td>\n",
       "      <td>120.0</td>\n",
       "      <td>Haripur</td>\n",
       "      <td>KPK</td>\n",
       "      <td>Naushro feroz</td>\n",
       "      <td>Sindh</td>\n",
       "      <td>480</td>\n",
       "      <td>OTHER_PHYSICAL_INSTRUMENTS</td>\n",
       "    </tr>\n",
       "    <tr>\n",
       "      <td>514</td>\n",
       "      <td>515</td>\n",
       "      <td>121.0</td>\n",
       "      <td>Haripur</td>\n",
       "      <td>KPK</td>\n",
       "      <td>Malir</td>\n",
       "      <td>Sindh</td>\n",
       "      <td>484</td>\n",
       "      <td>OTHER_PHYSICAL_INSTRUMENTS</td>\n",
       "    </tr>\n",
       "    <tr>\n",
       "      <td>515</td>\n",
       "      <td>516</td>\n",
       "      <td>122.0</td>\n",
       "      <td>Rawalakot</td>\n",
       "      <td>AJK</td>\n",
       "      <td>Malir</td>\n",
       "      <td>Sindh</td>\n",
       "      <td>488</td>\n",
       "      <td>OTHER_PHYSICAL_INSTRUMENTS</td>\n",
       "    </tr>\n",
       "    <tr>\n",
       "      <td>516</td>\n",
       "      <td>517</td>\n",
       "      <td>123.0</td>\n",
       "      <td>Bagh</td>\n",
       "      <td>AJK</td>\n",
       "      <td>Malir</td>\n",
       "      <td>Sindh</td>\n",
       "      <td>492</td>\n",
       "      <td>OTHER_PHYSICAL_INSTRUMENTS</td>\n",
       "    </tr>\n",
       "  </tbody>\n",
       "</table>\n",
       "<p>517 rows × 8 columns</p>\n",
       "</div>"
      ],
      "text/plain": [
       "      id  price_in_gram from_district from_province    to_district  \\\n",
       "0      1            5.0       Karachi         Sindh     Rawalpindi   \n",
       "1      2            8.0    Rawalpindi        Punjab       Islamabd   \n",
       "2      3            8.0      Islamabd        Punjab     Rawalpindi   \n",
       "3      4           12.0    Rawalpindi        Punjab       Peshawer   \n",
       "4      5           15.0      Islamabd        Punjab        Chakwal   \n",
       "..   ...            ...           ...           ...            ...   \n",
       "512  513          119.0    Sheikupura        Punjab  Naushro feroz   \n",
       "513  514          120.0       Haripur           KPK  Naushro feroz   \n",
       "514  515          121.0       Haripur           KPK          Malir   \n",
       "515  516          122.0     Rawalakot           AJK          Malir   \n",
       "516  517          123.0          Bagh           AJK          Malir   \n",
       "\n",
       "    to_province  weight_in_gram                package_type  \n",
       "0        Punjab              10                   DOCUMENTS  \n",
       "1        Punjab              24                   BOOK/COpy  \n",
       "2        Punjab              16                   DOCUMENTS  \n",
       "3           KPK              20                   BOOK/COpy  \n",
       "4        Punjab              60  OTHER_PHYSICAL_INSTRUMENTS  \n",
       "..          ...             ...                         ...  \n",
       "512       Sindh             476  OTHER_PHYSICAL_INSTRUMENTS  \n",
       "513       Sindh             480  OTHER_PHYSICAL_INSTRUMENTS  \n",
       "514       Sindh             484  OTHER_PHYSICAL_INSTRUMENTS  \n",
       "515       Sindh             488  OTHER_PHYSICAL_INSTRUMENTS  \n",
       "516       Sindh             492  OTHER_PHYSICAL_INSTRUMENTS  \n",
       "\n",
       "[517 rows x 8 columns]"
      ]
     },
     "execution_count": 38,
     "metadata": {},
     "output_type": "execute_result"
    }
   ],
   "source": [
    "df_pkg_rates"
   ]
  },
  {
   "cell_type": "markdown",
   "metadata": {},
   "source": [
    "# Some Simple Visualization Graphs"
   ]
  },
  {
   "cell_type": "code",
   "execution_count": 20,
   "metadata": {},
   "outputs": [],
   "source": [
    "df_pkg_rates=df_pkg_rates['id']=1"
   ]
  },
  {
   "cell_type": "markdown",
   "metadata": {},
   "source": [
    "<h3>  Countplot <3> "
   ]
  },
  {
   "cell_type": "code",
   "execution_count": 22,
   "metadata": {},
   "outputs": [
    {
     "data": {
      "text/plain": [
       "<seaborn.axisgrid.FacetGrid at 0x2b8a2ffba88>"
      ]
     },
     "execution_count": 22,
     "metadata": {},
     "output_type": "execute_result"
    },
    {
     "data": {
      "image/png": "[encoded data removed]",
      "text/plain": [
       "<Figure size 288x288 with 1 Axes>"
      ]
     },
     "metadata": {},
     "output_type": "display_data"
    }
   ],
   "source": [
    "#countplot gud one\n",
    "import seaborn as sb\n",
    "\n",
    "sb.catplot(y = 'package_type', data =df_pkg_rates , kind = \"count\", height = 4)"
   ]
  },
  {
   "cell_type": "markdown",
   "metadata": {},
   "source": [
    "<h2> Before that we did all analysis with package rates dataset, Now have to deal with Franchise data set <h2>"
   ]
  },
  {
   "cell_type": "code",
   "execution_count": 39,
   "metadata": {},
   "outputs": [],
   "source": [
    "#here we are opening directly from workbench and then save it in excel form\n",
    "import pymysql\n",
    "connection= pymysql.connect(host='localhost',\n",
    "                                    port=3308,\n",
    "                                   user='cms',\n",
    "                                   passwd='01161811024',\n",
    "                                   database='cms')\n",
    "query= \"select * from cms.location_franchise\"\n",
    "\n",
    "                        "
   ]
  },
  {
   "cell_type": "code",
   "execution_count": 40,
   "metadata": {},
   "outputs": [],
   "source": [
    "# save to fran.csv\n",
    "result= pd.read_sql_query(query, connection)\n",
    "result.to_csv('fran.csv', index=False)\n"
   ]
  },
  {
   "cell_type": "markdown",
   "metadata": {},
   "source": [
    "# Data Exploring \n",
    " \n",
    " <b> Franchise dataset <b> "
   ]
  },
  {
   "cell_type": "code",
   "execution_count": 32,
   "metadata": {},
   "outputs": [
    {
     "data": {
      "text/html": [
       "<div>\n",
       "<style scoped>\n",
       "    .dataframe tbody tr th:only-of-type {\n",
       "        vertical-align: middle;\n",
       "    }\n",
       "\n",
       "    .dataframe tbody tr th {\n",
       "        vertical-align: top;\n",
       "    }\n",
       "\n",
       "    .dataframe thead th {\n",
       "        text-align: right;\n",
       "    }\n",
       "</style>\n",
       "<table border=\"1\" class=\"dataframe\">\n",
       "  <thead>\n",
       "    <tr style=\"text-align: right;\">\n",
       "      <th></th>\n",
       "      <th>id</th>\n",
       "      <th>name</th>\n",
       "      <th>province</th>\n",
       "      <th>city</th>\n",
       "      <th>register_num</th>\n",
       "      <th>num_of_employes</th>\n",
       "      <th>office_starting_timing</th>\n",
       "      <th>office_closing_timing</th>\n",
       "      <th>email</th>\n",
       "      <th>location_id</th>\n",
       "      <th>owner_id</th>\n",
       "    </tr>\n",
       "  </thead>\n",
       "  <tbody>\n",
       "    <tr>\n",
       "      <td>0</td>\n",
       "      <td>1</td>\n",
       "      <td>korangi</td>\n",
       "      <td>Sindh</td>\n",
       "      <td>Karachi</td>\n",
       "      <td>1200</td>\n",
       "      <td>19</td>\n",
       "      <td>2020-03-15 08:00:00</td>\n",
       "      <td>2020-03-15 06:00:00</td>\n",
       "      <td>korangicms@gmail.com</td>\n",
       "      <td>1</td>\n",
       "      <td>1</td>\n",
       "    </tr>\n",
       "    <tr>\n",
       "      <td>1</td>\n",
       "      <td>2</td>\n",
       "      <td>Tench</td>\n",
       "      <td>Punjab</td>\n",
       "      <td>Rawalpindi</td>\n",
       "      <td>1201</td>\n",
       "      <td>12</td>\n",
       "      <td>2020-03-15 08:00:00</td>\n",
       "      <td>2020-03-15 06:00:00</td>\n",
       "      <td>tenchcms@gmail.com</td>\n",
       "      <td>2</td>\n",
       "      <td>1</td>\n",
       "    </tr>\n",
       "    <tr>\n",
       "      <td>2</td>\n",
       "      <td>3</td>\n",
       "      <td>Quetta Fort</td>\n",
       "      <td>Balochistan</td>\n",
       "      <td>Quetta</td>\n",
       "      <td>1202</td>\n",
       "      <td>19</td>\n",
       "      <td>2020-03-15 08:00:00</td>\n",
       "      <td>2020-03-15 06:00:00</td>\n",
       "      <td>balochistanfortcms@gmail.com</td>\n",
       "      <td>13</td>\n",
       "      <td>1</td>\n",
       "    </tr>\n",
       "    <tr>\n",
       "      <td>3</td>\n",
       "      <td>4</td>\n",
       "      <td>Quetta Pishin</td>\n",
       "      <td>Balochistan</td>\n",
       "      <td>Quetta</td>\n",
       "      <td>1203</td>\n",
       "      <td>11</td>\n",
       "      <td>2020-03-15 08:00:00</td>\n",
       "      <td>2020-03-15 06:00:00</td>\n",
       "      <td>balochistanpishincms@gmail.com</td>\n",
       "      <td>14</td>\n",
       "      <td>1</td>\n",
       "    </tr>\n",
       "    <tr>\n",
       "      <td>4</td>\n",
       "      <td>5</td>\n",
       "      <td>Sadder</td>\n",
       "      <td>Punjab</td>\n",
       "      <td>Rawalpindi</td>\n",
       "      <td>1208</td>\n",
       "      <td>11</td>\n",
       "      <td>2020-03-15 08:00:00</td>\n",
       "      <td>2020-03-15 06:00:00</td>\n",
       "      <td>saddercms@gmail.com</td>\n",
       "      <td>180</td>\n",
       "      <td>1</td>\n",
       "    </tr>\n",
       "    <tr>\n",
       "      <td>...</td>\n",
       "      <td>...</td>\n",
       "      <td>...</td>\n",
       "      <td>...</td>\n",
       "      <td>...</td>\n",
       "      <td>...</td>\n",
       "      <td>...</td>\n",
       "      <td>...</td>\n",
       "      <td>...</td>\n",
       "      <td>...</td>\n",
       "      <td>...</td>\n",
       "      <td>...</td>\n",
       "    </tr>\n",
       "    <tr>\n",
       "      <td>140</td>\n",
       "      <td>141</td>\n",
       "      <td>bagan</td>\n",
       "      <td>kpk</td>\n",
       "      <td>Abbotabad</td>\n",
       "      <td>1609</td>\n",
       "      <td>11</td>\n",
       "      <td>2020-03-15 08:00:00</td>\n",
       "      <td>2020-03-15 06:00:00</td>\n",
       "      <td>bagan_cms@gmail.com</td>\n",
       "      <td>129</td>\n",
       "      <td>1</td>\n",
       "    </tr>\n",
       "    <tr>\n",
       "      <td>141</td>\n",
       "      <td>142</td>\n",
       "      <td>Bagnotar</td>\n",
       "      <td>kpk</td>\n",
       "      <td>Abbotabad</td>\n",
       "      <td>1611</td>\n",
       "      <td>18</td>\n",
       "      <td>2020-03-15 08:00:00</td>\n",
       "      <td>2020-03-15 06:00:00</td>\n",
       "      <td>bagnotar_cms@gmail.com</td>\n",
       "      <td>130</td>\n",
       "      <td>1</td>\n",
       "    </tr>\n",
       "    <tr>\n",
       "      <td>142</td>\n",
       "      <td>143</td>\n",
       "      <td>Biran Gali</td>\n",
       "      <td>kpk</td>\n",
       "      <td>Abbotabad</td>\n",
       "      <td>1614</td>\n",
       "      <td>11</td>\n",
       "      <td>2020-03-15 08:00:00</td>\n",
       "      <td>2020-03-15 06:00:00</td>\n",
       "      <td>birangali_cms@gmail.com</td>\n",
       "      <td>131</td>\n",
       "      <td>1</td>\n",
       "    </tr>\n",
       "    <tr>\n",
       "      <td>143</td>\n",
       "      <td>144</td>\n",
       "      <td>Gpo Road Lahore</td>\n",
       "      <td>Punjab</td>\n",
       "      <td>Lahore</td>\n",
       "      <td>1619</td>\n",
       "      <td>19</td>\n",
       "      <td>2020-03-15 08:00:00</td>\n",
       "      <td>2020-03-15 06:00:00</td>\n",
       "      <td>lhr_gporoad_cms@gmail.com</td>\n",
       "      <td>132</td>\n",
       "      <td>1</td>\n",
       "    </tr>\n",
       "    <tr>\n",
       "      <td>144</td>\n",
       "      <td>145</td>\n",
       "      <td>Multan road(Lahore)</td>\n",
       "      <td>Punjab</td>\n",
       "      <td>Lahore</td>\n",
       "      <td>1620</td>\n",
       "      <td>21</td>\n",
       "      <td>2020-03-15 08:00:00</td>\n",
       "      <td>2020-03-15 06:00:00</td>\n",
       "      <td>multanroad_lhr_cms@gmail.com</td>\n",
       "      <td>133</td>\n",
       "      <td>1</td>\n",
       "    </tr>\n",
       "  </tbody>\n",
       "</table>\n",
       "<p>145 rows × 11 columns</p>\n",
       "</div>"
      ],
      "text/plain": [
       "      id                 name     province        city  register_num  \\\n",
       "0      1              korangi        Sindh     Karachi          1200   \n",
       "1      2                Tench       Punjab  Rawalpindi          1201   \n",
       "2      3          Quetta Fort  Balochistan      Quetta          1202   \n",
       "3      4        Quetta Pishin  Balochistan      Quetta          1203   \n",
       "4      5               Sadder       Punjab  Rawalpindi          1208   \n",
       "..   ...                  ...          ...         ...           ...   \n",
       "140  141                bagan          kpk   Abbotabad          1609   \n",
       "141  142             Bagnotar          kpk   Abbotabad          1611   \n",
       "142  143           Biran Gali          kpk   Abbotabad          1614   \n",
       "143  144      Gpo Road Lahore       Punjab      Lahore          1619   \n",
       "144  145  Multan road(Lahore)       Punjab      Lahore          1620   \n",
       "\n",
       "     num_of_employes office_starting_timing office_closing_timing  \\\n",
       "0                 19    2020-03-15 08:00:00   2020-03-15 06:00:00   \n",
       "1                 12    2020-03-15 08:00:00   2020-03-15 06:00:00   \n",
       "2                 19    2020-03-15 08:00:00   2020-03-15 06:00:00   \n",
       "3                 11    2020-03-15 08:00:00   2020-03-15 06:00:00   \n",
       "4                 11    2020-03-15 08:00:00   2020-03-15 06:00:00   \n",
       "..               ...                    ...                   ...   \n",
       "140               11    2020-03-15 08:00:00   2020-03-15 06:00:00   \n",
       "141               18    2020-03-15 08:00:00   2020-03-15 06:00:00   \n",
       "142               11    2020-03-15 08:00:00   2020-03-15 06:00:00   \n",
       "143               19    2020-03-15 08:00:00   2020-03-15 06:00:00   \n",
       "144               21    2020-03-15 08:00:00   2020-03-15 06:00:00   \n",
       "\n",
       "                              email  location_id  owner_id  \n",
       "0              korangicms@gmail.com            1         1  \n",
       "1                tenchcms@gmail.com            2         1  \n",
       "2      balochistanfortcms@gmail.com           13         1  \n",
       "3    balochistanpishincms@gmail.com           14         1  \n",
       "4               saddercms@gmail.com          180         1  \n",
       "..                              ...          ...       ...  \n",
       "140             bagan_cms@gmail.com          129         1  \n",
       "141          bagnotar_cms@gmail.com          130         1  \n",
       "142         birangali_cms@gmail.com          131         1  \n",
       "143       lhr_gporoad_cms@gmail.com          132         1  \n",
       "144    multanroad_lhr_cms@gmail.com          133         1  \n",
       "\n",
       "[145 rows x 11 columns]"
      ]
     },
     "execution_count": 32,
     "metadata": {},
     "output_type": "execute_result"
    }
   ],
   "source": [
    "#read file\n",
    "df_franchise= pd.read_csv('fran.csv')\n",
    "df_franchise"
   ]
  },
  {
   "cell_type": "code",
   "execution_count": 42,
   "metadata": {},
   "outputs": [
    {
     "data": {
      "text/html": [
       "<div>\n",
       "<style scoped>\n",
       "    .dataframe tbody tr th:only-of-type {\n",
       "        vertical-align: middle;\n",
       "    }\n",
       "\n",
       "    .dataframe tbody tr th {\n",
       "        vertical-align: top;\n",
       "    }\n",
       "\n",
       "    .dataframe thead th {\n",
       "        text-align: right;\n",
       "    }\n",
       "</style>\n",
       "<table border=\"1\" class=\"dataframe\">\n",
       "  <thead>\n",
       "    <tr style=\"text-align: right;\">\n",
       "      <th></th>\n",
       "      <th>id</th>\n",
       "      <th>name</th>\n",
       "      <th>province</th>\n",
       "      <th>city</th>\n",
       "      <th>register_num</th>\n",
       "      <th>num_of_employes</th>\n",
       "      <th>office_starting_timing</th>\n",
       "      <th>office_closing_timing</th>\n",
       "      <th>email</th>\n",
       "      <th>location_id</th>\n",
       "      <th>owner_id</th>\n",
       "    </tr>\n",
       "  </thead>\n",
       "  <tbody>\n",
       "    <tr>\n",
       "      <td>0</td>\n",
       "      <td>1</td>\n",
       "      <td>korangi</td>\n",
       "      <td>Sindh</td>\n",
       "      <td>Karachi</td>\n",
       "      <td>1200</td>\n",
       "      <td>19</td>\n",
       "      <td>2020-03-15 08:00:00</td>\n",
       "      <td>2020-03-15 06:00:00</td>\n",
       "      <td>korangicms@gmail.com</td>\n",
       "      <td>1</td>\n",
       "      <td>1</td>\n",
       "    </tr>\n",
       "    <tr>\n",
       "      <td>1</td>\n",
       "      <td>2</td>\n",
       "      <td>Tench</td>\n",
       "      <td>Punjab</td>\n",
       "      <td>Rawalpindi</td>\n",
       "      <td>1201</td>\n",
       "      <td>12</td>\n",
       "      <td>2020-03-15 08:00:00</td>\n",
       "      <td>2020-03-15 06:00:00</td>\n",
       "      <td>tenchcms@gmail.com</td>\n",
       "      <td>2</td>\n",
       "      <td>1</td>\n",
       "    </tr>\n",
       "    <tr>\n",
       "      <td>2</td>\n",
       "      <td>3</td>\n",
       "      <td>Quetta Fort</td>\n",
       "      <td>Balochistan</td>\n",
       "      <td>Quetta</td>\n",
       "      <td>1202</td>\n",
       "      <td>19</td>\n",
       "      <td>2020-03-15 08:00:00</td>\n",
       "      <td>2020-03-15 06:00:00</td>\n",
       "      <td>balochistanfortcms@gmail.com</td>\n",
       "      <td>13</td>\n",
       "      <td>1</td>\n",
       "    </tr>\n",
       "    <tr>\n",
       "      <td>3</td>\n",
       "      <td>4</td>\n",
       "      <td>Quetta Pishin</td>\n",
       "      <td>Balochistan</td>\n",
       "      <td>Quetta</td>\n",
       "      <td>1203</td>\n",
       "      <td>11</td>\n",
       "      <td>2020-03-15 08:00:00</td>\n",
       "      <td>2020-03-15 06:00:00</td>\n",
       "      <td>balochistanpishincms@gmail.com</td>\n",
       "      <td>14</td>\n",
       "      <td>1</td>\n",
       "    </tr>\n",
       "  </tbody>\n",
       "</table>\n",
       "</div>"
      ],
      "text/plain": [
       "   id           name     province        city  register_num  num_of_employes  \\\n",
       "0   1        korangi        Sindh     Karachi          1200               19   \n",
       "1   2          Tench       Punjab  Rawalpindi          1201               12   \n",
       "2   3    Quetta Fort  Balochistan      Quetta          1202               19   \n",
       "3   4  Quetta Pishin  Balochistan      Quetta          1203               11   \n",
       "\n",
       "  office_starting_timing office_closing_timing  \\\n",
       "0    2020-03-15 08:00:00   2020-03-15 06:00:00   \n",
       "1    2020-03-15 08:00:00   2020-03-15 06:00:00   \n",
       "2    2020-03-15 08:00:00   2020-03-15 06:00:00   \n",
       "3    2020-03-15 08:00:00   2020-03-15 06:00:00   \n",
       "\n",
       "                            email  location_id  owner_id  \n",
       "0            korangicms@gmail.com            1         1  \n",
       "1              tenchcms@gmail.com            2         1  \n",
       "2    balochistanfortcms@gmail.com           13         1  \n",
       "3  balochistanpishincms@gmail.com           14         1  "
      ]
     },
     "execution_count": 42,
     "metadata": {},
     "output_type": "execute_result"
    }
   ],
   "source": [
    "#To see top 4 rows\n",
    "df_franchise.head(4)"
   ]
  },
  {
   "cell_type": "code",
   "execution_count": 43,
   "metadata": {},
   "outputs": [
    {
     "data": {
      "text/html": [
       "<div>\n",
       "<style scoped>\n",
       "    .dataframe tbody tr th:only-of-type {\n",
       "        vertical-align: middle;\n",
       "    }\n",
       "\n",
       "    .dataframe tbody tr th {\n",
       "        vertical-align: top;\n",
       "    }\n",
       "\n",
       "    .dataframe thead th {\n",
       "        text-align: right;\n",
       "    }\n",
       "</style>\n",
       "<table border=\"1\" class=\"dataframe\">\n",
       "  <thead>\n",
       "    <tr style=\"text-align: right;\">\n",
       "      <th></th>\n",
       "      <th>id</th>\n",
       "      <th>name</th>\n",
       "      <th>province</th>\n",
       "      <th>city</th>\n",
       "      <th>register_num</th>\n",
       "      <th>num_of_employes</th>\n",
       "      <th>office_starting_timing</th>\n",
       "      <th>office_closing_timing</th>\n",
       "      <th>email</th>\n",
       "      <th>location_id</th>\n",
       "      <th>owner_id</th>\n",
       "    </tr>\n",
       "  </thead>\n",
       "  <tbody>\n",
       "    <tr>\n",
       "      <td>141</td>\n",
       "      <td>142</td>\n",
       "      <td>Bagnotar</td>\n",
       "      <td>kpk</td>\n",
       "      <td>Abbotabad</td>\n",
       "      <td>1611</td>\n",
       "      <td>18</td>\n",
       "      <td>2020-03-15 08:00:00</td>\n",
       "      <td>2020-03-15 06:00:00</td>\n",
       "      <td>bagnotar_cms@gmail.com</td>\n",
       "      <td>130</td>\n",
       "      <td>1</td>\n",
       "    </tr>\n",
       "    <tr>\n",
       "      <td>142</td>\n",
       "      <td>143</td>\n",
       "      <td>Biran Gali</td>\n",
       "      <td>kpk</td>\n",
       "      <td>Abbotabad</td>\n",
       "      <td>1614</td>\n",
       "      <td>11</td>\n",
       "      <td>2020-03-15 08:00:00</td>\n",
       "      <td>2020-03-15 06:00:00</td>\n",
       "      <td>birangali_cms@gmail.com</td>\n",
       "      <td>131</td>\n",
       "      <td>1</td>\n",
       "    </tr>\n",
       "    <tr>\n",
       "      <td>143</td>\n",
       "      <td>144</td>\n",
       "      <td>Gpo Road Lahore</td>\n",
       "      <td>Punjab</td>\n",
       "      <td>Lahore</td>\n",
       "      <td>1619</td>\n",
       "      <td>19</td>\n",
       "      <td>2020-03-15 08:00:00</td>\n",
       "      <td>2020-03-15 06:00:00</td>\n",
       "      <td>lhr_gporoad_cms@gmail.com</td>\n",
       "      <td>132</td>\n",
       "      <td>1</td>\n",
       "    </tr>\n",
       "    <tr>\n",
       "      <td>144</td>\n",
       "      <td>145</td>\n",
       "      <td>Multan road(Lahore)</td>\n",
       "      <td>Punjab</td>\n",
       "      <td>Lahore</td>\n",
       "      <td>1620</td>\n",
       "      <td>21</td>\n",
       "      <td>2020-03-15 08:00:00</td>\n",
       "      <td>2020-03-15 06:00:00</td>\n",
       "      <td>multanroad_lhr_cms@gmail.com</td>\n",
       "      <td>133</td>\n",
       "      <td>1</td>\n",
       "    </tr>\n",
       "  </tbody>\n",
       "</table>\n",
       "</div>"
      ],
      "text/plain": [
       "      id                 name province       city  register_num  \\\n",
       "141  142             Bagnotar      kpk  Abbotabad          1611   \n",
       "142  143           Biran Gali      kpk  Abbotabad          1614   \n",
       "143  144      Gpo Road Lahore   Punjab     Lahore          1619   \n",
       "144  145  Multan road(Lahore)   Punjab     Lahore          1620   \n",
       "\n",
       "     num_of_employes office_starting_timing office_closing_timing  \\\n",
       "141               18    2020-03-15 08:00:00   2020-03-15 06:00:00   \n",
       "142               11    2020-03-15 08:00:00   2020-03-15 06:00:00   \n",
       "143               19    2020-03-15 08:00:00   2020-03-15 06:00:00   \n",
       "144               21    2020-03-15 08:00:00   2020-03-15 06:00:00   \n",
       "\n",
       "                            email  location_id  owner_id  \n",
       "141        bagnotar_cms@gmail.com          130         1  \n",
       "142       birangali_cms@gmail.com          131         1  \n",
       "143     lhr_gporoad_cms@gmail.com          132         1  \n",
       "144  multanroad_lhr_cms@gmail.com          133         1  "
      ]
     },
     "execution_count": 43,
     "metadata": {},
     "output_type": "execute_result"
    }
   ],
   "source": [
    "#To see bottom 4 rows\n",
    "df_franchise.tail(4)"
   ]
  },
  {
   "cell_type": "markdown",
   "metadata": {},
   "source": [
    "# To see all columns and Rows"
   ]
  },
  {
   "cell_type": "code",
   "execution_count": 44,
   "metadata": {},
   "outputs": [
    {
     "data": {
      "text/plain": [
       "(145, 11)"
      ]
     },
     "execution_count": 44,
     "metadata": {},
     "output_type": "execute_result"
    }
   ],
   "source": [
    "df_franchise.shape"
   ]
  },
  {
   "cell_type": "code",
   "execution_count": 45,
   "metadata": {},
   "outputs": [
    {
     "data": {
      "text/plain": [
       "Index(['id', 'name', 'province', 'city', 'register_num', 'num_of_employes',\n",
       "       'office_starting_timing', 'office_closing_timing', 'email',\n",
       "       'location_id', 'owner_id'],\n",
       "      dtype='object')"
      ]
     },
     "execution_count": 45,
     "metadata": {},
     "output_type": "execute_result"
    }
   ],
   "source": [
    "df_franchise.columns"
   ]
  },
  {
   "cell_type": "code",
   "execution_count": 46,
   "metadata": {},
   "outputs": [
    {
     "name": "stdout",
     "output_type": "stream",
     "text": [
      "<class 'pandas.core.frame.DataFrame'>\n",
      "RangeIndex: 145 entries, 0 to 144\n",
      "Data columns (total 11 columns):\n",
      "id                        145 non-null int64\n",
      "name                      145 non-null object\n",
      "province                  145 non-null object\n",
      "city                      145 non-null object\n",
      "register_num              145 non-null int64\n",
      "num_of_employes           145 non-null int64\n",
      "office_starting_timing    144 non-null object\n",
      "office_closing_timing     144 non-null object\n",
      "email                     145 non-null object\n",
      "location_id               145 non-null int64\n",
      "owner_id                  145 non-null int64\n",
      "dtypes: int64(5), object(6)\n",
      "memory usage: 12.6+ KB\n"
     ]
    }
   ],
   "source": [
    "df_franchise.info()"
   ]
  },
  {
   "cell_type": "markdown",
   "metadata": {},
   "source": [
    "# Statistical Describtion \n",
    "<b> Franchise dataset <b>"
   ]
  },
  {
   "cell_type": "code",
   "execution_count": 47,
   "metadata": {},
   "outputs": [
    {
     "data": {
      "text/html": [
       "<div>\n",
       "<style scoped>\n",
       "    .dataframe tbody tr th:only-of-type {\n",
       "        vertical-align: middle;\n",
       "    }\n",
       "\n",
       "    .dataframe tbody tr th {\n",
       "        vertical-align: top;\n",
       "    }\n",
       "\n",
       "    .dataframe thead th {\n",
       "        text-align: right;\n",
       "    }\n",
       "</style>\n",
       "<table border=\"1\" class=\"dataframe\">\n",
       "  <thead>\n",
       "    <tr style=\"text-align: right;\">\n",
       "      <th></th>\n",
       "      <th>id</th>\n",
       "      <th>register_num</th>\n",
       "      <th>num_of_employes</th>\n",
       "      <th>location_id</th>\n",
       "      <th>owner_id</th>\n",
       "    </tr>\n",
       "  </thead>\n",
       "  <tbody>\n",
       "    <tr>\n",
       "      <td>count</td>\n",
       "      <td>145.000000</td>\n",
       "      <td>145.000000</td>\n",
       "      <td>145.000000</td>\n",
       "      <td>145.000000</td>\n",
       "      <td>145.0</td>\n",
       "    </tr>\n",
       "    <tr>\n",
       "      <td>mean</td>\n",
       "      <td>73.000000</td>\n",
       "      <td>1368.551724</td>\n",
       "      <td>19.000000</td>\n",
       "      <td>104.241379</td>\n",
       "      <td>1.0</td>\n",
       "    </tr>\n",
       "    <tr>\n",
       "      <td>std</td>\n",
       "      <td>42.001984</td>\n",
       "      <td>178.411701</td>\n",
       "      <td>5.592654</td>\n",
       "      <td>45.916330</td>\n",
       "      <td>0.0</td>\n",
       "    </tr>\n",
       "    <tr>\n",
       "      <td>min</td>\n",
       "      <td>1.000000</td>\n",
       "      <td>541.000000</td>\n",
       "      <td>10.000000</td>\n",
       "      <td>1.000000</td>\n",
       "      <td>1.0</td>\n",
       "    </tr>\n",
       "    <tr>\n",
       "      <td>25%</td>\n",
       "      <td>37.000000</td>\n",
       "      <td>1249.000000</td>\n",
       "      <td>14.000000</td>\n",
       "      <td>66.000000</td>\n",
       "      <td>1.0</td>\n",
       "    </tr>\n",
       "    <tr>\n",
       "      <td>50%</td>\n",
       "      <td>73.000000</td>\n",
       "      <td>1402.000000</td>\n",
       "      <td>19.000000</td>\n",
       "      <td>105.000000</td>\n",
       "      <td>1.0</td>\n",
       "    </tr>\n",
       "    <tr>\n",
       "      <td>75%</td>\n",
       "      <td>109.000000</td>\n",
       "      <td>1501.000000</td>\n",
       "      <td>22.000000</td>\n",
       "      <td>144.000000</td>\n",
       "      <td>1.0</td>\n",
       "    </tr>\n",
       "    <tr>\n",
       "      <td>max</td>\n",
       "      <td>145.000000</td>\n",
       "      <td>1620.000000</td>\n",
       "      <td>32.000000</td>\n",
       "      <td>180.000000</td>\n",
       "      <td>1.0</td>\n",
       "    </tr>\n",
       "  </tbody>\n",
       "</table>\n",
       "</div>"
      ],
      "text/plain": [
       "               id  register_num  num_of_employes  location_id  owner_id\n",
       "count  145.000000    145.000000       145.000000   145.000000     145.0\n",
       "mean    73.000000   1368.551724        19.000000   104.241379       1.0\n",
       "std     42.001984    178.411701         5.592654    45.916330       0.0\n",
       "min      1.000000    541.000000        10.000000     1.000000       1.0\n",
       "25%     37.000000   1249.000000        14.000000    66.000000       1.0\n",
       "50%     73.000000   1402.000000        19.000000   105.000000       1.0\n",
       "75%    109.000000   1501.000000        22.000000   144.000000       1.0\n",
       "max    145.000000   1620.000000        32.000000   180.000000       1.0"
      ]
     },
     "execution_count": 47,
     "metadata": {},
     "output_type": "execute_result"
    }
   ],
   "source": [
    "# numeric data\n",
    "df_franchise.describe()"
   ]
  },
  {
   "cell_type": "code",
   "execution_count": 48,
   "metadata": {},
   "outputs": [
    {
     "data": {
      "text/html": [
       "<div>\n",
       "<style scoped>\n",
       "    .dataframe tbody tr th:only-of-type {\n",
       "        vertical-align: middle;\n",
       "    }\n",
       "\n",
       "    .dataframe tbody tr th {\n",
       "        vertical-align: top;\n",
       "    }\n",
       "\n",
       "    .dataframe thead th {\n",
       "        text-align: right;\n",
       "    }\n",
       "</style>\n",
       "<table border=\"1\" class=\"dataframe\">\n",
       "  <thead>\n",
       "    <tr style=\"text-align: right;\">\n",
       "      <th></th>\n",
       "      <th>name</th>\n",
       "      <th>province</th>\n",
       "      <th>city</th>\n",
       "      <th>office_starting_timing</th>\n",
       "      <th>office_closing_timing</th>\n",
       "      <th>email</th>\n",
       "    </tr>\n",
       "  </thead>\n",
       "  <tbody>\n",
       "    <tr>\n",
       "      <td>count</td>\n",
       "      <td>145</td>\n",
       "      <td>145</td>\n",
       "      <td>145</td>\n",
       "      <td>144</td>\n",
       "      <td>144</td>\n",
       "      <td>145</td>\n",
       "    </tr>\n",
       "    <tr>\n",
       "      <td>unique</td>\n",
       "      <td>145</td>\n",
       "      <td>5</td>\n",
       "      <td>39</td>\n",
       "      <td>2</td>\n",
       "      <td>2</td>\n",
       "      <td>145</td>\n",
       "    </tr>\n",
       "    <tr>\n",
       "      <td>top</td>\n",
       "      <td>Noor Wah Market</td>\n",
       "      <td>Punjab</td>\n",
       "      <td>Islamabd</td>\n",
       "      <td>2020-03-15 08:00:00</td>\n",
       "      <td>2020-03-15 06:00:00</td>\n",
       "      <td>lalazarcms@gmail.com</td>\n",
       "    </tr>\n",
       "    <tr>\n",
       "      <td>freq</td>\n",
       "      <td>1</td>\n",
       "      <td>65</td>\n",
       "      <td>14</td>\n",
       "      <td>124</td>\n",
       "      <td>124</td>\n",
       "      <td>1</td>\n",
       "    </tr>\n",
       "  </tbody>\n",
       "</table>\n",
       "</div>"
      ],
      "text/plain": [
       "                   name province      city office_starting_timing  \\\n",
       "count               145      145       145                    144   \n",
       "unique              145        5        39                      2   \n",
       "top     Noor Wah Market   Punjab  Islamabd    2020-03-15 08:00:00   \n",
       "freq                  1       65        14                    124   \n",
       "\n",
       "       office_closing_timing                 email  \n",
       "count                    144                   145  \n",
       "unique                     2                   145  \n",
       "top      2020-03-15 06:00:00  lalazarcms@gmail.com  \n",
       "freq                     124                     1  "
      ]
     },
     "execution_count": 48,
     "metadata": {},
     "output_type": "execute_result"
    }
   ],
   "source": [
    "# object\n",
    "df_franchise.describe(include='object')"
   ]
  },
  {
   "cell_type": "markdown",
   "metadata": {},
   "source": [
    "# Data Cleaning\n",
    "<b> Franchise dataset <b>"
   ]
  },
  {
   "cell_type": "code",
   "execution_count": 49,
   "metadata": {},
   "outputs": [
    {
     "name": "stdout",
     "output_type": "stream",
     "text": [
      "id                        0\n",
      "name                      0\n",
      "province                  0\n",
      "city                      0\n",
      "register_num              0\n",
      "num_of_employes           0\n",
      "office_starting_timing    1\n",
      "office_closing_timing     1\n",
      "email                     0\n",
      "location_id               0\n",
      "owner_id                  0\n",
      "dtype: int64\n",
      "Total Missing values: 2\n"
     ]
    }
   ],
   "source": [
    "# to check null\n",
    "print (df_franchise.isnull().sum())\n",
    "print (\"Total Missing values: \" + str(df_franchise.isnull().sum().sum()))"
   ]
  },
  {
   "cell_type": "code",
   "execution_count": 50,
   "metadata": {},
   "outputs": [],
   "source": [
    "# well we have two missing values in two columns and it is dirty data but actually we dont requrire both these two columns so we can siply remove them"
   ]
  },
  {
   "cell_type": "code",
   "execution_count": 51,
   "metadata": {},
   "outputs": [
    {
     "data": {
      "text/html": [
       "<div>\n",
       "<style scoped>\n",
       "    .dataframe tbody tr th:only-of-type {\n",
       "        vertical-align: middle;\n",
       "    }\n",
       "\n",
       "    .dataframe tbody tr th {\n",
       "        vertical-align: top;\n",
       "    }\n",
       "\n",
       "    .dataframe thead th {\n",
       "        text-align: right;\n",
       "    }\n",
       "</style>\n",
       "<table border=\"1\" class=\"dataframe\">\n",
       "  <thead>\n",
       "    <tr style=\"text-align: right;\">\n",
       "      <th></th>\n",
       "      <th>id</th>\n",
       "      <th>name</th>\n",
       "      <th>province</th>\n",
       "      <th>city</th>\n",
       "      <th>register_num</th>\n",
       "      <th>num_of_employes</th>\n",
       "      <th>email</th>\n",
       "    </tr>\n",
       "  </thead>\n",
       "  <tbody>\n",
       "    <tr>\n",
       "      <td>0</td>\n",
       "      <td>1</td>\n",
       "      <td>korangi</td>\n",
       "      <td>Sindh</td>\n",
       "      <td>Karachi</td>\n",
       "      <td>1200</td>\n",
       "      <td>19</td>\n",
       "      <td>korangicms@gmail.com</td>\n",
       "    </tr>\n",
       "    <tr>\n",
       "      <td>1</td>\n",
       "      <td>2</td>\n",
       "      <td>Tench</td>\n",
       "      <td>Punjab</td>\n",
       "      <td>Rawalpindi</td>\n",
       "      <td>1201</td>\n",
       "      <td>12</td>\n",
       "      <td>tenchcms@gmail.com</td>\n",
       "    </tr>\n",
       "    <tr>\n",
       "      <td>2</td>\n",
       "      <td>3</td>\n",
       "      <td>Quetta Fort</td>\n",
       "      <td>Balochistan</td>\n",
       "      <td>Quetta</td>\n",
       "      <td>1202</td>\n",
       "      <td>19</td>\n",
       "      <td>balochistanfortcms@gmail.com</td>\n",
       "    </tr>\n",
       "    <tr>\n",
       "      <td>3</td>\n",
       "      <td>4</td>\n",
       "      <td>Quetta Pishin</td>\n",
       "      <td>Balochistan</td>\n",
       "      <td>Quetta</td>\n",
       "      <td>1203</td>\n",
       "      <td>11</td>\n",
       "      <td>balochistanpishincms@gmail.com</td>\n",
       "    </tr>\n",
       "    <tr>\n",
       "      <td>4</td>\n",
       "      <td>5</td>\n",
       "      <td>Sadder</td>\n",
       "      <td>Punjab</td>\n",
       "      <td>Rawalpindi</td>\n",
       "      <td>1208</td>\n",
       "      <td>11</td>\n",
       "      <td>saddercms@gmail.com</td>\n",
       "    </tr>\n",
       "  </tbody>\n",
       "</table>\n",
       "</div>"
      ],
      "text/plain": [
       "   id           name     province        city  register_num  num_of_employes  \\\n",
       "0   1        korangi        Sindh     Karachi          1200               19   \n",
       "1   2          Tench       Punjab  Rawalpindi          1201               12   \n",
       "2   3    Quetta Fort  Balochistan      Quetta          1202               19   \n",
       "3   4  Quetta Pishin  Balochistan      Quetta          1203               11   \n",
       "4   5         Sadder       Punjab  Rawalpindi          1208               11   \n",
       "\n",
       "                            email  \n",
       "0            korangicms@gmail.com  \n",
       "1              tenchcms@gmail.com  \n",
       "2    balochistanfortcms@gmail.com  \n",
       "3  balochistanpishincms@gmail.com  \n",
       "4             saddercms@gmail.com  "
      ]
     },
     "execution_count": 51,
     "metadata": {},
     "output_type": "execute_result"
    }
   ],
   "source": [
    "df_franchise=df_franchise.drop(['owner_id','location_id','office_closing_timing','office_starting_timing'],axis=1)\n",
    "df_franchise.head()"
   ]
  },
  {
   "cell_type": "code",
   "execution_count": 52,
   "metadata": {},
   "outputs": [],
   "source": [
    "# for checking other anamolies/outliers"
   ]
  },
  {
   "cell_type": "code",
   "execution_count": 53,
   "metadata": {},
   "outputs": [
    {
     "name": "stdout",
     "output_type": "stream",
     "text": [
      "Outliers in: name: \n",
      "0\n",
      "Outliers in: province: \n",
      "0\n",
      "Outliers in: city: \n",
      "0\n",
      "Outliers in: register_num: \n",
      "0\n",
      "Outliers in: num_of_employes: \n",
      "0\n",
      "Outliers in: email: \n",
      "0\n"
     ]
    }
   ],
   "source": [
    "# Outliers\n",
    "data_mean = mean(df_franchise._get_numeric_data())\n",
    "data_std = std(df_franchise._get_numeric_data())\n",
    "# identify outliers\n",
    "cut_off = data_std * 3\n",
    "lower, upper = data_mean - cut_off, data_mean + cut_off\n",
    "# identify outliers\n",
    "total_outliers = 0\n",
    "for i, x in enumerate(df_franchise):\n",
    "    if not i == 0:\n",
    "        print (\"Outliers in: \" + str(x) + \": \")\n",
    "        try:\n",
    "            outliers = dataframe[df_franchise[x] > df_franchise[x].mean() + 3 * df_franchise[x].std()]\n",
    "            print (len(outliers))\n",
    "            total_outliers += outliers\n",
    "        except:\n",
    "            print(\"0\")\n",
    "#outliers = [x for x in dff[] if x < lower or x > upper]\n",
    "#print('Identified outliers: %d' % len(outliers))\n",
    "# remove outliers\n",
    "#outliers_removed = [x for x in dff if x >= lower and x <= upper]\n",
    "#print('Non-outlier observations: %d' % len(outliers_removed))"
   ]
  },
  {
   "cell_type": "markdown",
   "metadata": {},
   "source": [
    "<b> now having very clean Dataset Franchise dataset as well <b>"
   ]
  },
  {
   "cell_type": "markdown",
   "metadata": {},
   "source": [
    "# Data Anlysis  And visualization"
   ]
  },
  {
   "cell_type": "markdown",
   "metadata": {},
   "source": [
    "# 6- Show By graph total number of franchisesTo see which city has more franchises?"
   ]
  },
  {
   "cell_type": "code",
   "execution_count": 37,
   "metadata": {},
   "outputs": [
    {
     "data": {
      "image/png": "[encoded data removed]",
      "text/plain": [
       "<Figure size 1152x576 with 1 Axes>"
      ]
     },
     "metadata": {
      "needs_background": "light"
     },
     "output_type": "display_data"
    }
   ],
   "source": [
    "plt.rcParams['figure.figsize']=(16,8)\n",
    "df_franchise.groupby('city')['id'].nunique().plot(kind='bar')\n",
    "plt.xlabel(\"Cities\")\n",
    "plt.ylabel(\"Total Number\")\n",
    "figsize=(28,5)\n",
    "plt.show()"
   ]
  },
  {
   "cell_type": "markdown",
   "metadata": {},
   "source": [
    "# To see by Numbering Most Franchises"
   ]
  },
  {
   "cell_type": "code",
   "execution_count": 55,
   "metadata": {},
   "outputs": [
    {
     "name": "stdout",
     "output_type": "stream",
     "text": [
      "14\n"
     ]
    }
   ],
   "source": [
    "isl= df_franchise.city.value_counts()['Islamabd']\n",
    "print(isl)"
   ]
  },
  {
   "cell_type": "code",
   "execution_count": 56,
   "metadata": {},
   "outputs": [
    {
     "name": "stdout",
     "output_type": "stream",
     "text": [
      "11\n"
     ]
    }
   ],
   "source": [
    "rwp= df_franchise.city.value_counts()['Rawalpindi']\n",
    "print(rwp)"
   ]
  },
  {
   "cell_type": "code",
   "execution_count": 57,
   "metadata": {},
   "outputs": [
    {
     "name": "stdout",
     "output_type": "stream",
     "text": [
      "12\n"
     ]
    }
   ],
   "source": [
    "que= df_franchise.city.value_counts()['Quetta']\n",
    "print(que)"
   ]
  },
  {
   "cell_type": "code",
   "execution_count": 38,
   "metadata": {},
   "outputs": [
    {
     "name": "stdout",
     "output_type": "stream",
     "text": [
      "5\n"
     ]
    }
   ],
   "source": [
    "lhr= df_franchise.city.value_counts()['Lahore']\n",
    "print(lhr)"
   ]
  },
  {
   "cell_type": "code",
   "execution_count": 39,
   "metadata": {},
   "outputs": [
    {
     "name": "stdout",
     "output_type": "stream",
     "text": [
      "7\n"
     ]
    }
   ],
   "source": [
    "krc= df_franchise.city.value_counts()['Karachi']\n",
    "print(krc)"
   ]
  },
  {
   "cell_type": "markdown",
   "metadata": {},
   "source": [
    "# 7- Show By graph total number of franchisesTo see which Province has more franchises?"
   ]
  },
  {
   "cell_type": "code",
   "execution_count": 46,
   "metadata": {},
   "outputs": [
    {
     "data": {
      "image/png": "[encoded data removed]",
      "text/plain": [
       "<Figure size 1080x576 with 1 Axes>"
      ]
     },
     "metadata": {
      "needs_background": "light"
     },
     "output_type": "display_data"
    }
   ],
   "source": [
    "\n",
    "plt.rcParams['figure.figsize']=(15,8)\n",
    "df_franchise.groupby('province')['id'].nunique().plot(kind='bar',color = \"pink\", ec=\"black\")\n",
    "plt.xlabel(\"Provinces\")\n",
    "plt.ylabel(\"Total Number\")\n",
    "figsize=(28,5)\n",
    "plt.show()"
   ]
  },
  {
   "cell_type": "markdown",
   "metadata": {},
   "source": [
    "# To see by Numbering Province Franchise's "
   ]
  },
  {
   "cell_type": "code",
   "execution_count": 59,
   "metadata": {},
   "outputs": [
    {
     "data": {
      "text/plain": [
       "24"
      ]
     },
     "execution_count": 59,
     "metadata": {},
     "output_type": "execute_result"
    }
   ],
   "source": [
    "Baloch=df_franchise.province.value_counts()['Balochistan']\n",
    "Baloch"
   ]
  },
  {
   "cell_type": "code",
   "execution_count": 60,
   "metadata": {},
   "outputs": [
    {
     "data": {
      "text/plain": [
       "65"
      ]
     },
     "execution_count": 60,
     "metadata": {},
     "output_type": "execute_result"
    }
   ],
   "source": [
    "punjab=df_franchise.province.value_counts()['Punjab']\n",
    "punjab"
   ]
  },
  {
   "cell_type": "code",
   "execution_count": 61,
   "metadata": {},
   "outputs": [
    {
     "data": {
      "text/plain": [
       "23"
      ]
     },
     "execution_count": 61,
     "metadata": {},
     "output_type": "execute_result"
    }
   ],
   "source": [
    "sindh=df_franchise.province.value_counts()['Sindh']\n",
    "sindh"
   ]
  },
  {
   "cell_type": "code",
   "execution_count": 62,
   "metadata": {},
   "outputs": [
    {
     "data": {
      "text/plain": [
       "8"
      ]
     },
     "execution_count": 62,
     "metadata": {},
     "output_type": "execute_result"
    }
   ],
   "source": [
    "Ajk=df_franchise.province.value_counts()['Ajk']\n",
    "Ajk"
   ]
  },
  {
   "cell_type": "code",
   "execution_count": 63,
   "metadata": {},
   "outputs": [
    {
     "data": {
      "text/plain": [
       "23"
      ]
     },
     "execution_count": 63,
     "metadata": {},
     "output_type": "execute_result"
    }
   ],
   "source": [
    "sindh=df_franchise.province.value_counts()['Sindh']\n",
    "sindh"
   ]
  },
  {
   "cell_type": "code",
   "execution_count": 64,
   "metadata": {},
   "outputs": [
    {
     "data": {
      "text/plain": [
       "25"
      ]
     },
     "execution_count": 64,
     "metadata": {},
     "output_type": "execute_result"
    }
   ],
   "source": [
    "kpk=df_franchise.province.value_counts()['kpk']\n",
    "kpk"
   ]
  },
  {
   "cell_type": "markdown",
   "metadata": {},
   "source": [
    "# 8- Show by Graph Which Franchise has more Number of employes"
   ]
  },
  {
   "cell_type": "markdown",
   "metadata": {},
   "source": [
    "<b> for this we have to change some data accordingling <b> "
   ]
  },
  {
   "cell_type": "code",
   "execution_count": 47,
   "metadata": {},
   "outputs": [
    {
     "data": {
      "text/html": [
       "<div>\n",
       "<style scoped>\n",
       "    .dataframe tbody tr th:only-of-type {\n",
       "        vertical-align: middle;\n",
       "    }\n",
       "\n",
       "    .dataframe tbody tr th {\n",
       "        vertical-align: top;\n",
       "    }\n",
       "\n",
       "    .dataframe thead th {\n",
       "        text-align: right;\n",
       "    }\n",
       "</style>\n",
       "<table border=\"1\" class=\"dataframe\">\n",
       "  <thead>\n",
       "    <tr style=\"text-align: right;\">\n",
       "      <th></th>\n",
       "      <th>total</th>\n",
       "      <th>num_of_employes</th>\n",
       "      <th>name</th>\n",
       "      <th>email</th>\n",
       "    </tr>\n",
       "  </thead>\n",
       "  <tbody>\n",
       "    <tr>\n",
       "      <td>0</td>\n",
       "      <td>0.0</td>\n",
       "      <td>10</td>\n",
       "      <td>Dar-ul-Islam</td>\n",
       "      <td>darulislamicms@gmail.com</td>\n",
       "    </tr>\n",
       "    <tr>\n",
       "      <td>1</td>\n",
       "      <td>0.0</td>\n",
       "      <td>11</td>\n",
       "      <td>Quetta Pishin</td>\n",
       "      <td>balochistanpishincms@gmail.com</td>\n",
       "    </tr>\n",
       "    <tr>\n",
       "      <td>2</td>\n",
       "      <td>0.0</td>\n",
       "      <td>12</td>\n",
       "      <td>Tench</td>\n",
       "      <td>tenchcms@gmail.com</td>\n",
       "    </tr>\n",
       "    <tr>\n",
       "      <td>3</td>\n",
       "      <td>0.0</td>\n",
       "      <td>13</td>\n",
       "      <td>Sangseela(Dera_Bughti) Branch</td>\n",
       "      <td>sangseela_dera_bughti_branchcms@gmail.com</td>\n",
       "    </tr>\n",
       "    <tr>\n",
       "      <td>4</td>\n",
       "      <td>0.0</td>\n",
       "      <td>14</td>\n",
       "      <td>H4_Branch</td>\n",
       "      <td>h4cms@gmail.com</td>\n",
       "    </tr>\n",
       "  </tbody>\n",
       "</table>\n",
       "</div>"
      ],
      "text/plain": [
       "   total  num_of_employes                           name  \\\n",
       "0    0.0               10                   Dar-ul-Islam   \n",
       "1    0.0               11                  Quetta Pishin   \n",
       "2    0.0               12                          Tench   \n",
       "3    0.0               13  Sangseela(Dera_Bughti) Branch   \n",
       "4    0.0               14                      H4_Branch   \n",
       "\n",
       "                                       email  \n",
       "0                   darulislamicms@gmail.com  \n",
       "1             balochistanpishincms@gmail.com  \n",
       "2                         tenchcms@gmail.com  \n",
       "3  sangseela_dera_bughti_branchcms@gmail.com  \n",
       "4                            h4cms@gmail.com  "
      ]
     },
     "execution_count": 47,
     "metadata": {},
     "output_type": "execute_result"
    }
   ],
   "source": [
    "df_franchise['id'] = 1\n",
    "query_8 = '''SELECT sum(\"Index\") as total , \"num_of_employes\",\"name\",\"email\"  FROM df_franchise group by \"num_of_employes\";'''\n",
    "res_8 = pysqldf(query_8)\n",
    "res_8.head()"
   ]
  },
  {
   "cell_type": "code",
   "execution_count": 53,
   "metadata": {},
   "outputs": [
    {
     "data": {
      "image/png": "[encoded data removed]",
      "text/plain": [
       "<Figure size 1008x504 with 1 Axes>"
      ]
     },
     "metadata": {
      "needs_background": "light"
     },
     "output_type": "display_data"
    }
   ],
   "source": [
    "#using bar graph for visualize and analysis\n",
    "res_8.plot.bar(y='num_of_employes', x='name' , colormap='BuGn_r', title='Total Number of Employes in every franchise ')\n",
    "plt.gcf().set_size_inches(14, 7)\n",
    "plt.xlabel(\"Franchise Name\")\n",
    "plt.ylabel(\"Total Number\")\n",
    "\n",
    "\n",
    "plt.show()"
   ]
  },
  {
   "cell_type": "markdown",
   "metadata": {},
   "source": [
    "# Now have to look the third and last dataset user.csv"
   ]
  },
  {
   "cell_type": "markdown",
   "metadata": {},
   "source": [
    "# Exploring Dataset\n",
    " <b> User dataset <b>"
   ]
  },
  {
   "cell_type": "code",
   "execution_count": 57,
   "metadata": {},
   "outputs": [
    {
     "data": {
      "text/html": [
       "<div>\n",
       "<style scoped>\n",
       "    .dataframe tbody tr th:only-of-type {\n",
       "        vertical-align: middle;\n",
       "    }\n",
       "\n",
       "    .dataframe tbody tr th {\n",
       "        vertical-align: top;\n",
       "    }\n",
       "\n",
       "    .dataframe thead th {\n",
       "        text-align: right;\n",
       "    }\n",
       "</style>\n",
       "<table border=\"1\" class=\"dataframe\">\n",
       "  <thead>\n",
       "    <tr style=\"text-align: right;\">\n",
       "      <th></th>\n",
       "      <th>id</th>\n",
       "      <th>created</th>\n",
       "      <th>first_name</th>\n",
       "      <th>last_name</th>\n",
       "      <th>email</th>\n",
       "      <th>city_name</th>\n",
       "      <th>town_name</th>\n",
       "      <th>village_name</th>\n",
       "      <th>phone_number</th>\n",
       "      <th>cnic</th>\n",
       "      <th>...</th>\n",
       "      <th>admin_id</th>\n",
       "      <th>driver_id</th>\n",
       "      <th>franchise_id</th>\n",
       "      <th>manager_id</th>\n",
       "      <th>owner_id</th>\n",
       "      <th>post_person_id</th>\n",
       "      <th>receiver_id</th>\n",
       "      <th>sender_id</th>\n",
       "      <th>staff_id</th>\n",
       "      <th>usertype_id</th>\n",
       "    </tr>\n",
       "  </thead>\n",
       "  <tbody>\n",
       "    <tr>\n",
       "      <td>0</td>\n",
       "      <td>1</td>\n",
       "      <td>2020-03-15 07:34:41.303364</td>\n",
       "      <td>Khawaja</td>\n",
       "      <td>Rehaman</td>\n",
       "      <td>khawajarehmancms@gmail.com</td>\n",
       "      <td>Karachi</td>\n",
       "      <td>NaN</td>\n",
       "      <td>NaN</td>\n",
       "      <td>0301689054</td>\n",
       "      <td>37403123456103</td>\n",
       "      <td>...</td>\n",
       "      <td>0</td>\n",
       "      <td>0</td>\n",
       "      <td>1</td>\n",
       "      <td>0</td>\n",
       "      <td>1</td>\n",
       "      <td>0</td>\n",
       "      <td>0</td>\n",
       "      <td>0</td>\n",
       "      <td>0</td>\n",
       "      <td>6</td>\n",
       "    </tr>\n",
       "    <tr>\n",
       "      <td>1</td>\n",
       "      <td>2</td>\n",
       "      <td>2020-03-15 07:36:33.941466</td>\n",
       "      <td>Ali</td>\n",
       "      <td>Azmat</td>\n",
       "      <td>aliazmatcms@gmail.com</td>\n",
       "      <td>Islamabad</td>\n",
       "      <td>NaN</td>\n",
       "      <td>NaN</td>\n",
       "      <td>0301689053</td>\n",
       "      <td>37405123456101</td>\n",
       "      <td>...</td>\n",
       "      <td>0</td>\n",
       "      <td>0</td>\n",
       "      <td>17</td>\n",
       "      <td>0</td>\n",
       "      <td>1</td>\n",
       "      <td>0</td>\n",
       "      <td>0</td>\n",
       "      <td>0</td>\n",
       "      <td>0</td>\n",
       "      <td>3</td>\n",
       "    </tr>\n",
       "  </tbody>\n",
       "</table>\n",
       "<p>2 rows × 27 columns</p>\n",
       "</div>"
      ],
      "text/plain": [
       "   id                     created first_name last_name  \\\n",
       "0   1  2020-03-15 07:34:41.303364    Khawaja   Rehaman   \n",
       "1   2  2020-03-15 07:36:33.941466        Ali     Azmat   \n",
       "\n",
       "                        email  city_name  town_name  village_name  \\\n",
       "0  khawajarehmancms@gmail.com    Karachi        NaN           NaN   \n",
       "1       aliazmatcms@gmail.com  Islamabad        NaN           NaN   \n",
       "\n",
       "  phone_number            cnic  ... admin_id driver_id franchise_id  \\\n",
       "0   0301689054  37403123456103  ...        0         0            1   \n",
       "1   0301689053  37405123456101  ...        0         0           17   \n",
       "\n",
       "  manager_id  owner_id  post_person_id  receiver_id  sender_id  staff_id  \\\n",
       "0          0         1               0            0          0         0   \n",
       "1          0         1               0            0          0         0   \n",
       "\n",
       "   usertype_id  \n",
       "0            6  \n",
       "1            3  \n",
       "\n",
       "[2 rows x 27 columns]"
      ]
     },
     "execution_count": 57,
     "metadata": {},
     "output_type": "execute_result"
    }
   ],
   "source": [
    "df_user=pd.read_csv(r'user1.csv')\n",
    "df_user.head(2)"
   ]
  },
  {
   "cell_type": "code",
   "execution_count": 58,
   "metadata": {},
   "outputs": [
    {
     "data": {
      "text/html": [
       "<div>\n",
       "<style scoped>\n",
       "    .dataframe tbody tr th:only-of-type {\n",
       "        vertical-align: middle;\n",
       "    }\n",
       "\n",
       "    .dataframe tbody tr th {\n",
       "        vertical-align: top;\n",
       "    }\n",
       "\n",
       "    .dataframe thead th {\n",
       "        text-align: right;\n",
       "    }\n",
       "</style>\n",
       "<table border=\"1\" class=\"dataframe\">\n",
       "  <thead>\n",
       "    <tr style=\"text-align: right;\">\n",
       "      <th></th>\n",
       "      <th>id</th>\n",
       "      <th>created</th>\n",
       "      <th>first_name</th>\n",
       "      <th>last_name</th>\n",
       "      <th>email</th>\n",
       "      <th>city_name</th>\n",
       "      <th>town_name</th>\n",
       "      <th>village_name</th>\n",
       "      <th>phone_number</th>\n",
       "      <th>cnic</th>\n",
       "      <th>...</th>\n",
       "      <th>admin_id</th>\n",
       "      <th>driver_id</th>\n",
       "      <th>franchise_id</th>\n",
       "      <th>manager_id</th>\n",
       "      <th>owner_id</th>\n",
       "      <th>post_person_id</th>\n",
       "      <th>receiver_id</th>\n",
       "      <th>sender_id</th>\n",
       "      <th>staff_id</th>\n",
       "      <th>usertype_id</th>\n",
       "    </tr>\n",
       "  </thead>\n",
       "  <tbody>\n",
       "    <tr>\n",
       "      <td>115</td>\n",
       "      <td>118</td>\n",
       "      <td>2020-03-15 10:25:51.038888</td>\n",
       "      <td>Khadim</td>\n",
       "      <td>Sahb</td>\n",
       "      <td>khadim@gmail.com</td>\n",
       "      <td>Islamabad</td>\n",
       "      <td>NaN</td>\n",
       "      <td>NaN</td>\n",
       "      <td>NaN</td>\n",
       "      <td>NaN</td>\n",
       "      <td>...</td>\n",
       "      <td>0</td>\n",
       "      <td>0</td>\n",
       "      <td>15</td>\n",
       "      <td>0</td>\n",
       "      <td>1</td>\n",
       "      <td>0</td>\n",
       "      <td>0</td>\n",
       "      <td>0</td>\n",
       "      <td>0</td>\n",
       "      <td>4</td>\n",
       "    </tr>\n",
       "    <tr>\n",
       "      <td>116</td>\n",
       "      <td>119</td>\n",
       "      <td>2020-07-06 07:45:42.281596</td>\n",
       "      <td>Ishtiaq</td>\n",
       "      <td>Hussain</td>\n",
       "      <td>ishtiaqcms@gmail.com</td>\n",
       "      <td>Rawalpindi</td>\n",
       "      <td>NaN</td>\n",
       "      <td>NaN</td>\n",
       "      <td>0330-1676411</td>\n",
       "      <td>37405-1567000-0</td>\n",
       "      <td>...</td>\n",
       "      <td>0</td>\n",
       "      <td>0</td>\n",
       "      <td>9</td>\n",
       "      <td>0</td>\n",
       "      <td>1</td>\n",
       "      <td>0</td>\n",
       "      <td>0</td>\n",
       "      <td>0</td>\n",
       "      <td>0</td>\n",
       "      <td>7</td>\n",
       "    </tr>\n",
       "  </tbody>\n",
       "</table>\n",
       "<p>2 rows × 27 columns</p>\n",
       "</div>"
      ],
      "text/plain": [
       "      id                     created first_name last_name  \\\n",
       "115  118  2020-03-15 10:25:51.038888     Khadim      Sahb   \n",
       "116  119  2020-07-06 07:45:42.281596    Ishtiaq   Hussain   \n",
       "\n",
       "                    email   city_name  town_name  village_name  phone_number  \\\n",
       "115      khadim@gmail.com   Islamabad        NaN           NaN           NaN   \n",
       "116  ishtiaqcms@gmail.com  Rawalpindi        NaN           NaN  0330-1676411   \n",
       "\n",
       "                cnic  ... admin_id driver_id franchise_id manager_id  \\\n",
       "115              NaN  ...        0         0           15          0   \n",
       "116  37405-1567000-0  ...        0         0            9          0   \n",
       "\n",
       "     owner_id  post_person_id  receiver_id  sender_id  staff_id  usertype_id  \n",
       "115         1               0            0          0         0            4  \n",
       "116         1               0            0          0         0            7  \n",
       "\n",
       "[2 rows x 27 columns]"
      ]
     },
     "execution_count": 58,
     "metadata": {},
     "output_type": "execute_result"
    }
   ],
   "source": [
    "df_user.tail(2)"
   ]
  },
  {
   "cell_type": "markdown",
   "metadata": {},
   "source": [
    "# To See all columns and rows info"
   ]
  },
  {
   "cell_type": "code",
   "execution_count": 59,
   "metadata": {},
   "outputs": [
    {
     "name": "stdout",
     "output_type": "stream",
     "text": [
      "<class 'pandas.core.frame.DataFrame'>\n",
      "RangeIndex: 117 entries, 0 to 116\n",
      "Data columns (total 27 columns):\n",
      "id                        117 non-null int64\n",
      "created                   117 non-null object\n",
      "first_name                117 non-null object\n",
      "last_name                 117 non-null object\n",
      "email                     117 non-null object\n",
      "city_name                 114 non-null object\n",
      "town_name                 0 non-null float64\n",
      "village_name              0 non-null float64\n",
      "phone_number              115 non-null object\n",
      "cnic                      115 non-null object\n",
      "gender                    117 non-null object\n",
      "province                  117 non-null object\n",
      "district                  117 non-null object\n",
      "sector                    117 non-null object\n",
      "street                    117 non-null int64\n",
      "house_no                  117 non-null int64\n",
      "driver_liesence_number    1 non-null float64\n",
      "admin_id                  117 non-null int64\n",
      "driver_id                 117 non-null int64\n",
      "franchise_id              117 non-null int64\n",
      "manager_id                117 non-null int64\n",
      "owner_id                  117 non-null int64\n",
      "post_person_id            117 non-null int64\n",
      "receiver_id               117 non-null int64\n",
      "sender_id                 117 non-null int64\n",
      "staff_id                  117 non-null int64\n",
      "usertype_id               117 non-null int64\n",
      "dtypes: float64(3), int64(13), object(11)\n",
      "memory usage: 24.8+ KB\n"
     ]
    }
   ],
   "source": [
    "df_user.info()"
   ]
  },
  {
   "cell_type": "code",
   "execution_count": 60,
   "metadata": {},
   "outputs": [
    {
     "data": {
      "text/plain": [
       "Index(['id', 'created', 'first_name', 'last_name', 'email', 'city_name',\n",
       "       'town_name', 'village_name', 'phone_number', 'cnic', 'gender',\n",
       "       'province', 'district', 'sector', 'street', 'house_no',\n",
       "       'driver_liesence_number', 'admin_id', 'driver_id', 'franchise_id',\n",
       "       'manager_id', 'owner_id', 'post_person_id', 'receiver_id', 'sender_id',\n",
       "       'staff_id', 'usertype_id'],\n",
       "      dtype='object')"
      ]
     },
     "execution_count": 60,
     "metadata": {},
     "output_type": "execute_result"
    }
   ],
   "source": [
    "df_user.columns"
   ]
  },
  {
   "cell_type": "markdown",
   "metadata": {},
   "source": [
    "# Statistical Description "
   ]
  },
  {
   "cell_type": "code",
   "execution_count": 61,
   "metadata": {},
   "outputs": [
    {
     "data": {
      "text/html": [
       "<div>\n",
       "<style scoped>\n",
       "    .dataframe tbody tr th:only-of-type {\n",
       "        vertical-align: middle;\n",
       "    }\n",
       "\n",
       "    .dataframe tbody tr th {\n",
       "        vertical-align: top;\n",
       "    }\n",
       "\n",
       "    .dataframe thead th {\n",
       "        text-align: right;\n",
       "    }\n",
       "</style>\n",
       "<table border=\"1\" class=\"dataframe\">\n",
       "  <thead>\n",
       "    <tr style=\"text-align: right;\">\n",
       "      <th></th>\n",
       "      <th>id</th>\n",
       "      <th>town_name</th>\n",
       "      <th>village_name</th>\n",
       "      <th>street</th>\n",
       "      <th>house_no</th>\n",
       "      <th>driver_liesence_number</th>\n",
       "      <th>admin_id</th>\n",
       "      <th>driver_id</th>\n",
       "      <th>franchise_id</th>\n",
       "      <th>manager_id</th>\n",
       "      <th>owner_id</th>\n",
       "      <th>post_person_id</th>\n",
       "      <th>receiver_id</th>\n",
       "      <th>sender_id</th>\n",
       "      <th>staff_id</th>\n",
       "      <th>usertype_id</th>\n",
       "    </tr>\n",
       "  </thead>\n",
       "  <tbody>\n",
       "    <tr>\n",
       "      <td>count</td>\n",
       "      <td>117.000000</td>\n",
       "      <td>0.0</td>\n",
       "      <td>0.0</td>\n",
       "      <td>117.000000</td>\n",
       "      <td>117.000000</td>\n",
       "      <td>1.0</td>\n",
       "      <td>117.0</td>\n",
       "      <td>117.0</td>\n",
       "      <td>117.000000</td>\n",
       "      <td>117.000000</td>\n",
       "      <td>117.0</td>\n",
       "      <td>117.0</td>\n",
       "      <td>117.0</td>\n",
       "      <td>117.0</td>\n",
       "      <td>117.0</td>\n",
       "      <td>117.000000</td>\n",
       "    </tr>\n",
       "    <tr>\n",
       "      <td>mean</td>\n",
       "      <td>60.846154</td>\n",
       "      <td>NaN</td>\n",
       "      <td>NaN</td>\n",
       "      <td>139.205128</td>\n",
       "      <td>1593.854701</td>\n",
       "      <td>6523.0</td>\n",
       "      <td>0.0</td>\n",
       "      <td>0.0</td>\n",
       "      <td>48.461538</td>\n",
       "      <td>0.068376</td>\n",
       "      <td>1.0</td>\n",
       "      <td>0.0</td>\n",
       "      <td>0.0</td>\n",
       "      <td>0.0</td>\n",
       "      <td>0.0</td>\n",
       "      <td>1.316239</td>\n",
       "    </tr>\n",
       "    <tr>\n",
       "      <td>std</td>\n",
       "      <td>34.169359</td>\n",
       "      <td>NaN</td>\n",
       "      <td>NaN</td>\n",
       "      <td>296.283518</td>\n",
       "      <td>1634.106074</td>\n",
       "      <td>NaN</td>\n",
       "      <td>0.0</td>\n",
       "      <td>0.0</td>\n",
       "      <td>56.801004</td>\n",
       "      <td>0.583191</td>\n",
       "      <td>0.0</td>\n",
       "      <td>0.0</td>\n",
       "      <td>0.0</td>\n",
       "      <td>0.0</td>\n",
       "      <td>0.0</td>\n",
       "      <td>1.119187</td>\n",
       "    </tr>\n",
       "    <tr>\n",
       "      <td>min</td>\n",
       "      <td>1.000000</td>\n",
       "      <td>NaN</td>\n",
       "      <td>NaN</td>\n",
       "      <td>1.000000</td>\n",
       "      <td>1.000000</td>\n",
       "      <td>6523.0</td>\n",
       "      <td>0.0</td>\n",
       "      <td>0.0</td>\n",
       "      <td>1.000000</td>\n",
       "      <td>0.000000</td>\n",
       "      <td>1.0</td>\n",
       "      <td>0.0</td>\n",
       "      <td>0.0</td>\n",
       "      <td>0.0</td>\n",
       "      <td>0.0</td>\n",
       "      <td>1.000000</td>\n",
       "    </tr>\n",
       "    <tr>\n",
       "      <td>25%</td>\n",
       "      <td>32.000000</td>\n",
       "      <td>NaN</td>\n",
       "      <td>NaN</td>\n",
       "      <td>6.000000</td>\n",
       "      <td>126.000000</td>\n",
       "      <td>6523.0</td>\n",
       "      <td>0.0</td>\n",
       "      <td>0.0</td>\n",
       "      <td>2.000000</td>\n",
       "      <td>0.000000</td>\n",
       "      <td>1.0</td>\n",
       "      <td>0.0</td>\n",
       "      <td>0.0</td>\n",
       "      <td>0.0</td>\n",
       "      <td>0.0</td>\n",
       "      <td>1.000000</td>\n",
       "    </tr>\n",
       "    <tr>\n",
       "      <td>50%</td>\n",
       "      <td>61.000000</td>\n",
       "      <td>NaN</td>\n",
       "      <td>NaN</td>\n",
       "      <td>10.000000</td>\n",
       "      <td>1045.000000</td>\n",
       "      <td>6523.0</td>\n",
       "      <td>0.0</td>\n",
       "      <td>0.0</td>\n",
       "      <td>15.000000</td>\n",
       "      <td>0.000000</td>\n",
       "      <td>1.0</td>\n",
       "      <td>0.0</td>\n",
       "      <td>0.0</td>\n",
       "      <td>0.0</td>\n",
       "      <td>0.0</td>\n",
       "      <td>1.000000</td>\n",
       "    </tr>\n",
       "    <tr>\n",
       "      <td>75%</td>\n",
       "      <td>90.000000</td>\n",
       "      <td>NaN</td>\n",
       "      <td>NaN</td>\n",
       "      <td>109.000000</td>\n",
       "      <td>3211.000000</td>\n",
       "      <td>6523.0</td>\n",
       "      <td>0.0</td>\n",
       "      <td>0.0</td>\n",
       "      <td>82.000000</td>\n",
       "      <td>0.000000</td>\n",
       "      <td>1.0</td>\n",
       "      <td>0.0</td>\n",
       "      <td>0.0</td>\n",
       "      <td>0.0</td>\n",
       "      <td>0.0</td>\n",
       "      <td>1.000000</td>\n",
       "    </tr>\n",
       "    <tr>\n",
       "      <td>max</td>\n",
       "      <td>119.000000</td>\n",
       "      <td>NaN</td>\n",
       "      <td>NaN</td>\n",
       "      <td>902.000000</td>\n",
       "      <td>5019.000000</td>\n",
       "      <td>6523.0</td>\n",
       "      <td>0.0</td>\n",
       "      <td>0.0</td>\n",
       "      <td>144.000000</td>\n",
       "      <td>6.000000</td>\n",
       "      <td>1.0</td>\n",
       "      <td>0.0</td>\n",
       "      <td>0.0</td>\n",
       "      <td>0.0</td>\n",
       "      <td>0.0</td>\n",
       "      <td>7.000000</td>\n",
       "    </tr>\n",
       "  </tbody>\n",
       "</table>\n",
       "</div>"
      ],
      "text/plain": [
       "               id  town_name  village_name      street     house_no  \\\n",
       "count  117.000000        0.0           0.0  117.000000   117.000000   \n",
       "mean    60.846154        NaN           NaN  139.205128  1593.854701   \n",
       "std     34.169359        NaN           NaN  296.283518  1634.106074   \n",
       "min      1.000000        NaN           NaN    1.000000     1.000000   \n",
       "25%     32.000000        NaN           NaN    6.000000   126.000000   \n",
       "50%     61.000000        NaN           NaN   10.000000  1045.000000   \n",
       "75%     90.000000        NaN           NaN  109.000000  3211.000000   \n",
       "max    119.000000        NaN           NaN  902.000000  5019.000000   \n",
       "\n",
       "       driver_liesence_number  admin_id  driver_id  franchise_id  manager_id  \\\n",
       "count                     1.0     117.0      117.0    117.000000  117.000000   \n",
       "mean                   6523.0       0.0        0.0     48.461538    0.068376   \n",
       "std                       NaN       0.0        0.0     56.801004    0.583191   \n",
       "min                    6523.0       0.0        0.0      1.000000    0.000000   \n",
       "25%                    6523.0       0.0        0.0      2.000000    0.000000   \n",
       "50%                    6523.0       0.0        0.0     15.000000    0.000000   \n",
       "75%                    6523.0       0.0        0.0     82.000000    0.000000   \n",
       "max                    6523.0       0.0        0.0    144.000000    6.000000   \n",
       "\n",
       "       owner_id  post_person_id  receiver_id  sender_id  staff_id  usertype_id  \n",
       "count     117.0           117.0        117.0      117.0     117.0   117.000000  \n",
       "mean        1.0             0.0          0.0        0.0       0.0     1.316239  \n",
       "std         0.0             0.0          0.0        0.0       0.0     1.119187  \n",
       "min         1.0             0.0          0.0        0.0       0.0     1.000000  \n",
       "25%         1.0             0.0          0.0        0.0       0.0     1.000000  \n",
       "50%         1.0             0.0          0.0        0.0       0.0     1.000000  \n",
       "75%         1.0             0.0          0.0        0.0       0.0     1.000000  \n",
       "max         1.0             0.0          0.0        0.0       0.0     7.000000  "
      ]
     },
     "execution_count": 61,
     "metadata": {},
     "output_type": "execute_result"
    }
   ],
   "source": [
    "df_user.describe()"
   ]
  },
  {
   "cell_type": "code",
   "execution_count": 62,
   "metadata": {},
   "outputs": [
    {
     "data": {
      "text/html": [
       "<div>\n",
       "<style scoped>\n",
       "    .dataframe tbody tr th:only-of-type {\n",
       "        vertical-align: middle;\n",
       "    }\n",
       "\n",
       "    .dataframe tbody tr th {\n",
       "        vertical-align: top;\n",
       "    }\n",
       "\n",
       "    .dataframe thead th {\n",
       "        text-align: right;\n",
       "    }\n",
       "</style>\n",
       "<table border=\"1\" class=\"dataframe\">\n",
       "  <thead>\n",
       "    <tr style=\"text-align: right;\">\n",
       "      <th></th>\n",
       "      <th>created</th>\n",
       "      <th>first_name</th>\n",
       "      <th>last_name</th>\n",
       "      <th>email</th>\n",
       "      <th>city_name</th>\n",
       "      <th>phone_number</th>\n",
       "      <th>cnic</th>\n",
       "      <th>gender</th>\n",
       "      <th>province</th>\n",
       "      <th>district</th>\n",
       "      <th>sector</th>\n",
       "    </tr>\n",
       "  </thead>\n",
       "  <tbody>\n",
       "    <tr>\n",
       "      <td>count</td>\n",
       "      <td>117</td>\n",
       "      <td>117</td>\n",
       "      <td>117</td>\n",
       "      <td>117</td>\n",
       "      <td>114</td>\n",
       "      <td>115</td>\n",
       "      <td>115</td>\n",
       "      <td>117</td>\n",
       "      <td>117</td>\n",
       "      <td>117</td>\n",
       "      <td>117</td>\n",
       "    </tr>\n",
       "    <tr>\n",
       "      <td>unique</td>\n",
       "      <td>117</td>\n",
       "      <td>19</td>\n",
       "      <td>19</td>\n",
       "      <td>20</td>\n",
       "      <td>7</td>\n",
       "      <td>17</td>\n",
       "      <td>17</td>\n",
       "      <td>2</td>\n",
       "      <td>4</td>\n",
       "      <td>7</td>\n",
       "      <td>11</td>\n",
       "    </tr>\n",
       "    <tr>\n",
       "      <td>top</td>\n",
       "      <td>2020-03-15 08:55:46.617946</td>\n",
       "      <td>Faisal</td>\n",
       "      <td>Jillani</td>\n",
       "      <td>faisalsatti@gmail.com</td>\n",
       "      <td>Rawalpindi</td>\n",
       "      <td>03105755950</td>\n",
       "      <td>37303143456903</td>\n",
       "      <td>M</td>\n",
       "      <td>Punjab</td>\n",
       "      <td>Rawalpindi</td>\n",
       "      <td>korangi</td>\n",
       "    </tr>\n",
       "    <tr>\n",
       "      <td>freq</td>\n",
       "      <td>1</td>\n",
       "      <td>15</td>\n",
       "      <td>15</td>\n",
       "      <td>15</td>\n",
       "      <td>29</td>\n",
       "      <td>15</td>\n",
       "      <td>15</td>\n",
       "      <td>90</td>\n",
       "      <td>62</td>\n",
       "      <td>41</td>\n",
       "      <td>25</td>\n",
       "    </tr>\n",
       "  </tbody>\n",
       "</table>\n",
       "</div>"
      ],
      "text/plain": [
       "                           created first_name last_name  \\\n",
       "count                          117        117       117   \n",
       "unique                         117         19        19   \n",
       "top     2020-03-15 08:55:46.617946     Faisal   Jillani   \n",
       "freq                             1         15        15   \n",
       "\n",
       "                        email   city_name phone_number            cnic gender  \\\n",
       "count                     117         114          115             115    117   \n",
       "unique                     20           7           17              17      2   \n",
       "top     faisalsatti@gmail.com  Rawalpindi  03105755950  37303143456903      M   \n",
       "freq                       15          29           15              15     90   \n",
       "\n",
       "       province    district   sector  \n",
       "count       117         117      117  \n",
       "unique        4           7       11  \n",
       "top      Punjab  Rawalpindi  korangi  \n",
       "freq         62          41       25  "
      ]
     },
     "execution_count": 62,
     "metadata": {},
     "output_type": "execute_result"
    }
   ],
   "source": [
    "df_user.describe(include=\"object\")"
   ]
  },
  {
   "cell_type": "markdown",
   "metadata": {},
   "source": [
    "# Data Cleaning\n",
    "<b> User dataset <b> "
   ]
  },
  {
   "cell_type": "code",
   "execution_count": 63,
   "metadata": {},
   "outputs": [
    {
     "name": "stdout",
     "output_type": "stream",
     "text": [
      "id                          0\n",
      "created                     0\n",
      "first_name                  0\n",
      "last_name                   0\n",
      "email                       0\n",
      "city_name                   3\n",
      "town_name                 117\n",
      "village_name              117\n",
      "phone_number                2\n",
      "cnic                        2\n",
      "gender                      0\n",
      "province                    0\n",
      "district                    0\n",
      "sector                      0\n",
      "street                      0\n",
      "house_no                    0\n",
      "driver_liesence_number    116\n",
      "admin_id                    0\n",
      "driver_id                   0\n",
      "franchise_id                0\n",
      "manager_id                  0\n",
      "owner_id                    0\n",
      "post_person_id              0\n",
      "receiver_id                 0\n",
      "sender_id                   0\n",
      "staff_id                    0\n",
      "usertype_id                 0\n",
      "dtype: int64\n",
      "Total Missing values: 357\n"
     ]
    }
   ],
   "source": [
    "# to check null\n",
    "print (df_user.isnull().sum())\n",
    "print (\"Total Missing values: \" + str(df_user.isnull().sum().sum()))"
   ]
  },
  {
   "cell_type": "code",
   "execution_count": 64,
   "metadata": {},
   "outputs": [],
   "source": [
    "# Drop columns which are not useful\n",
    "df_user=df_user.drop([\"created\",\"driver_liesence_number\",'admin_id','driver_id', 'franchise_id',\n",
    "       'manager_id', 'owner_id', 'post_person_id', 'receiver_id', 'sender_id',\n",
    "       'staff_id','town_name','village_name','driver_liesence_number','phone_number'], axis=1)"
   ]
  },
  {
   "cell_type": "code",
   "execution_count": 65,
   "metadata": {},
   "outputs": [
    {
     "data": {
      "text/html": [
       "<div>\n",
       "<style scoped>\n",
       "    .dataframe tbody tr th:only-of-type {\n",
       "        vertical-align: middle;\n",
       "    }\n",
       "\n",
       "    .dataframe tbody tr th {\n",
       "        vertical-align: top;\n",
       "    }\n",
       "\n",
       "    .dataframe thead th {\n",
       "        text-align: right;\n",
       "    }\n",
       "</style>\n",
       "<table border=\"1\" class=\"dataframe\">\n",
       "  <thead>\n",
       "    <tr style=\"text-align: right;\">\n",
       "      <th></th>\n",
       "      <th>id</th>\n",
       "      <th>first_name</th>\n",
       "      <th>last_name</th>\n",
       "      <th>email</th>\n",
       "      <th>city_name</th>\n",
       "      <th>cnic</th>\n",
       "      <th>gender</th>\n",
       "      <th>province</th>\n",
       "      <th>district</th>\n",
       "      <th>sector</th>\n",
       "      <th>street</th>\n",
       "      <th>house_no</th>\n",
       "      <th>usertype_id</th>\n",
       "    </tr>\n",
       "  </thead>\n",
       "  <tbody>\n",
       "    <tr>\n",
       "      <td>0</td>\n",
       "      <td>1</td>\n",
       "      <td>Khawaja</td>\n",
       "      <td>Rehaman</td>\n",
       "      <td>khawajarehmancms@gmail.com</td>\n",
       "      <td>Karachi</td>\n",
       "      <td>37403123456103</td>\n",
       "      <td>M</td>\n",
       "      <td>Sindh</td>\n",
       "      <td>Karachi</td>\n",
       "      <td>karongi</td>\n",
       "      <td>1</td>\n",
       "      <td>12</td>\n",
       "      <td>6</td>\n",
       "    </tr>\n",
       "    <tr>\n",
       "      <td>1</td>\n",
       "      <td>2</td>\n",
       "      <td>Ali</td>\n",
       "      <td>Azmat</td>\n",
       "      <td>aliazmatcms@gmail.com</td>\n",
       "      <td>Islamabad</td>\n",
       "      <td>37405123456101</td>\n",
       "      <td>M</td>\n",
       "      <td>Punjab</td>\n",
       "      <td>Islamabd</td>\n",
       "      <td>karongi</td>\n",
       "      <td>1</td>\n",
       "      <td>10</td>\n",
       "      <td>3</td>\n",
       "    </tr>\n",
       "    <tr>\n",
       "      <td>2</td>\n",
       "      <td>3</td>\n",
       "      <td>Zubair</td>\n",
       "      <td>Hussain</td>\n",
       "      <td>zubairhussaincms@gmail.com</td>\n",
       "      <td>Islamabad</td>\n",
       "      <td>37405123456111</td>\n",
       "      <td>M</td>\n",
       "      <td>Punjab</td>\n",
       "      <td>Islamabd</td>\n",
       "      <td>Soan</td>\n",
       "      <td>1</td>\n",
       "      <td>33</td>\n",
       "      <td>7</td>\n",
       "    </tr>\n",
       "    <tr>\n",
       "      <td>3</td>\n",
       "      <td>4</td>\n",
       "      <td>Kashif</td>\n",
       "      <td>Shah</td>\n",
       "      <td>kashifshahcms@gmail.com</td>\n",
       "      <td>Islamabad</td>\n",
       "      <td>37405123456211</td>\n",
       "      <td>M</td>\n",
       "      <td>Punjab</td>\n",
       "      <td>Islamabd</td>\n",
       "      <td>Soan</td>\n",
       "      <td>23</td>\n",
       "      <td>323</td>\n",
       "      <td>4</td>\n",
       "    </tr>\n",
       "    <tr>\n",
       "      <td>4</td>\n",
       "      <td>5</td>\n",
       "      <td>hadii</td>\n",
       "      <td>mir</td>\n",
       "      <td>hadimircms@gmail.com</td>\n",
       "      <td>Islamabad</td>\n",
       "      <td>37405123456511</td>\n",
       "      <td>M</td>\n",
       "      <td>Punjab</td>\n",
       "      <td>Islamabd</td>\n",
       "      <td>Soan</td>\n",
       "      <td>12</td>\n",
       "      <td>313</td>\n",
       "      <td>5</td>\n",
       "    </tr>\n",
       "  </tbody>\n",
       "</table>\n",
       "</div>"
      ],
      "text/plain": [
       "   id first_name last_name                       email  city_name  \\\n",
       "0   1    Khawaja   Rehaman  khawajarehmancms@gmail.com    Karachi   \n",
       "1   2        Ali     Azmat       aliazmatcms@gmail.com  Islamabad   \n",
       "2   3     Zubair   Hussain  zubairhussaincms@gmail.com  Islamabad   \n",
       "3   4     Kashif      Shah     kashifshahcms@gmail.com  Islamabad   \n",
       "4   5      hadii       mir        hadimircms@gmail.com  Islamabad   \n",
       "\n",
       "             cnic gender province  district   sector  street  house_no  \\\n",
       "0  37403123456103      M    Sindh   Karachi  karongi       1        12   \n",
       "1  37405123456101      M   Punjab  Islamabd  karongi       1        10   \n",
       "2  37405123456111      M   Punjab  Islamabd     Soan       1        33   \n",
       "3  37405123456211      M   Punjab  Islamabd     Soan      23       323   \n",
       "4  37405123456511      M   Punjab  Islamabd     Soan      12       313   \n",
       "\n",
       "   usertype_id  \n",
       "0            6  \n",
       "1            3  \n",
       "2            7  \n",
       "3            4  \n",
       "4            5  "
      ]
     },
     "execution_count": 65,
     "metadata": {},
     "output_type": "execute_result"
    }
   ],
   "source": [
    "df_user.head()"
   ]
  },
  {
   "cell_type": "code",
   "execution_count": 66,
   "metadata": {},
   "outputs": [],
   "source": [
    "# drop only those rows having cnic and city_name = Null and we cant fill them by mean or most frequent so better to remove rows\n",
    "df_user.dropna(inplace=True)\n"
   ]
  },
  {
   "cell_type": "code",
   "execution_count": 67,
   "metadata": {},
   "outputs": [
    {
     "name": "stdout",
     "output_type": "stream",
     "text": [
      "Outliers in: first_name: \n",
      "0\n",
      "Outliers in: last_name: \n",
      "0\n",
      "Outliers in: email: \n",
      "0\n",
      "Outliers in: city_name: \n",
      "0\n",
      "Outliers in: cnic: \n",
      "0\n",
      "Outliers in: gender: \n",
      "0\n",
      "Outliers in: province: \n",
      "0\n",
      "Outliers in: district: \n",
      "0\n",
      "Outliers in: sector: \n",
      "0\n",
      "Outliers in: street: \n",
      "0\n",
      "Outliers in: house_no: \n",
      "0\n",
      "Outliers in: usertype_id: \n",
      "0\n"
     ]
    }
   ],
   "source": [
    "# outliers\n",
    "data_mean = mean(df_user._get_numeric_data())\n",
    "data_std = std(df_user._get_numeric_data())\n",
    "# identify outliers\n",
    "cut_off = data_std * 3\n",
    "lower, upper = data_mean - cut_off, data_mean + cut_off\n",
    "# identify outliers\n",
    "total_outliers = 0\n",
    "for i, x in enumerate(df_user):\n",
    "    if not i == 0:\n",
    "        print (\"Outliers in: \" + str(x) + \": \")\n",
    "        try:\n",
    "            outliers = dataframe[df_user[x] > df_user[x].mean() + 3 * df_user[x].std()]\n",
    "            print (len(outliers))\n",
    "            total_outliers += outliers\n",
    "        except:\n",
    "            print(\"0\")"
   ]
  },
  {
   "cell_type": "markdown",
   "metadata": {},
   "source": [
    "# Data Analysis And Visualization in user csv"
   ]
  },
  {
   "cell_type": "code",
   "execution_count": 68,
   "metadata": {},
   "outputs": [
    {
     "data": {
      "text/html": [
       "<div>\n",
       "<style scoped>\n",
       "    .dataframe tbody tr th:only-of-type {\n",
       "        vertical-align: middle;\n",
       "    }\n",
       "\n",
       "    .dataframe tbody tr th {\n",
       "        vertical-align: top;\n",
       "    }\n",
       "\n",
       "    .dataframe thead th {\n",
       "        text-align: right;\n",
       "    }\n",
       "</style>\n",
       "<table border=\"1\" class=\"dataframe\">\n",
       "  <thead>\n",
       "    <tr style=\"text-align: right;\">\n",
       "      <th></th>\n",
       "      <th>id</th>\n",
       "      <th>first_name</th>\n",
       "      <th>last_name</th>\n",
       "      <th>email</th>\n",
       "      <th>city_name</th>\n",
       "      <th>cnic</th>\n",
       "      <th>gender</th>\n",
       "      <th>province</th>\n",
       "      <th>district</th>\n",
       "      <th>sector</th>\n",
       "      <th>street</th>\n",
       "      <th>house_no</th>\n",
       "      <th>usertype_id</th>\n",
       "    </tr>\n",
       "  </thead>\n",
       "  <tbody>\n",
       "    <tr>\n",
       "      <td>0</td>\n",
       "      <td>1</td>\n",
       "      <td>Khawaja</td>\n",
       "      <td>Rehaman</td>\n",
       "      <td>khawajarehmancms@gmail.com</td>\n",
       "      <td>Karachi</td>\n",
       "      <td>37403123456103</td>\n",
       "      <td>M</td>\n",
       "      <td>Sindh</td>\n",
       "      <td>Karachi</td>\n",
       "      <td>karongi</td>\n",
       "      <td>1</td>\n",
       "      <td>12</td>\n",
       "      <td>6</td>\n",
       "    </tr>\n",
       "    <tr>\n",
       "      <td>1</td>\n",
       "      <td>1</td>\n",
       "      <td>Ali</td>\n",
       "      <td>Azmat</td>\n",
       "      <td>aliazmatcms@gmail.com</td>\n",
       "      <td>Islamabad</td>\n",
       "      <td>37405123456101</td>\n",
       "      <td>M</td>\n",
       "      <td>Punjab</td>\n",
       "      <td>Islamabd</td>\n",
       "      <td>karongi</td>\n",
       "      <td>1</td>\n",
       "      <td>10</td>\n",
       "      <td>3</td>\n",
       "    </tr>\n",
       "    <tr>\n",
       "      <td>2</td>\n",
       "      <td>1</td>\n",
       "      <td>Zubair</td>\n",
       "      <td>Hussain</td>\n",
       "      <td>zubairhussaincms@gmail.com</td>\n",
       "      <td>Islamabad</td>\n",
       "      <td>37405123456111</td>\n",
       "      <td>M</td>\n",
       "      <td>Punjab</td>\n",
       "      <td>Islamabd</td>\n",
       "      <td>Soan</td>\n",
       "      <td>1</td>\n",
       "      <td>33</td>\n",
       "      <td>7</td>\n",
       "    </tr>\n",
       "    <tr>\n",
       "      <td>3</td>\n",
       "      <td>1</td>\n",
       "      <td>Kashif</td>\n",
       "      <td>Shah</td>\n",
       "      <td>kashifshahcms@gmail.com</td>\n",
       "      <td>Islamabad</td>\n",
       "      <td>37405123456211</td>\n",
       "      <td>M</td>\n",
       "      <td>Punjab</td>\n",
       "      <td>Islamabd</td>\n",
       "      <td>Soan</td>\n",
       "      <td>23</td>\n",
       "      <td>323</td>\n",
       "      <td>4</td>\n",
       "    </tr>\n",
       "    <tr>\n",
       "      <td>4</td>\n",
       "      <td>1</td>\n",
       "      <td>hadii</td>\n",
       "      <td>mir</td>\n",
       "      <td>hadimircms@gmail.com</td>\n",
       "      <td>Islamabad</td>\n",
       "      <td>37405123456511</td>\n",
       "      <td>M</td>\n",
       "      <td>Punjab</td>\n",
       "      <td>Islamabd</td>\n",
       "      <td>Soan</td>\n",
       "      <td>12</td>\n",
       "      <td>313</td>\n",
       "      <td>5</td>\n",
       "    </tr>\n",
       "  </tbody>\n",
       "</table>\n",
       "</div>"
      ],
      "text/plain": [
       "   id first_name last_name                       email  city_name  \\\n",
       "0   1    Khawaja   Rehaman  khawajarehmancms@gmail.com    Karachi   \n",
       "1   1        Ali     Azmat       aliazmatcms@gmail.com  Islamabad   \n",
       "2   1     Zubair   Hussain  zubairhussaincms@gmail.com  Islamabad   \n",
       "3   1     Kashif      Shah     kashifshahcms@gmail.com  Islamabad   \n",
       "4   1      hadii       mir        hadimircms@gmail.com  Islamabad   \n",
       "\n",
       "             cnic gender province  district   sector  street  house_no  \\\n",
       "0  37403123456103      M    Sindh   Karachi  karongi       1        12   \n",
       "1  37405123456101      M   Punjab  Islamabd  karongi       1        10   \n",
       "2  37405123456111      M   Punjab  Islamabd     Soan       1        33   \n",
       "3  37405123456211      M   Punjab  Islamabd     Soan      23       323   \n",
       "4  37405123456511      M   Punjab  Islamabd     Soan      12       313   \n",
       "\n",
       "   usertype_id  \n",
       "0            6  \n",
       "1            3  \n",
       "2            7  \n",
       "3            4  \n",
       "4            5  "
      ]
     },
     "execution_count": 68,
     "metadata": {},
     "output_type": "execute_result"
    }
   ],
   "source": [
    "df_user['id']=1\n",
    "df_user.head()"
   ]
  },
  {
   "cell_type": "markdown",
   "metadata": {},
   "source": [
    "# Q 9- Find the All males senders who used services to show who mostly used service in males"
   ]
  },
  {
   "cell_type": "code",
   "execution_count": 69,
   "metadata": {},
   "outputs": [
    {
     "data": {
      "text/html": [
       "<div>\n",
       "<style scoped>\n",
       "    .dataframe tbody tr th:only-of-type {\n",
       "        vertical-align: middle;\n",
       "    }\n",
       "\n",
       "    .dataframe tbody tr th {\n",
       "        vertical-align: top;\n",
       "    }\n",
       "\n",
       "    .dataframe thead th {\n",
       "        text-align: right;\n",
       "    }\n",
       "</style>\n",
       "<table border=\"1\" class=\"dataframe\">\n",
       "  <thead>\n",
       "    <tr style=\"text-align: right;\">\n",
       "      <th></th>\n",
       "      <th>total</th>\n",
       "      <th>email</th>\n",
       "    </tr>\n",
       "  </thead>\n",
       "  <tbody>\n",
       "    <tr>\n",
       "      <td>0</td>\n",
       "      <td>9</td>\n",
       "      <td>alihamza@gmail.com</td>\n",
       "    </tr>\n",
       "    <tr>\n",
       "      <td>1</td>\n",
       "      <td>15</td>\n",
       "      <td>faisalsatti@gmail.com</td>\n",
       "    </tr>\n",
       "    <tr>\n",
       "      <td>2</td>\n",
       "      <td>11</td>\n",
       "      <td>khawajameer@gmail.com</td>\n",
       "    </tr>\n",
       "    <tr>\n",
       "      <td>3</td>\n",
       "      <td>13</td>\n",
       "      <td>tahaqamer@gamil.com</td>\n",
       "    </tr>\n",
       "    <tr>\n",
       "      <td>4</td>\n",
       "      <td>14</td>\n",
       "      <td>usamariaz@gamil.com</td>\n",
       "    </tr>\n",
       "    <tr>\n",
       "      <td>5</td>\n",
       "      <td>5</td>\n",
       "      <td>usmanshareef@gamil.com</td>\n",
       "    </tr>\n",
       "    <tr>\n",
       "      <td>6</td>\n",
       "      <td>9</td>\n",
       "      <td>zainabbasi@gamil.com</td>\n",
       "    </tr>\n",
       "  </tbody>\n",
       "</table>\n",
       "</div>"
      ],
      "text/plain": [
       "   total                   email\n",
       "0      9      alihamza@gmail.com\n",
       "1     15   faisalsatti@gmail.com\n",
       "2     11   khawajameer@gmail.com\n",
       "3     13     tahaqamer@gamil.com\n",
       "4     14     usamariaz@gamil.com\n",
       "5      5  usmanshareef@gamil.com\n",
       "6      9    zainabbasi@gamil.com"
      ]
     },
     "execution_count": 69,
     "metadata": {},
     "output_type": "execute_result"
    }
   ],
   "source": [
    "# sql queryy\n",
    "from pandasql import sqldf\n",
    "pysqldf = lambda q: sqldf(q, globals())\n",
    "query_9 = '''SELECT Sum(\"id\") as total , \"email\" FROM df_user where \"usertype_id\" = \"1\" and gender=\"M\" group by \"email\";'''\n",
    "res_9 = pysqldf(query_9)\n",
    "res_9"
   ]
  },
  {
   "cell_type": "code",
   "execution_count": 73,
   "metadata": {},
   "outputs": [
    {
     "data": {
      "image/png": "[encoded data removed]",
      "text/plain": [
       "<Figure size 1080x504 with 1 Axes>"
      ]
     },
     "metadata": {
      "needs_background": "light"
     },
     "output_type": "display_data"
    }
   ],
   "source": [
    "\n",
    "res_9.plot.bar(x='email', y='total' ,  color = \"brown\", ec=\"skyblue\", title='Total Number of Males Using Service ')\n",
    "plt.gcf().set_size_inches(15, 7)\n",
    "plt.xlabel(\"Male Name\")\n",
    "plt.ylabel(\"Total Number\")\n",
    "plt.show()"
   ]
  },
  {
   "cell_type": "markdown",
   "metadata": {},
   "source": [
    "# Q 10- Find the All Females senders who used services to show who mostly used service in females"
   ]
  },
  {
   "cell_type": "code",
   "execution_count": 82,
   "metadata": {},
   "outputs": [
    {
     "data": {
      "text/html": [
       "<div>\n",
       "<style scoped>\n",
       "    .dataframe tbody tr th:only-of-type {\n",
       "        vertical-align: middle;\n",
       "    }\n",
       "\n",
       "    .dataframe tbody tr th {\n",
       "        vertical-align: top;\n",
       "    }\n",
       "\n",
       "    .dataframe thead th {\n",
       "        text-align: right;\n",
       "    }\n",
       "</style>\n",
       "<table border=\"1\" class=\"dataframe\">\n",
       "  <thead>\n",
       "    <tr style=\"text-align: right;\">\n",
       "      <th></th>\n",
       "      <th>total</th>\n",
       "      <th>email</th>\n",
       "    </tr>\n",
       "  </thead>\n",
       "  <tbody>\n",
       "    <tr>\n",
       "      <td>0</td>\n",
       "      <td>13</td>\n",
       "      <td>nayab@gamil.com</td>\n",
       "    </tr>\n",
       "    <tr>\n",
       "      <td>1</td>\n",
       "      <td>14</td>\n",
       "      <td>zille@gmail.com</td>\n",
       "    </tr>\n",
       "  </tbody>\n",
       "</table>\n",
       "</div>"
      ],
      "text/plain": [
       "   total            email\n",
       "0     13  nayab@gamil.com\n",
       "1     14  zille@gmail.com"
      ]
     },
     "execution_count": 82,
     "metadata": {},
     "output_type": "execute_result"
    }
   ],
   "source": [
    "# sql queryy\n",
    "from pandasql import sqldf\n",
    "pysqldf = lambda q: sqldf(q, globals())\n",
    "query_10 = '''SELECT Sum(\"id\") as total , \"email\" FROM df_user where \"usertype_id\" = \"1\" and gender=\"F\" group by \"email\";'''\n",
    "res_10 = pysqldf(query_10)\n",
    "res_10"
   ]
  },
  {
   "cell_type": "code",
   "execution_count": 98,
   "metadata": {},
   "outputs": [
    {
     "data": {
      "image/png": "[encoded data removed]",
      "text/plain": [
       "<Figure size 864x432 with 1 Axes>"
      ]
     },
     "metadata": {
      "needs_background": "light"
     },
     "output_type": "display_data"
    }
   ],
   "source": [
    "\n",
    "res_10.plot.bar(x='email', y='total' ,color = \"orange\", ec=\"skyblue\", title='Total Number of Females Using Service ')\n",
    "plt.gcf().set_size_inches(12, 6)\n",
    "plt.xlabel(\"Female name\")\n",
    "plt.ylabel(\"Total Number\")\n",
    "plt.show()"
   ]
  },
  {
   "cell_type": "markdown",
   "metadata": {},
   "source": [
    "# Q 11- Display All senders using bar graph to find who mostly used our service"
   ]
  },
  {
   "cell_type": "code",
   "execution_count": 99,
   "metadata": {},
   "outputs": [
    {
     "data": {
      "text/html": [
       "<div>\n",
       "<style scoped>\n",
       "    .dataframe tbody tr th:only-of-type {\n",
       "        vertical-align: middle;\n",
       "    }\n",
       "\n",
       "    .dataframe tbody tr th {\n",
       "        vertical-align: top;\n",
       "    }\n",
       "\n",
       "    .dataframe thead th {\n",
       "        text-align: right;\n",
       "    }\n",
       "</style>\n",
       "<table border=\"1\" class=\"dataframe\">\n",
       "  <thead>\n",
       "    <tr style=\"text-align: right;\">\n",
       "      <th></th>\n",
       "      <th>total</th>\n",
       "      <th>email</th>\n",
       "      <th>gender</th>\n",
       "    </tr>\n",
       "  </thead>\n",
       "  <tbody>\n",
       "    <tr>\n",
       "      <td>0</td>\n",
       "      <td>9</td>\n",
       "      <td>alihamza@gmail.com</td>\n",
       "      <td>M</td>\n",
       "    </tr>\n",
       "    <tr>\n",
       "      <td>1</td>\n",
       "      <td>15</td>\n",
       "      <td>faisalsatti@gmail.com</td>\n",
       "      <td>M</td>\n",
       "    </tr>\n",
       "    <tr>\n",
       "      <td>2</td>\n",
       "      <td>11</td>\n",
       "      <td>khawajameer@gmail.com</td>\n",
       "      <td>M</td>\n",
       "    </tr>\n",
       "    <tr>\n",
       "      <td>3</td>\n",
       "      <td>13</td>\n",
       "      <td>nayab@gamil.com</td>\n",
       "      <td>F</td>\n",
       "    </tr>\n",
       "    <tr>\n",
       "      <td>4</td>\n",
       "      <td>13</td>\n",
       "      <td>tahaqamer@gamil.com</td>\n",
       "      <td>M</td>\n",
       "    </tr>\n",
       "    <tr>\n",
       "      <td>5</td>\n",
       "      <td>14</td>\n",
       "      <td>usamariaz@gamil.com</td>\n",
       "      <td>M</td>\n",
       "    </tr>\n",
       "    <tr>\n",
       "      <td>6</td>\n",
       "      <td>5</td>\n",
       "      <td>usmanshareef@gamil.com</td>\n",
       "      <td>M</td>\n",
       "    </tr>\n",
       "    <tr>\n",
       "      <td>7</td>\n",
       "      <td>9</td>\n",
       "      <td>zainabbasi@gamil.com</td>\n",
       "      <td>M</td>\n",
       "    </tr>\n",
       "    <tr>\n",
       "      <td>8</td>\n",
       "      <td>14</td>\n",
       "      <td>zille@gmail.com</td>\n",
       "      <td>F</td>\n",
       "    </tr>\n",
       "  </tbody>\n",
       "</table>\n",
       "</div>"
      ],
      "text/plain": [
       "   total                   email gender\n",
       "0      9      alihamza@gmail.com      M\n",
       "1     15   faisalsatti@gmail.com      M\n",
       "2     11   khawajameer@gmail.com      M\n",
       "3     13         nayab@gamil.com      F\n",
       "4     13     tahaqamer@gamil.com      M\n",
       "5     14     usamariaz@gamil.com      M\n",
       "6      5  usmanshareef@gamil.com      M\n",
       "7      9    zainabbasi@gamil.com      M\n",
       "8     14         zille@gmail.com      F"
      ]
     },
     "execution_count": 99,
     "metadata": {},
     "output_type": "execute_result"
    }
   ],
   "source": [
    "# sql queryy\n",
    "from pandasql import sqldf\n",
    "pysqldf = lambda q: sqldf(q, globals())\n",
    "query_11 = '''SELECT Sum(\"id\") as total  ,\"email\",\"gender\" FROM df_user where \"usertype_id\"=\"1\"  group by \"email\";'''\n",
    "res_11 = pysqldf(query_11)\n",
    "res_11"
   ]
  },
  {
   "cell_type": "code",
   "execution_count": 101,
   "metadata": {},
   "outputs": [
    {
     "data": {
      "image/png": "[encoded data removed]",
      "text/plain": [
       "<Figure size 936x360 with 1 Axes>"
      ]
     },
     "metadata": {
      "needs_background": "light"
     },
     "output_type": "display_data"
    }
   ],
   "source": [
    "\n",
    "res_11.plot.bar(x='email', y='total' , color = \"red\", ec=\"skyblue\", title='All senders')\n",
    "plt.gcf().set_size_inches(13, 5)\n",
    "plt.xlabel(\"Emails\")\n",
    "plt.ylabel(\"Total Number\")\n",
    "plt.show()"
   ]
  },
  {
   "cell_type": "markdown",
   "metadata": {},
   "source": [
    "# Q 12- Display All senders using bar graph to find which sector's people  mostly used our service"
   ]
  },
  {
   "cell_type": "code",
   "execution_count": 102,
   "metadata": {},
   "outputs": [
    {
     "data": {
      "text/html": [
       "<div>\n",
       "<style scoped>\n",
       "    .dataframe tbody tr th:only-of-type {\n",
       "        vertical-align: middle;\n",
       "    }\n",
       "\n",
       "    .dataframe tbody tr th {\n",
       "        vertical-align: top;\n",
       "    }\n",
       "\n",
       "    .dataframe thead th {\n",
       "        text-align: right;\n",
       "    }\n",
       "</style>\n",
       "<table border=\"1\" class=\"dataframe\">\n",
       "  <thead>\n",
       "    <tr style=\"text-align: right;\">\n",
       "      <th></th>\n",
       "      <th>total</th>\n",
       "      <th>sector</th>\n",
       "    </tr>\n",
       "  </thead>\n",
       "  <tbody>\n",
       "    <tr>\n",
       "      <td>0</td>\n",
       "      <td>5</td>\n",
       "      <td>Ayubia</td>\n",
       "    </tr>\n",
       "    <tr>\n",
       "      <td>1</td>\n",
       "      <td>15</td>\n",
       "      <td>Bacha Khan Monument</td>\n",
       "    </tr>\n",
       "    <tr>\n",
       "      <td>2</td>\n",
       "      <td>22</td>\n",
       "      <td>Blue Area</td>\n",
       "    </tr>\n",
       "    <tr>\n",
       "      <td>3</td>\n",
       "      <td>14</td>\n",
       "      <td>bostan</td>\n",
       "    </tr>\n",
       "    <tr>\n",
       "      <td>4</td>\n",
       "      <td>13</td>\n",
       "      <td>kamalabad</td>\n",
       "    </tr>\n",
       "    <tr>\n",
       "      <td>5</td>\n",
       "      <td>20</td>\n",
       "      <td>korangi</td>\n",
       "    </tr>\n",
       "    <tr>\n",
       "      <td>6</td>\n",
       "      <td>14</td>\n",
       "      <td>tench</td>\n",
       "    </tr>\n",
       "  </tbody>\n",
       "</table>\n",
       "</div>"
      ],
      "text/plain": [
       "   total               sector\n",
       "0      5               Ayubia\n",
       "1     15  Bacha Khan Monument\n",
       "2     22            Blue Area\n",
       "3     14               bostan\n",
       "4     13            kamalabad\n",
       "5     20              korangi\n",
       "6     14                tench"
      ]
     },
     "execution_count": 102,
     "metadata": {},
     "output_type": "execute_result"
    }
   ],
   "source": [
    "# sql queryy\n",
    "from pandasql import sqldf\n",
    "pysqldf = lambda q: sqldf(q, globals())\n",
    "query_12 = '''SELECT Sum(\"id\") as total ,\"sector\" FROM df_user where \"usertype_id\"=\"1\"  group by \"sector\";'''\n",
    "res_12 = pysqldf(query_12)\n",
    "res_12"
   ]
  },
  {
   "cell_type": "code",
   "execution_count": 90,
   "metadata": {},
   "outputs": [
    {
     "data": {
      "text/plain": [
       "5"
      ]
     },
     "execution_count": 90,
     "metadata": {},
     "output_type": "execute_result"
    }
   ],
   "source": [
    "#just for check\n",
    "sect=df_user.sector.value_counts()['Ayubia']\n",
    "sect"
   ]
  },
  {
   "cell_type": "code",
   "execution_count": 105,
   "metadata": {},
   "outputs": [
    {
     "data": {
      "image/png": "[encoded data removed]",
      "text/plain": [
       "<Figure size 864x432 with 1 Axes>"
      ]
     },
     "metadata": {
      "needs_background": "light"
     },
     "output_type": "display_data"
    }
   ],
   "source": [
    "# Visualization\n",
    "\n",
    "res_12.plot.bar(x='sector', y='total' , colormap='BuGn_r', title='Total Number of Sectors')\n",
    "plt.gcf().set_size_inches(12, 6)\n",
    "plt.xlabel(\"Sector\")\n",
    "plt.ylabel(\"Total Number\")\n",
    "plt.show()"
   ]
  },
  {
   "cell_type": "markdown",
   "metadata": {},
   "source": [
    "<b> Analysis End <b>"
   ]
  },
  {
   "cell_type": "code",
   "execution_count": 94,
   "metadata": {},
   "outputs": [
    {
     "data": {
      "text/html": [
       "<div>\n",
       "<style scoped>\n",
       "    .dataframe tbody tr th:only-of-type {\n",
       "        vertical-align: middle;\n",
       "    }\n",
       "\n",
       "    .dataframe tbody tr th {\n",
       "        vertical-align: top;\n",
       "    }\n",
       "\n",
       "    .dataframe thead th {\n",
       "        text-align: right;\n",
       "    }\n",
       "</style>\n",
       "<table border=\"1\" class=\"dataframe\">\n",
       "  <thead>\n",
       "    <tr style=\"text-align: right;\">\n",
       "      <th></th>\n",
       "      <th>id</th>\n",
       "      <th>price_in_gram</th>\n",
       "      <th>from_district</th>\n",
       "      <th>from_province</th>\n",
       "      <th>to_district</th>\n",
       "      <th>to_province</th>\n",
       "      <th>weight_in_gram</th>\n",
       "      <th>package_type</th>\n",
       "    </tr>\n",
       "  </thead>\n",
       "  <tbody>\n",
       "    <tr>\n",
       "      <td>0</td>\n",
       "      <td>1</td>\n",
       "      <td>5.0</td>\n",
       "      <td>Karachi</td>\n",
       "      <td>Sindh</td>\n",
       "      <td>Rawalpindi</td>\n",
       "      <td>Punjab</td>\n",
       "      <td>10</td>\n",
       "      <td>DOCUMENTS</td>\n",
       "    </tr>\n",
       "    <tr>\n",
       "      <td>1</td>\n",
       "      <td>2</td>\n",
       "      <td>8.0</td>\n",
       "      <td>Rawalpindi</td>\n",
       "      <td>Punjab</td>\n",
       "      <td>Islamabd</td>\n",
       "      <td>Punjab</td>\n",
       "      <td>24</td>\n",
       "      <td>BOOK/COpy</td>\n",
       "    </tr>\n",
       "  </tbody>\n",
       "</table>\n",
       "</div>"
      ],
      "text/plain": [
       "   id  price_in_gram from_district from_province to_district to_province  \\\n",
       "0   1            5.0       Karachi         Sindh  Rawalpindi      Punjab   \n",
       "1   2            8.0    Rawalpindi        Punjab    Islamabd      Punjab   \n",
       "\n",
       "   weight_in_gram package_type  \n",
       "0              10    DOCUMENTS  \n",
       "1              24    BOOK/COpy  "
      ]
     },
     "execution_count": 94,
     "metadata": {},
     "output_type": "execute_result"
    }
   ],
   "source": [
    "df_pkg_rates.head(2)"
   ]
  },
  {
   "cell_type": "markdown",
   "metadata": {},
   "source": [
    "# Machine learning Decision Tree"
   ]
  },
  {
   "cell_type": "code",
   "execution_count": 110,
   "metadata": {},
   "outputs": [
    {
     "data": {
      "text/html": [
       "<div>\n",
       "<style scoped>\n",
       "    .dataframe tbody tr th:only-of-type {\n",
       "        vertical-align: middle;\n",
       "    }\n",
       "\n",
       "    .dataframe tbody tr th {\n",
       "        vertical-align: top;\n",
       "    }\n",
       "\n",
       "    .dataframe thead th {\n",
       "        text-align: right;\n",
       "    }\n",
       "</style>\n",
       "<table border=\"1\" class=\"dataframe\">\n",
       "  <thead>\n",
       "    <tr style=\"text-align: right;\">\n",
       "      <th></th>\n",
       "      <th>price_in_gram</th>\n",
       "      <th>weight_in_gram</th>\n",
       "    </tr>\n",
       "  </thead>\n",
       "  <tbody>\n",
       "    <tr>\n",
       "      <td>0</td>\n",
       "      <td>5.0</td>\n",
       "      <td>10</td>\n",
       "    </tr>\n",
       "    <tr>\n",
       "      <td>1</td>\n",
       "      <td>8.0</td>\n",
       "      <td>24</td>\n",
       "    </tr>\n",
       "    <tr>\n",
       "      <td>2</td>\n",
       "      <td>8.0</td>\n",
       "      <td>16</td>\n",
       "    </tr>\n",
       "    <tr>\n",
       "      <td>3</td>\n",
       "      <td>12.0</td>\n",
       "      <td>20</td>\n",
       "    </tr>\n",
       "    <tr>\n",
       "      <td>4</td>\n",
       "      <td>15.0</td>\n",
       "      <td>60</td>\n",
       "    </tr>\n",
       "    <tr>\n",
       "      <td>...</td>\n",
       "      <td>...</td>\n",
       "      <td>...</td>\n",
       "    </tr>\n",
       "    <tr>\n",
       "      <td>512</td>\n",
       "      <td>119.0</td>\n",
       "      <td>476</td>\n",
       "    </tr>\n",
       "    <tr>\n",
       "      <td>513</td>\n",
       "      <td>120.0</td>\n",
       "      <td>480</td>\n",
       "    </tr>\n",
       "    <tr>\n",
       "      <td>514</td>\n",
       "      <td>121.0</td>\n",
       "      <td>484</td>\n",
       "    </tr>\n",
       "    <tr>\n",
       "      <td>515</td>\n",
       "      <td>122.0</td>\n",
       "      <td>488</td>\n",
       "    </tr>\n",
       "    <tr>\n",
       "      <td>516</td>\n",
       "      <td>123.0</td>\n",
       "      <td>492</td>\n",
       "    </tr>\n",
       "  </tbody>\n",
       "</table>\n",
       "<p>517 rows × 2 columns</p>\n",
       "</div>"
      ],
      "text/plain": [
       "     price_in_gram  weight_in_gram\n",
       "0              5.0              10\n",
       "1              8.0              24\n",
       "2              8.0              16\n",
       "3             12.0              20\n",
       "4             15.0              60\n",
       "..             ...             ...\n",
       "512          119.0             476\n",
       "513          120.0             480\n",
       "514          121.0             484\n",
       "515          122.0             488\n",
       "516          123.0             492\n",
       "\n",
       "[517 rows x 2 columns]"
      ]
     },
     "execution_count": 110,
     "metadata": {},
     "output_type": "execute_result"
    }
   ],
   "source": [
    "from sklearn.tree import DecisionTreeClassifier\n",
    "X=df_pkg_rates.drop(columns=['from_district','to_district','id','from_province','to_province',\n",
    "'package_type'])\n",
    "X\n"
   ]
  },
  {
   "cell_type": "code",
   "execution_count": 111,
   "metadata": {},
   "outputs": [
    {
     "data": {
      "text/plain": [
       "0    DOCUMENTS\n",
       "1    BOOK/COpy\n",
       "2    DOCUMENTS\n",
       "3    BOOK/COpy\n",
       "Name: package_type, dtype: object"
      ]
     },
     "execution_count": 111,
     "metadata": {},
     "output_type": "execute_result"
    }
   ],
   "source": [
    "Y=df_pkg_rates['package_type']\n",
    "Y.head(4)"
   ]
  },
  {
   "cell_type": "code",
   "execution_count": 108,
   "metadata": {},
   "outputs": [
    {
     "data": {
      "text/plain": [
       "array(['DOCUMENTS'], dtype=object)"
      ]
     },
     "execution_count": 108,
     "metadata": {},
     "output_type": "execute_result"
    }
   ],
   "source": [
    "model=DecisionTreeClassifier()\n",
    "model.fit(X,Y)\n",
    "predictions=model.predict([[5,10]])\n",
    "predictions"
   ]
  },
  {
   "cell_type": "code",
   "execution_count": 109,
   "metadata": {},
   "outputs": [
    {
     "data": {
      "text/plain": [
       "0.9615384615384616"
      ]
     },
     "execution_count": 109,
     "metadata": {},
     "output_type": "execute_result"
    }
   ],
   "source": [
    "from sklearn.model_selection import train_test_split\n",
    "from sklearn.metrics import accuracy_score\n",
    "X=X\n",
    "Y=Y\n",
    "X_train, X_test, Y_train, Y_test=train_test_split(X,Y, test_size=0.2)\n",
    "model=DecisionTreeClassifier()\n",
    "model.fit(X_train, Y_train)  \n",
    "predictions=model.predict(X_test)\n",
    "score=accuracy_score(Y_test, predictions)\n",
    "score"
   ]
  },
  {
   "cell_type": "markdown",
   "metadata": {},
   "source": [
    "<b> Model was very good , accuracy was 98 % <b>"
   ]
  },
  {
   "cell_type": "markdown",
   "metadata": {},
   "source": [
    " # Machine Learning Algorithm Random Forest"
   ]
  },
  {
   "cell_type": "code",
   "execution_count": 124,
   "metadata": {},
   "outputs": [
    {
     "data": {
      "text/plain": [
       "array(['DOCUMENTS', 'OTHER_PHYSICAL_INSTRUMENTS', 'DOCUMENTS',\n",
       "       'DOCUMENTS', 'BOOK/COpy', 'BOOK/COpy'], dtype=object)"
      ]
     },
     "execution_count": 124,
     "metadata": {},
     "output_type": "execute_result"
    }
   ],
   "source": [
    "# random Forest\n",
    "from sklearn.model_selection import train_test_split\n",
    "from sklearn.ensemble import RandomForestClassifier\n",
    "from sklearn.datasets import make_classification\n",
    "from sklearn.preprocessing import StandardScaler\n",
    "X_train, X_test, y_train, y_test = train_test_split(X, Y, test_size=0.2, random_state=0)\n",
    "sc = StandardScaler()\n",
    "X_train = sc.fit_transform(X_train)\n",
    "X_test = sc.transform(X_test)\n",
    "regressor = RandomForestClassifier(n_estimators=20, random_state=0)\n",
    "regressor.fit(X_train, y_train)\n",
    "y_pred = regressor.predict(X_test)\n",
    "y_pred[:6]"
   ]
  },
  {
   "cell_type": "code",
   "execution_count": 117,
   "metadata": {},
   "outputs": [
    {
     "name": "stdout",
     "output_type": "stream",
     "text": [
      "[[35  0  1]\n",
      " [ 2 42  0]\n",
      " [ 1  0 23]]\n",
      "                            precision    recall  f1-score   support\n",
      "\n",
      "                 BOOK/COpy       0.92      0.97      0.95        36\n",
      "                 DOCUMENTS       1.00      0.95      0.98        44\n",
      "OTHER_PHYSICAL_INSTRUMENTS       0.96      0.96      0.96        24\n",
      "\n",
      "                  accuracy                           0.96       104\n",
      "                 macro avg       0.96      0.96      0.96       104\n",
      "              weighted avg       0.96      0.96      0.96       104\n",
      "\n",
      "0.9615384615384616\n"
     ]
    }
   ],
   "source": [
    "from sklearn.metrics import classification_report, confusion_matrix, accuracy_score\n",
    "\n",
    "print(confusion_matrix(y_test,y_pred))\n",
    "print(classification_report(y_test,y_pred))\n",
    "print(accuracy_score(y_test, y_pred))"
   ]
  },
  {
   "cell_type": "markdown",
   "metadata": {},
   "source": [
    "<b> that was good as well, with 96% accuracy <b>"
   ]
  },
  {
   "cell_type": "markdown",
   "metadata": {},
   "source": [
    " # Machine Learning Simple Linear Regression\n",
    "  <b> 1 input, 1 target <b>"
   ]
  },
  {
   "cell_type": "code",
   "execution_count": 291,
   "metadata": {},
   "outputs": [
    {
     "data": {
      "text/html": [
       "<div>\n",
       "<style scoped>\n",
       "    .dataframe tbody tr th:only-of-type {\n",
       "        vertical-align: middle;\n",
       "    }\n",
       "\n",
       "    .dataframe tbody tr th {\n",
       "        vertical-align: top;\n",
       "    }\n",
       "\n",
       "    .dataframe thead th {\n",
       "        text-align: right;\n",
       "    }\n",
       "</style>\n",
       "<table border=\"1\" class=\"dataframe\">\n",
       "  <thead>\n",
       "    <tr style=\"text-align: right;\">\n",
       "      <th></th>\n",
       "      <th>id</th>\n",
       "      <th>price_in_gram</th>\n",
       "      <th>from_district</th>\n",
       "      <th>from_province</th>\n",
       "      <th>to_district</th>\n",
       "      <th>to_province</th>\n",
       "      <th>weight_in_gram</th>\n",
       "      <th>package_type</th>\n",
       "    </tr>\n",
       "  </thead>\n",
       "  <tbody>\n",
       "    <tr>\n",
       "      <td>0</td>\n",
       "      <td>1</td>\n",
       "      <td>5.0</td>\n",
       "      <td>Karachi</td>\n",
       "      <td>Sindh</td>\n",
       "      <td>Rawalpindi</td>\n",
       "      <td>Punjab</td>\n",
       "      <td>10</td>\n",
       "      <td>DOCUMENTS</td>\n",
       "    </tr>\n",
       "    <tr>\n",
       "      <td>1</td>\n",
       "      <td>2</td>\n",
       "      <td>8.0</td>\n",
       "      <td>Rawalpindi</td>\n",
       "      <td>Punjab</td>\n",
       "      <td>Islamabd</td>\n",
       "      <td>Punjab</td>\n",
       "      <td>24</td>\n",
       "      <td>BOOK/COpy</td>\n",
       "    </tr>\n",
       "  </tbody>\n",
       "</table>\n",
       "</div>"
      ],
      "text/plain": [
       "   id  price_in_gram from_district from_province to_district to_province  \\\n",
       "0   1            5.0       Karachi         Sindh  Rawalpindi      Punjab   \n",
       "1   2            8.0    Rawalpindi        Punjab    Islamabd      Punjab   \n",
       "\n",
       "   weight_in_gram package_type  \n",
       "0              10    DOCUMENTS  \n",
       "1              24    BOOK/COpy  "
      ]
     },
     "execution_count": 291,
     "metadata": {},
     "output_type": "execute_result"
    }
   ],
   "source": [
    "df_pkg_rates=pd.read_csv(r'pacakagerates2.csv')\n",
    "df_pkg_rates.head(2)"
   ]
  },
  {
   "cell_type": "code",
   "execution_count": 292,
   "metadata": {},
   "outputs": [
    {
     "data": {
      "text/html": [
       "<div>\n",
       "<style scoped>\n",
       "    .dataframe tbody tr th:only-of-type {\n",
       "        vertical-align: middle;\n",
       "    }\n",
       "\n",
       "    .dataframe tbody tr th {\n",
       "        vertical-align: top;\n",
       "    }\n",
       "\n",
       "    .dataframe thead th {\n",
       "        text-align: right;\n",
       "    }\n",
       "</style>\n",
       "<table border=\"1\" class=\"dataframe\">\n",
       "  <thead>\n",
       "    <tr style=\"text-align: right;\">\n",
       "      <th></th>\n",
       "      <th>price_in_gram</th>\n",
       "      <th>weight_in_gram</th>\n",
       "    </tr>\n",
       "  </thead>\n",
       "  <tbody>\n",
       "    <tr>\n",
       "      <td>0</td>\n",
       "      <td>5.0</td>\n",
       "      <td>10</td>\n",
       "    </tr>\n",
       "    <tr>\n",
       "      <td>1</td>\n",
       "      <td>8.0</td>\n",
       "      <td>24</td>\n",
       "    </tr>\n",
       "  </tbody>\n",
       "</table>\n",
       "</div>"
      ],
      "text/plain": [
       "   price_in_gram  weight_in_gram\n",
       "0            5.0              10\n",
       "1            8.0              24"
      ]
     },
     "execution_count": 292,
     "metadata": {},
     "output_type": "execute_result"
    }
   ],
   "source": [
    "df_pkg_rates=df_pkg_rates.drop(columns=['from_district','to_district','id','from_province','to_province','package_type'])\n",
    "df_pkg_rates.head(2)"
   ]
  },
  {
   "cell_type": "code",
   "execution_count": 210,
   "metadata": {},
   "outputs": [
    {
     "data": {
      "text/html": [
       "<div>\n",
       "<style scoped>\n",
       "    .dataframe tbody tr th:only-of-type {\n",
       "        vertical-align: middle;\n",
       "    }\n",
       "\n",
       "    .dataframe tbody tr th {\n",
       "        vertical-align: top;\n",
       "    }\n",
       "\n",
       "    .dataframe thead th {\n",
       "        text-align: right;\n",
       "    }\n",
       "</style>\n",
       "<table border=\"1\" class=\"dataframe\">\n",
       "  <thead>\n",
       "    <tr style=\"text-align: right;\">\n",
       "      <th></th>\n",
       "      <th>price_in_gram</th>\n",
       "      <th>weight_in_gram</th>\n",
       "    </tr>\n",
       "  </thead>\n",
       "  <tbody>\n",
       "    <tr>\n",
       "      <td>price_in_gram</td>\n",
       "      <td>1.000000</td>\n",
       "      <td>0.921499</td>\n",
       "    </tr>\n",
       "    <tr>\n",
       "      <td>weight_in_gram</td>\n",
       "      <td>0.921499</td>\n",
       "      <td>1.000000</td>\n",
       "    </tr>\n",
       "  </tbody>\n",
       "</table>\n",
       "</div>"
      ],
      "text/plain": [
       "                price_in_gram  weight_in_gram\n",
       "price_in_gram        1.000000        0.921499\n",
       "weight_in_gram       0.921499        1.000000"
      ]
     },
     "execution_count": 210,
     "metadata": {},
     "output_type": "execute_result"
    }
   ],
   "source": [
    "df_pkg_rates.corr()"
   ]
  },
  {
   "cell_type": "code",
   "execution_count": 295,
   "metadata": {},
   "outputs": [
    {
     "data": {
      "image/png": "[encoded data removed]",
      "text/plain": [
       "<Figure size 720x360 with 1 Axes>"
      ]
     },
     "metadata": {
      "needs_background": "light"
     },
     "output_type": "display_data"
    }
   ],
   "source": [
    "plt.scatter(df_pkg_rates['weight_in_gram'], df_pkg_rates['price_in_gram'])\n",
    "plt.gcf().set_size_inches(10, 5)\n",
    "plt.xlabel(\"weight\")\n",
    "plt.ylabel(\"price\")\n",
    "plt.show()"
   ]
  },
  {
   "cell_type": "code",
   "execution_count": 212,
   "metadata": {},
   "outputs": [
    {
     "data": {
      "image/png": "[encoded data removed]",
      "text/plain": [
       "<Figure size 576x360 with 2 Axes>"
      ]
     },
     "metadata": {
      "needs_background": "light"
     },
     "output_type": "display_data"
    }
   ],
   "source": [
    "plt.figure(figsize = (8, 5))\n",
    "sns.heatmap(df_pkg_rates.corr(), annot = True, cmap=\"YlGnBu\")\n",
    "plt.show()"
   ]
  },
  {
   "cell_type": "code",
   "execution_count": 222,
   "metadata": {},
   "outputs": [
    {
     "data": {
      "image/png": "[encoded data removed]",
      "text/plain": [
       "<Figure size 432x288 with 1 Axes>"
      ]
     },
     "metadata": {
      "needs_background": "light"
     },
     "output_type": "display_data"
    },
    {
     "data": {
      "image/png": "[encoded data removed]",
      "text/plain": [
       "<Figure size 432x288 with 1 Axes>"
      ]
     },
     "metadata": {
      "needs_background": "light"
     },
     "output_type": "display_data"
    }
   ],
   "source": [
    "# select x and y and split\n",
    "X = np.array(df_pkg_rates['weight_in_gram']).reshape(-1, 1)\n",
    "Y = np.array(df_pkg_rates['price_in_gram'])\n",
    "xtrain, xtest, ytrain, ytest = train_test_split(X,Y,test_size=1/3, random_state=0)\n",
    "from sklearn.model_selection import train_test_split\n",
    "\n",
    "#Fitting simple linear regression to the Training Set\n",
    "from sklearn.linear_model import LinearRegression \n",
    "regressor = LinearRegression()\n",
    "regressor.fit(xtrain, ytrain)\n",
    "\n",
    "#Predicting the prices\n",
    "pred = regressor.predict(xtest)\n",
    "\n",
    "#Visualizing the training Test Results \n",
    "plt.scatter(xtrain, ytrain, color= 'red')\n",
    "plt.plot(xtrain, regressor.predict(xtrain), color = 'blue')\n",
    "plt.title (\"Visuals for Training Dataset\")\n",
    "plt.xlabel(\"weight\")\n",
    "plt.ylabel(\"Price\")\n",
    "plt.show()\n",
    "\n",
    "#Visualizing the Test Results \n",
    "plt.scatter(xtest, ytest, color= 'red')\n",
    "plt.plot(xtrain, regressor.predict(xtrain), color = 'blue')\n",
    "plt.title(\"Visuals for Test DataSet\")\n",
    "plt.xlabel(\"weight\")\n",
    "plt.ylabel(\"Price\")\n",
    "plt.show()\n"
   ]
  },
  {
   "cell_type": "code",
   "execution_count": 214,
   "metadata": {},
   "outputs": [
    {
     "data": {
      "text/plain": [
       "array([20.05746388, 62.35392378, 25.06625518])"
      ]
     },
     "execution_count": 214,
     "metadata": {},
     "output_type": "execute_result"
    }
   ],
   "source": [
    "Yhat=regressor.predict(xtest)\n",
    "Yhat[:3]"
   ]
  },
  {
   "cell_type": "code",
   "execution_count": 286,
   "metadata": {},
   "outputs": [
    {
     "data": {
      "text/plain": [
       "array([66.80618272, 94.35453489, 59.01472958])"
      ]
     },
     "execution_count": 286,
     "metadata": {},
     "output_type": "execute_result"
    }
   ],
   "source": [
    "Yhat=regressor.predict(xtrain)\n",
    "Yhat[:3]"
   ]
  },
  {
   "cell_type": "code",
   "execution_count": 220,
   "metadata": {},
   "outputs": [
    {
     "name": "stdout",
     "output_type": "stream",
     "text": [
      "84.18643862605614 %\n"
     ]
    }
   ],
   "source": [
    "# Accuracy\n",
    "accuracy = regressor.score(xtest,ytest)\n",
    "print(accuracy*100,'%')"
   ]
  },
  {
   "cell_type": "code",
   "execution_count": 277,
   "metadata": {},
   "outputs": [
    {
     "data": {
      "text/plain": [
       "array([17.83133441])"
      ]
     },
     "execution_count": 277,
     "metadata": {},
     "output_type": "execute_result"
    }
   ],
   "source": [
    "# Prediction by self given number\n",
    "Yhat=regressor.predict([[16]])\n",
    "Yhat"
   ]
  },
  {
   "cell_type": "markdown",
   "metadata": {},
   "source": [
    "# Multiple linear Regression\n",
    "<b> Many Input, and target <b>"
   ]
  },
  {
   "cell_type": "code",
   "execution_count": 296,
   "metadata": {},
   "outputs": [
    {
     "data": {
      "text/html": [
       "<div>\n",
       "<style scoped>\n",
       "    .dataframe tbody tr th:only-of-type {\n",
       "        vertical-align: middle;\n",
       "    }\n",
       "\n",
       "    .dataframe tbody tr th {\n",
       "        vertical-align: top;\n",
       "    }\n",
       "\n",
       "    .dataframe thead th {\n",
       "        text-align: right;\n",
       "    }\n",
       "</style>\n",
       "<table border=\"1\" class=\"dataframe\">\n",
       "  <thead>\n",
       "    <tr style=\"text-align: right;\">\n",
       "      <th></th>\n",
       "      <th>id</th>\n",
       "      <th>price_in_gram</th>\n",
       "      <th>from_district</th>\n",
       "      <th>from_province</th>\n",
       "      <th>to_district</th>\n",
       "      <th>to_province</th>\n",
       "      <th>weight_in_gram</th>\n",
       "      <th>package_type</th>\n",
       "    </tr>\n",
       "  </thead>\n",
       "  <tbody>\n",
       "    <tr>\n",
       "      <td>0</td>\n",
       "      <td>1</td>\n",
       "      <td>5.0</td>\n",
       "      <td>Karachi</td>\n",
       "      <td>Sindh</td>\n",
       "      <td>Rawalpindi</td>\n",
       "      <td>Punjab</td>\n",
       "      <td>10</td>\n",
       "      <td>DOCUMENTS</td>\n",
       "    </tr>\n",
       "    <tr>\n",
       "      <td>1</td>\n",
       "      <td>2</td>\n",
       "      <td>8.0</td>\n",
       "      <td>Rawalpindi</td>\n",
       "      <td>Punjab</td>\n",
       "      <td>Islamabd</td>\n",
       "      <td>Punjab</td>\n",
       "      <td>24</td>\n",
       "      <td>BOOK/COpy</td>\n",
       "    </tr>\n",
       "  </tbody>\n",
       "</table>\n",
       "</div>"
      ],
      "text/plain": [
       "   id  price_in_gram from_district from_province to_district to_province  \\\n",
       "0   1            5.0       Karachi         Sindh  Rawalpindi      Punjab   \n",
       "1   2            8.0    Rawalpindi        Punjab    Islamabd      Punjab   \n",
       "\n",
       "   weight_in_gram package_type  \n",
       "0              10    DOCUMENTS  \n",
       "1              24    BOOK/COpy  "
      ]
     },
     "execution_count": 296,
     "metadata": {},
     "output_type": "execute_result"
    }
   ],
   "source": [
    "df_pkg_rates=pd.read_csv(r'pacakagerates2.csv')\n",
    "df_pkg_rates.head(2)"
   ]
  },
  {
   "cell_type": "code",
   "execution_count": 297,
   "metadata": {},
   "outputs": [
    {
     "data": {
      "text/html": [
       "<div>\n",
       "<style scoped>\n",
       "    .dataframe tbody tr th:only-of-type {\n",
       "        vertical-align: middle;\n",
       "    }\n",
       "\n",
       "    .dataframe tbody tr th {\n",
       "        vertical-align: top;\n",
       "    }\n",
       "\n",
       "    .dataframe thead th {\n",
       "        text-align: right;\n",
       "    }\n",
       "</style>\n",
       "<table border=\"1\" class=\"dataframe\">\n",
       "  <thead>\n",
       "    <tr style=\"text-align: right;\">\n",
       "      <th></th>\n",
       "      <th>price_in_gram</th>\n",
       "      <th>weight_in_gram</th>\n",
       "      <th>package_type</th>\n",
       "    </tr>\n",
       "  </thead>\n",
       "  <tbody>\n",
       "    <tr>\n",
       "      <td>0</td>\n",
       "      <td>5.0</td>\n",
       "      <td>10</td>\n",
       "      <td>DOCUMENTS</td>\n",
       "    </tr>\n",
       "    <tr>\n",
       "      <td>1</td>\n",
       "      <td>8.0</td>\n",
       "      <td>24</td>\n",
       "      <td>BOOK/COpy</td>\n",
       "    </tr>\n",
       "  </tbody>\n",
       "</table>\n",
       "</div>"
      ],
      "text/plain": [
       "   price_in_gram  weight_in_gram package_type\n",
       "0            5.0              10    DOCUMENTS\n",
       "1            8.0              24    BOOK/COpy"
      ]
     },
     "execution_count": 297,
     "metadata": {},
     "output_type": "execute_result"
    }
   ],
   "source": [
    "df_pkg_rates=df_pkg_rates.drop(columns=['from_district','to_district','id','from_province','to_province'])\n",
    "df_pkg_rates.head(2)\n"
   ]
  },
  {
   "cell_type": "code",
   "execution_count": 298,
   "metadata": {},
   "outputs": [
    {
     "data": {
      "text/html": [
       "<div>\n",
       "<style scoped>\n",
       "    .dataframe tbody tr th:only-of-type {\n",
       "        vertical-align: middle;\n",
       "    }\n",
       "\n",
       "    .dataframe tbody tr th {\n",
       "        vertical-align: top;\n",
       "    }\n",
       "\n",
       "    .dataframe thead th {\n",
       "        text-align: right;\n",
       "    }\n",
       "</style>\n",
       "<table border=\"1\" class=\"dataframe\">\n",
       "  <thead>\n",
       "    <tr style=\"text-align: right;\">\n",
       "      <th></th>\n",
       "      <th>price_in_gram</th>\n",
       "      <th>weight_in_gram</th>\n",
       "      <th>package_type_BOOK/COpy</th>\n",
       "      <th>package_type_DOCUMENTS</th>\n",
       "      <th>package_type_OTHER_PHYSICAL_INSTRUMENTS</th>\n",
       "    </tr>\n",
       "  </thead>\n",
       "  <tbody>\n",
       "    <tr>\n",
       "      <td>0</td>\n",
       "      <td>5.0</td>\n",
       "      <td>10</td>\n",
       "      <td>0</td>\n",
       "      <td>1</td>\n",
       "      <td>0</td>\n",
       "    </tr>\n",
       "    <tr>\n",
       "      <td>1</td>\n",
       "      <td>8.0</td>\n",
       "      <td>24</td>\n",
       "      <td>1</td>\n",
       "      <td>0</td>\n",
       "      <td>0</td>\n",
       "    </tr>\n",
       "  </tbody>\n",
       "</table>\n",
       "</div>"
      ],
      "text/plain": [
       "   price_in_gram  weight_in_gram  package_type_BOOK/COpy  \\\n",
       "0            5.0              10                       0   \n",
       "1            8.0              24                       1   \n",
       "\n",
       "   package_type_DOCUMENTS  package_type_OTHER_PHYSICAL_INSTRUMENTS  \n",
       "0                       1                                        0  \n",
       "1                       0                                        0  "
      ]
     },
     "execution_count": 298,
     "metadata": {},
     "output_type": "execute_result"
    }
   ],
   "source": [
    "df_pkg_rates=pd.get_dummies(df_pkg_rates)\n",
    "df_pkg_rates.head(2)"
   ]
  },
  {
   "cell_type": "code",
   "execution_count": 300,
   "metadata": {},
   "outputs": [
    {
     "data": {
      "text/html": [
       "<div>\n",
       "<style scoped>\n",
       "    .dataframe tbody tr th:only-of-type {\n",
       "        vertical-align: middle;\n",
       "    }\n",
       "\n",
       "    .dataframe tbody tr th {\n",
       "        vertical-align: top;\n",
       "    }\n",
       "\n",
       "    .dataframe thead th {\n",
       "        text-align: right;\n",
       "    }\n",
       "</style>\n",
       "<table border=\"1\" class=\"dataframe\">\n",
       "  <thead>\n",
       "    <tr style=\"text-align: right;\">\n",
       "      <th></th>\n",
       "      <th>price_in_gram</th>\n",
       "      <th>weight_in_gram</th>\n",
       "      <th>package_type_BOOK/COpy</th>\n",
       "      <th>package_type_DOCUMENTS</th>\n",
       "      <th>package_type_OTHER_PHYSICAL_INSTRUMENTS</th>\n",
       "    </tr>\n",
       "  </thead>\n",
       "  <tbody>\n",
       "    <tr>\n",
       "      <td>price_in_gram</td>\n",
       "      <td>1.000000</td>\n",
       "      <td>0.921499</td>\n",
       "      <td>0.469494</td>\n",
       "      <td>-0.327159</td>\n",
       "      <td>-0.155041</td>\n",
       "    </tr>\n",
       "    <tr>\n",
       "      <td>weight_in_gram</td>\n",
       "      <td>0.921499</td>\n",
       "      <td>1.000000</td>\n",
       "      <td>0.458316</td>\n",
       "      <td>-0.576632</td>\n",
       "      <td>0.143130</td>\n",
       "    </tr>\n",
       "    <tr>\n",
       "      <td>package_type_BOOK/COpy</td>\n",
       "      <td>0.469494</td>\n",
       "      <td>0.458316</td>\n",
       "      <td>1.000000</td>\n",
       "      <td>-0.612826</td>\n",
       "      <td>-0.426392</td>\n",
       "    </tr>\n",
       "    <tr>\n",
       "      <td>package_type_DOCUMENTS</td>\n",
       "      <td>-0.327159</td>\n",
       "      <td>-0.576632</td>\n",
       "      <td>-0.612826</td>\n",
       "      <td>1.000000</td>\n",
       "      <td>-0.453479</td>\n",
       "    </tr>\n",
       "    <tr>\n",
       "      <td>package_type_OTHER_PHYSICAL_INSTRUMENTS</td>\n",
       "      <td>-0.155041</td>\n",
       "      <td>0.143130</td>\n",
       "      <td>-0.426392</td>\n",
       "      <td>-0.453479</td>\n",
       "      <td>1.000000</td>\n",
       "    </tr>\n",
       "  </tbody>\n",
       "</table>\n",
       "</div>"
      ],
      "text/plain": [
       "                                         price_in_gram  weight_in_gram  \\\n",
       "price_in_gram                                 1.000000        0.921499   \n",
       "weight_in_gram                                0.921499        1.000000   \n",
       "package_type_BOOK/COpy                        0.469494        0.458316   \n",
       "package_type_DOCUMENTS                       -0.327159       -0.576632   \n",
       "package_type_OTHER_PHYSICAL_INSTRUMENTS      -0.155041        0.143130   \n",
       "\n",
       "                                         package_type_BOOK/COpy  \\\n",
       "price_in_gram                                          0.469494   \n",
       "weight_in_gram                                         0.458316   \n",
       "package_type_BOOK/COpy                                 1.000000   \n",
       "package_type_DOCUMENTS                                -0.612826   \n",
       "package_type_OTHER_PHYSICAL_INSTRUMENTS               -0.426392   \n",
       "\n",
       "                                         package_type_DOCUMENTS  \\\n",
       "price_in_gram                                         -0.327159   \n",
       "weight_in_gram                                        -0.576632   \n",
       "package_type_BOOK/COpy                                -0.612826   \n",
       "package_type_DOCUMENTS                                 1.000000   \n",
       "package_type_OTHER_PHYSICAL_INSTRUMENTS               -0.453479   \n",
       "\n",
       "                                         package_type_OTHER_PHYSICAL_INSTRUMENTS  \n",
       "price_in_gram                                                          -0.155041  \n",
       "weight_in_gram                                                          0.143130  \n",
       "package_type_BOOK/COpy                                                 -0.426392  \n",
       "package_type_DOCUMENTS                                                 -0.453479  \n",
       "package_type_OTHER_PHYSICAL_INSTRUMENTS                                 1.000000  "
      ]
     },
     "execution_count": 300,
     "metadata": {},
     "output_type": "execute_result"
    }
   ],
   "source": [
    "df_pkg_rates.corr()"
   ]
  },
  {
   "cell_type": "code",
   "execution_count": 301,
   "metadata": {},
   "outputs": [
    {
     "data": {
      "image/png": "[encoded data removed]",
      "text/plain": [
       "<Figure size 1080x720 with 4 Axes>"
      ]
     },
     "metadata": {
      "needs_background": "light"
     },
     "output_type": "display_data"
    }
   ],
   "source": [
    "fig, axs = plt.subplots(2,2,figsize=(15,10))\n",
    "plt1 = sns.scatterplot(x = 'weight_in_gram', y = 'price_in_gram', data = df_pkg_rates, ax = axs[0,0])\n",
    "plt1.set_xlabel('Weight of Package (gram)')\n",
    "plt1.set_ylabel('Price of Package (Rupees)')\n",
    "plt2 = sns.scatterplot(x = 'package_type_BOOK/COpy', y = 'price_in_gram', data = df_pkg_rates, ax = axs[0,1])\n",
    "plt2.set_xlabel('package_type_BOOK/COpy')\n",
    "plt2.set_ylabel('Price of Package (Rupees)')\n",
    "plt3 = sns.scatterplot(x = 'package_type_DOCUMENTS', y = 'price_in_gram', data = df_pkg_rates, ax = axs[1,0])\n",
    "plt3.set_xlabel('package_type_DOCUMENTS')\n",
    "plt3.set_ylabel('Price of Package (Rupees)')\n",
    "plt3 = sns.scatterplot(x = 'package_type_OTHER_PHYSICAL_INSTRUMENTS', y = 'price_in_gram', data = df_pkg_rates, ax = axs[1,1])\n",
    "plt3.set_xlabel('package_type_OTHER_PHYSICAL_INSTRUMENTS')\n",
    "plt3.set_ylabel('Price of Package (Rupees)')\n",
    "plt.tight_layout()"
   ]
  },
  {
   "cell_type": "code",
   "execution_count": 236,
   "metadata": {},
   "outputs": [
    {
     "data": {
      "image/png": "[encoded data removed]",
      "text/plain": [
       "<Figure size 576x360 with 2 Axes>"
      ]
     },
     "metadata": {
      "needs_background": "light"
     },
     "output_type": "display_data"
    }
   ],
   "source": [
    "plt.figure(figsize = (8, 5))\n",
    "sns.heatmap(df_pkg_rates.corr(), annot = True, cmap=\"YlGnBu\")\n",
    "plt.show()"
   ]
  },
  {
   "cell_type": "code",
   "execution_count": 302,
   "metadata": {},
   "outputs": [],
   "source": [
    "Y = df_pkg_rates.pop('price_in_gram')\n",
    "X = df_pkg_rates"
   ]
  },
  {
   "cell_type": "code",
   "execution_count": 303,
   "metadata": {},
   "outputs": [
    {
     "data": {
      "text/html": [
       "<div>\n",
       "<style scoped>\n",
       "    .dataframe tbody tr th:only-of-type {\n",
       "        vertical-align: middle;\n",
       "    }\n",
       "\n",
       "    .dataframe tbody tr th {\n",
       "        vertical-align: top;\n",
       "    }\n",
       "\n",
       "    .dataframe thead th {\n",
       "        text-align: right;\n",
       "    }\n",
       "</style>\n",
       "<table border=\"1\" class=\"dataframe\">\n",
       "  <thead>\n",
       "    <tr style=\"text-align: right;\">\n",
       "      <th></th>\n",
       "      <th>weight_in_gram</th>\n",
       "      <th>package_type_BOOK/COpy</th>\n",
       "      <th>package_type_DOCUMENTS</th>\n",
       "      <th>package_type_OTHER_PHYSICAL_INSTRUMENTS</th>\n",
       "    </tr>\n",
       "  </thead>\n",
       "  <tbody>\n",
       "    <tr>\n",
       "      <td>0</td>\n",
       "      <td>10</td>\n",
       "      <td>0</td>\n",
       "      <td>1</td>\n",
       "      <td>0</td>\n",
       "    </tr>\n",
       "    <tr>\n",
       "      <td>1</td>\n",
       "      <td>24</td>\n",
       "      <td>1</td>\n",
       "      <td>0</td>\n",
       "      <td>0</td>\n",
       "    </tr>\n",
       "  </tbody>\n",
       "</table>\n",
       "</div>"
      ],
      "text/plain": [
       "   weight_in_gram  package_type_BOOK/COpy  package_type_DOCUMENTS  \\\n",
       "0              10                       0                       1   \n",
       "1              24                       1                       0   \n",
       "\n",
       "   package_type_OTHER_PHYSICAL_INSTRUMENTS  \n",
       "0                                        0  \n",
       "1                                        0  "
      ]
     },
     "execution_count": 303,
     "metadata": {},
     "output_type": "execute_result"
    }
   ],
   "source": [
    "X.head(2)"
   ]
  },
  {
   "cell_type": "code",
   "execution_count": 304,
   "metadata": {},
   "outputs": [
    {
     "data": {
      "text/plain": [
       "0    5.0\n",
       "1    8.0\n",
       "Name: price_in_gram, dtype: float64"
      ]
     },
     "execution_count": 304,
     "metadata": {},
     "output_type": "execute_result"
    }
   ],
   "source": [
    "Y.head(2)"
   ]
  },
  {
   "cell_type": "code",
   "execution_count": 190,
   "metadata": {},
   "outputs": [],
   "source": [
    "from sklearn.model_selection import train_test_split"
   ]
  },
  {
   "cell_type": "code",
   "execution_count": 243,
   "metadata": {},
   "outputs": [
    {
     "data": {
      "text/html": [
       "<div>\n",
       "<style scoped>\n",
       "    .dataframe tbody tr th:only-of-type {\n",
       "        vertical-align: middle;\n",
       "    }\n",
       "\n",
       "    .dataframe tbody tr th {\n",
       "        vertical-align: top;\n",
       "    }\n",
       "\n",
       "    .dataframe thead th {\n",
       "        text-align: right;\n",
       "    }\n",
       "</style>\n",
       "<table border=\"1\" class=\"dataframe\">\n",
       "  <thead>\n",
       "    <tr style=\"text-align: right;\">\n",
       "      <th></th>\n",
       "      <th>weight_in_gram</th>\n",
       "      <th>package_type_BOOK/COpy</th>\n",
       "      <th>package_type_DOCUMENTS</th>\n",
       "      <th>package_type_OTHER_PHYSICAL_INSTRUMENTS</th>\n",
       "    </tr>\n",
       "  </thead>\n",
       "  <tbody>\n",
       "    <tr>\n",
       "      <td>252</td>\n",
       "      <td>80</td>\n",
       "      <td>0</td>\n",
       "      <td>1</td>\n",
       "      <td>0</td>\n",
       "    </tr>\n",
       "    <tr>\n",
       "      <td>36</td>\n",
       "      <td>162</td>\n",
       "      <td>1</td>\n",
       "      <td>0</td>\n",
       "      <td>0</td>\n",
       "    </tr>\n",
       "    <tr>\n",
       "      <td>4</td>\n",
       "      <td>60</td>\n",
       "      <td>0</td>\n",
       "      <td>0</td>\n",
       "      <td>1</td>\n",
       "    </tr>\n",
       "    <tr>\n",
       "      <td>237</td>\n",
       "      <td>80</td>\n",
       "      <td>0</td>\n",
       "      <td>1</td>\n",
       "      <td>0</td>\n",
       "    </tr>\n",
       "    <tr>\n",
       "      <td>192</td>\n",
       "      <td>471</td>\n",
       "      <td>1</td>\n",
       "      <td>0</td>\n",
       "      <td>0</td>\n",
       "    </tr>\n",
       "  </tbody>\n",
       "</table>\n",
       "</div>"
      ],
      "text/plain": [
       "     weight_in_gram  package_type_BOOK/COpy  package_type_DOCUMENTS  \\\n",
       "252              80                       0                       1   \n",
       "36              162                       1                       0   \n",
       "4                60                       0                       0   \n",
       "237              80                       0                       1   \n",
       "192             471                       1                       0   \n",
       "\n",
       "     package_type_OTHER_PHYSICAL_INSTRUMENTS  \n",
       "252                                        0  \n",
       "36                                         0  \n",
       "4                                          1  \n",
       "237                                        0  \n",
       "192                                        0  "
      ]
     },
     "execution_count": 243,
     "metadata": {},
     "output_type": "execute_result"
    }
   ],
   "source": [
    "x_train, x_test,y_train,y_test = train_test_split(X,Y,test_size =0.2)\n",
    "# print the data\n",
    "x_train.head()"
   ]
  },
  {
   "cell_type": "code",
   "execution_count": 244,
   "metadata": {},
   "outputs": [],
   "source": [
    "from sklearn.linear_model import LinearRegression\n",
    "clf = LinearRegression()"
   ]
  },
  {
   "cell_type": "code",
   "execution_count": 245,
   "metadata": {},
   "outputs": [
    {
     "data": {
      "text/plain": [
       "LinearRegression(copy_X=True, fit_intercept=True, n_jobs=None, normalize=False)"
      ]
     },
     "execution_count": 245,
     "metadata": {},
     "output_type": "execute_result"
    }
   ],
   "source": [
    "clf.fit(x_train,y_train)"
   ]
  },
  {
   "cell_type": "code",
   "execution_count": 247,
   "metadata": {},
   "outputs": [
    {
     "data": {
      "text/plain": [
       "array([111.13533113,  72.00712215,  61.14985684, 126.38825213,\n",
       "       126.38825213, 122.85019215])"
      ]
     },
     "execution_count": 247,
     "metadata": {},
     "output_type": "execute_result"
    }
   ],
   "source": [
    "pre=clf.predict(x_test)\n",
    "pre[:6]"
   ]
  },
  {
   "cell_type": "code",
   "execution_count": 255,
   "metadata": {},
   "outputs": [
    {
     "data": {
      "text/plain": [
       "array([ 44.62585909,  55.84349251,   3.36897765,  44.62585909,\n",
       "       154.03417145,  62.51664545])"
      ]
     },
     "execution_count": 255,
     "metadata": {},
     "output_type": "execute_result"
    }
   ],
   "source": [
    "pre1=clf.predict(x_train)\n",
    "pre1[:6]"
   ]
  },
  {
   "cell_type": "code",
   "execution_count": 256,
   "metadata": {},
   "outputs": [
    {
     "data": {
      "text/plain": [
       "0.9489096734057452"
      ]
     },
     "execution_count": 256,
     "metadata": {},
     "output_type": "execute_result"
    }
   ],
   "source": [
    "# Accuracy\n",
    "clf.score(x_test,y_test)"
   ]
  },
  {
   "cell_type": "code",
   "execution_count": 259,
   "metadata": {},
   "outputs": [
    {
     "name": "stdout",
     "output_type": "stream",
     "text": [
      "MAE: 6.3926951530199005\n",
      "MSE: 72.12725509899153\n",
      "RMSE: 8.492776642476331\n"
     ]
    }
   ],
   "source": [
    "import sklearn.metrics as metrics\n",
    "\n",
    "print('MAE:', metrics.mean_absolute_error(y_test, pre))\n",
    "print('MSE:', metrics.mean_squared_error(y_test, pre))\n",
    "print('RMSE:', np.sqrt(metrics.mean_squared_error(y_test, pre)))\n"
   ]
  },
  {
   "cell_type": "code",
   "execution_count": 260,
   "metadata": {},
   "outputs": [
    {
     "name": "stdout",
     "output_type": "stream",
     "text": [
      "MAE: 6.441619147402079\n",
      "MSE: 72.74557746347921\n",
      "RMSE: 8.529101796993585\n"
     ]
    }
   ],
   "source": [
    "import sklearn.metrics as metrics\n",
    "\n",
    "print('MAE:', metrics.mean_absolute_error(y_train, pre1))\n",
    "print('MSE:', metrics.mean_squared_error(y_train, pre1))\n",
    "print('RMSE:', np.sqrt(metrics.mean_squared_error(y_train, pre1)))\n"
   ]
  },
  {
   "cell_type": "code",
   "execution_count": 267,
   "metadata": {},
   "outputs": [
    {
     "data": {
      "text/plain": [
       "array([24.28863109])"
      ]
     },
     "execution_count": 267,
     "metadata": {},
     "output_type": "execute_result"
    }
   ],
   "source": [
    "Yhat=clf.predict([[16,0,1,0]])\n",
    "Yhat"
   ]
  }
 ],
 "metadata": {
  "kernelspec": {
   "display_name": "Python 3",
   "language": "python",
   "name": "python3"
  },
  "language_info": {
   "codemirror_mode": {
    "name": "ipython",
    "version": 3
   },
   "file_extension": ".py",
   "mimetype": "text/x-python",
   "name": "python",
   "nbconvert_exporter": "python",
   "pygments_lexer": "ipython3",
   "version": "3.7.4"
  }
 },
 "nbformat": 4,
 "nbformat_minor": 2
}

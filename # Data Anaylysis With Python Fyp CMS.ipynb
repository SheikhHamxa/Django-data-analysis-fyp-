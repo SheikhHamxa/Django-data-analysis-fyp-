{
 "cells": [
  {
   "cell_type": "markdown",
   "metadata": {},
   "source": [
    "# Data Anaylysis With Python Fyp CMS"
   ]
  },
  {
   "cell_type": "code",
   "execution_count": 4,
   "metadata": {},
   "outputs": [
    {
     "data": {
      "text/html": [
       "<div>\n",
       "<style scoped>\n",
       "    .dataframe tbody tr th:only-of-type {\n",
       "        vertical-align: middle;\n",
       "    }\n",
       "\n",
       "    .dataframe tbody tr th {\n",
       "        vertical-align: top;\n",
       "    }\n",
       "\n",
       "    .dataframe thead th {\n",
       "        text-align: right;\n",
       "    }\n",
       "</style>\n",
       "<table border=\"1\" class=\"dataframe\">\n",
       "  <thead>\n",
       "    <tr style=\"text-align: right;\">\n",
       "      <th></th>\n",
       "      <th>id</th>\n",
       "      <th>price_in_gram</th>\n",
       "      <th>from_district</th>\n",
       "      <th>from_province</th>\n",
       "      <th>to_district</th>\n",
       "      <th>to_province</th>\n",
       "      <th>weight_in_gram</th>\n",
       "      <th>package_type</th>\n",
       "    </tr>\n",
       "  </thead>\n",
       "  <tbody>\n",
       "    <tr>\n",
       "      <td>0</td>\n",
       "      <td>1</td>\n",
       "      <td>5.0</td>\n",
       "      <td>Karachi</td>\n",
       "      <td>Sindh</td>\n",
       "      <td>Rawalpindi</td>\n",
       "      <td>Punjab</td>\n",
       "      <td>10</td>\n",
       "      <td>DOCUMENTS</td>\n",
       "    </tr>\n",
       "    <tr>\n",
       "      <td>1</td>\n",
       "      <td>2</td>\n",
       "      <td>8.0</td>\n",
       "      <td>Rawalpindi</td>\n",
       "      <td>Punjab</td>\n",
       "      <td>Islamabd</td>\n",
       "      <td>Punjab</td>\n",
       "      <td>24</td>\n",
       "      <td>BOOK/COpy</td>\n",
       "    </tr>\n",
       "    <tr>\n",
       "      <td>2</td>\n",
       "      <td>3</td>\n",
       "      <td>8.0</td>\n",
       "      <td>Islamabd</td>\n",
       "      <td>Punjab</td>\n",
       "      <td>Rawalpindi</td>\n",
       "      <td>Punjab</td>\n",
       "      <td>16</td>\n",
       "      <td>DOCUMENTS</td>\n",
       "    </tr>\n",
       "    <tr>\n",
       "      <td>3</td>\n",
       "      <td>4</td>\n",
       "      <td>12.0</td>\n",
       "      <td>Rawalpindi</td>\n",
       "      <td>Punjab</td>\n",
       "      <td>Peshawer</td>\n",
       "      <td>KPK</td>\n",
       "      <td>20</td>\n",
       "      <td>BOOK/COpy</td>\n",
       "    </tr>\n",
       "    <tr>\n",
       "      <td>4</td>\n",
       "      <td>5</td>\n",
       "      <td>15.0</td>\n",
       "      <td>Islamabd</td>\n",
       "      <td>Punjab</td>\n",
       "      <td>Chakwal</td>\n",
       "      <td>Punjab</td>\n",
       "      <td>60</td>\n",
       "      <td>OTHER_PHYSICAL_INSTRUMENTS</td>\n",
       "    </tr>\n",
       "    <tr>\n",
       "      <td>...</td>\n",
       "      <td>...</td>\n",
       "      <td>...</td>\n",
       "      <td>...</td>\n",
       "      <td>...</td>\n",
       "      <td>...</td>\n",
       "      <td>...</td>\n",
       "      <td>...</td>\n",
       "      <td>...</td>\n",
       "    </tr>\n",
       "    <tr>\n",
       "      <td>512</td>\n",
       "      <td>513</td>\n",
       "      <td>119.0</td>\n",
       "      <td>Sheikupura</td>\n",
       "      <td>Punjab</td>\n",
       "      <td>Naushro feroz</td>\n",
       "      <td>Sindh</td>\n",
       "      <td>476</td>\n",
       "      <td>OTHER_PHYSICAL_INSTRUMENTS</td>\n",
       "    </tr>\n",
       "    <tr>\n",
       "      <td>513</td>\n",
       "      <td>514</td>\n",
       "      <td>120.0</td>\n",
       "      <td>Haripur</td>\n",
       "      <td>KPK</td>\n",
       "      <td>Naushro feroz</td>\n",
       "      <td>Sindh</td>\n",
       "      <td>480</td>\n",
       "      <td>OTHER_PHYSICAL_INSTRUMENTS</td>\n",
       "    </tr>\n",
       "    <tr>\n",
       "      <td>514</td>\n",
       "      <td>515</td>\n",
       "      <td>121.0</td>\n",
       "      <td>Haripur</td>\n",
       "      <td>KPK</td>\n",
       "      <td>Malir</td>\n",
       "      <td>Sindh</td>\n",
       "      <td>484</td>\n",
       "      <td>OTHER_PHYSICAL_INSTRUMENTS</td>\n",
       "    </tr>\n",
       "    <tr>\n",
       "      <td>515</td>\n",
       "      <td>516</td>\n",
       "      <td>122.0</td>\n",
       "      <td>Rawalakot</td>\n",
       "      <td>AJK</td>\n",
       "      <td>Malir</td>\n",
       "      <td>Sindh</td>\n",
       "      <td>488</td>\n",
       "      <td>OTHER_PHYSICAL_INSTRUMENTS</td>\n",
       "    </tr>\n",
       "    <tr>\n",
       "      <td>516</td>\n",
       "      <td>517</td>\n",
       "      <td>123.0</td>\n",
       "      <td>Bagh</td>\n",
       "      <td>AJK</td>\n",
       "      <td>Malir</td>\n",
       "      <td>Sindh</td>\n",
       "      <td>492</td>\n",
       "      <td>OTHER_PHYSICAL_INSTRUMENTS</td>\n",
       "    </tr>\n",
       "  </tbody>\n",
       "</table>\n",
       "<p>517 rows × 8 columns</p>\n",
       "</div>"
      ],
      "text/plain": [
       "      id  price_in_gram from_district from_province    to_district  \\\n",
       "0      1            5.0       Karachi         Sindh     Rawalpindi   \n",
       "1      2            8.0    Rawalpindi        Punjab       Islamabd   \n",
       "2      3            8.0      Islamabd        Punjab     Rawalpindi   \n",
       "3      4           12.0    Rawalpindi        Punjab       Peshawer   \n",
       "4      5           15.0      Islamabd        Punjab        Chakwal   \n",
       "..   ...            ...           ...           ...            ...   \n",
       "512  513          119.0    Sheikupura        Punjab  Naushro feroz   \n",
       "513  514          120.0       Haripur           KPK  Naushro feroz   \n",
       "514  515          121.0       Haripur           KPK          Malir   \n",
       "515  516          122.0     Rawalakot           AJK          Malir   \n",
       "516  517          123.0          Bagh           AJK          Malir   \n",
       "\n",
       "    to_province  weight_in_gram                package_type  \n",
       "0        Punjab              10                   DOCUMENTS  \n",
       "1        Punjab              24                   BOOK/COpy  \n",
       "2        Punjab              16                   DOCUMENTS  \n",
       "3           KPK              20                   BOOK/COpy  \n",
       "4        Punjab              60  OTHER_PHYSICAL_INSTRUMENTS  \n",
       "..          ...             ...                         ...  \n",
       "512       Sindh             476  OTHER_PHYSICAL_INSTRUMENTS  \n",
       "513       Sindh             480  OTHER_PHYSICAL_INSTRUMENTS  \n",
       "514       Sindh             484  OTHER_PHYSICAL_INSTRUMENTS  \n",
       "515       Sindh             488  OTHER_PHYSICAL_INSTRUMENTS  \n",
       "516       Sindh             492  OTHER_PHYSICAL_INSTRUMENTS  \n",
       "\n",
       "[517 rows x 8 columns]"
      ]
     },
     "execution_count": 4,
     "metadata": {},
     "output_type": "execute_result"
    }
   ],
   "source": [
    "import pandas as pd\n",
    "df=pd.read_csv(r'C:\\Users\\Hamxa\\Desktop\\csvsss\\pacakagerates2.csv')\n",
    "df"
   ]
  },
  {
   "cell_type": "code",
   "execution_count": 5,
   "metadata": {},
   "outputs": [
    {
     "data": {
      "text/html": [
       "<div>\n",
       "<style scoped>\n",
       "    .dataframe tbody tr th:only-of-type {\n",
       "        vertical-align: middle;\n",
       "    }\n",
       "\n",
       "    .dataframe tbody tr th {\n",
       "        vertical-align: top;\n",
       "    }\n",
       "\n",
       "    .dataframe thead th {\n",
       "        text-align: right;\n",
       "    }\n",
       "</style>\n",
       "<table border=\"1\" class=\"dataframe\">\n",
       "  <thead>\n",
       "    <tr style=\"text-align: right;\">\n",
       "      <th></th>\n",
       "      <th>id</th>\n",
       "      <th>price_in_gram</th>\n",
       "      <th>from_district</th>\n",
       "      <th>from_province</th>\n",
       "      <th>to_district</th>\n",
       "      <th>to_province</th>\n",
       "      <th>weight_in_gram</th>\n",
       "      <th>package_type</th>\n",
       "    </tr>\n",
       "  </thead>\n",
       "  <tbody>\n",
       "    <tr>\n",
       "      <td>0</td>\n",
       "      <td>1</td>\n",
       "      <td>5.0</td>\n",
       "      <td>Karachi</td>\n",
       "      <td>Sindh</td>\n",
       "      <td>Rawalpindi</td>\n",
       "      <td>Punjab</td>\n",
       "      <td>10</td>\n",
       "      <td>DOCUMENTS</td>\n",
       "    </tr>\n",
       "    <tr>\n",
       "      <td>1</td>\n",
       "      <td>2</td>\n",
       "      <td>8.0</td>\n",
       "      <td>Rawalpindi</td>\n",
       "      <td>Punjab</td>\n",
       "      <td>Islamabd</td>\n",
       "      <td>Punjab</td>\n",
       "      <td>24</td>\n",
       "      <td>BOOK/COpy</td>\n",
       "    </tr>\n",
       "    <tr>\n",
       "      <td>2</td>\n",
       "      <td>3</td>\n",
       "      <td>8.0</td>\n",
       "      <td>Islamabd</td>\n",
       "      <td>Punjab</td>\n",
       "      <td>Rawalpindi</td>\n",
       "      <td>Punjab</td>\n",
       "      <td>16</td>\n",
       "      <td>DOCUMENTS</td>\n",
       "    </tr>\n",
       "    <tr>\n",
       "      <td>3</td>\n",
       "      <td>4</td>\n",
       "      <td>12.0</td>\n",
       "      <td>Rawalpindi</td>\n",
       "      <td>Punjab</td>\n",
       "      <td>Peshawer</td>\n",
       "      <td>KPK</td>\n",
       "      <td>20</td>\n",
       "      <td>BOOK/COpy</td>\n",
       "    </tr>\n",
       "    <tr>\n",
       "      <td>4</td>\n",
       "      <td>5</td>\n",
       "      <td>15.0</td>\n",
       "      <td>Islamabd</td>\n",
       "      <td>Punjab</td>\n",
       "      <td>Chakwal</td>\n",
       "      <td>Punjab</td>\n",
       "      <td>60</td>\n",
       "      <td>OTHER_PHYSICAL_INSTRUMENTS</td>\n",
       "    </tr>\n",
       "    <tr>\n",
       "      <td>5</td>\n",
       "      <td>6</td>\n",
       "      <td>18.0</td>\n",
       "      <td>Islamabd</td>\n",
       "      <td>Punjab</td>\n",
       "      <td>Chakwal</td>\n",
       "      <td>Punjab</td>\n",
       "      <td>54</td>\n",
       "      <td>BOOK/COpy</td>\n",
       "    </tr>\n",
       "    <tr>\n",
       "      <td>6</td>\n",
       "      <td>7</td>\n",
       "      <td>20.0</td>\n",
       "      <td>Islamabd</td>\n",
       "      <td>Punjab</td>\n",
       "      <td>Multan</td>\n",
       "      <td>Punjab</td>\n",
       "      <td>80</td>\n",
       "      <td>OTHER_PHYSICAL_INSTRUMENTS</td>\n",
       "    </tr>\n",
       "    <tr>\n",
       "      <td>7</td>\n",
       "      <td>8</td>\n",
       "      <td>21.0</td>\n",
       "      <td>Islamabd</td>\n",
       "      <td>Punjab</td>\n",
       "      <td>Multan</td>\n",
       "      <td>Punjab</td>\n",
       "      <td>63</td>\n",
       "      <td>BOOK/COpy</td>\n",
       "    </tr>\n",
       "    <tr>\n",
       "      <td>8</td>\n",
       "      <td>9</td>\n",
       "      <td>22.0</td>\n",
       "      <td>Faislabad</td>\n",
       "      <td>Punjab</td>\n",
       "      <td>Rawalpindi</td>\n",
       "      <td>Punjab</td>\n",
       "      <td>66</td>\n",
       "      <td>BOOK/COpy</td>\n",
       "    </tr>\n",
       "    <tr>\n",
       "      <td>9</td>\n",
       "      <td>10</td>\n",
       "      <td>23.0</td>\n",
       "      <td>Faislabad</td>\n",
       "      <td>Punjab</td>\n",
       "      <td>Karachi</td>\n",
       "      <td>Sindh</td>\n",
       "      <td>92</td>\n",
       "      <td>OTHER_PHYSICAL_INSTRUMENTS</td>\n",
       "    </tr>\n",
       "  </tbody>\n",
       "</table>\n",
       "</div>"
      ],
      "text/plain": [
       "   id  price_in_gram from_district from_province to_district to_province  \\\n",
       "0   1            5.0       Karachi         Sindh  Rawalpindi      Punjab   \n",
       "1   2            8.0    Rawalpindi        Punjab    Islamabd      Punjab   \n",
       "2   3            8.0      Islamabd        Punjab  Rawalpindi      Punjab   \n",
       "3   4           12.0    Rawalpindi        Punjab    Peshawer         KPK   \n",
       "4   5           15.0      Islamabd        Punjab     Chakwal      Punjab   \n",
       "5   6           18.0      Islamabd        Punjab     Chakwal      Punjab   \n",
       "6   7           20.0      Islamabd        Punjab      Multan      Punjab   \n",
       "7   8           21.0      Islamabd        Punjab      Multan      Punjab   \n",
       "8   9           22.0     Faislabad        Punjab  Rawalpindi      Punjab   \n",
       "9  10           23.0     Faislabad        Punjab     Karachi       Sindh   \n",
       "\n",
       "   weight_in_gram                package_type  \n",
       "0              10                   DOCUMENTS  \n",
       "1              24                   BOOK/COpy  \n",
       "2              16                   DOCUMENTS  \n",
       "3              20                   BOOK/COpy  \n",
       "4              60  OTHER_PHYSICAL_INSTRUMENTS  \n",
       "5              54                   BOOK/COpy  \n",
       "6              80  OTHER_PHYSICAL_INSTRUMENTS  \n",
       "7              63                   BOOK/COpy  \n",
       "8              66                   BOOK/COpy  \n",
       "9              92  OTHER_PHYSICAL_INSTRUMENTS  "
      ]
     },
     "execution_count": 5,
     "metadata": {},
     "output_type": "execute_result"
    }
   ],
   "source": [
    "df.head(10)"
   ]
  },
  {
   "cell_type": "code",
   "execution_count": 6,
   "metadata": {},
   "outputs": [
    {
     "data": {
      "text/html": [
       "<div>\n",
       "<style scoped>\n",
       "    .dataframe tbody tr th:only-of-type {\n",
       "        vertical-align: middle;\n",
       "    }\n",
       "\n",
       "    .dataframe tbody tr th {\n",
       "        vertical-align: top;\n",
       "    }\n",
       "\n",
       "    .dataframe thead th {\n",
       "        text-align: right;\n",
       "    }\n",
       "</style>\n",
       "<table border=\"1\" class=\"dataframe\">\n",
       "  <thead>\n",
       "    <tr style=\"text-align: right;\">\n",
       "      <th></th>\n",
       "      <th>id</th>\n",
       "      <th>price_in_gram</th>\n",
       "      <th>from_district</th>\n",
       "      <th>from_province</th>\n",
       "      <th>to_district</th>\n",
       "      <th>to_province</th>\n",
       "      <th>weight_in_gram</th>\n",
       "      <th>package_type</th>\n",
       "    </tr>\n",
       "  </thead>\n",
       "  <tbody>\n",
       "    <tr>\n",
       "      <td>507</td>\n",
       "      <td>508</td>\n",
       "      <td>8.0</td>\n",
       "      <td>Rawalpindi</td>\n",
       "      <td>Punjab</td>\n",
       "      <td>Sukhhar</td>\n",
       "      <td>Sindh</td>\n",
       "      <td>32</td>\n",
       "      <td>OTHER_PHYSICAL_INSTRUMENTS</td>\n",
       "    </tr>\n",
       "    <tr>\n",
       "      <td>508</td>\n",
       "      <td>509</td>\n",
       "      <td>9.0</td>\n",
       "      <td>Rawalpindi</td>\n",
       "      <td>Punjab</td>\n",
       "      <td>Naushro feroz</td>\n",
       "      <td>Sindh</td>\n",
       "      <td>36</td>\n",
       "      <td>OTHER_PHYSICAL_INSTRUMENTS</td>\n",
       "    </tr>\n",
       "    <tr>\n",
       "      <td>509</td>\n",
       "      <td>510</td>\n",
       "      <td>10.0</td>\n",
       "      <td>Sialkot</td>\n",
       "      <td>Punjab</td>\n",
       "      <td>Naushro feroz</td>\n",
       "      <td>Sindh</td>\n",
       "      <td>40</td>\n",
       "      <td>OTHER_PHYSICAL_INSTRUMENTS</td>\n",
       "    </tr>\n",
       "    <tr>\n",
       "      <td>510</td>\n",
       "      <td>511</td>\n",
       "      <td>11.0</td>\n",
       "      <td>Chamman</td>\n",
       "      <td>Balochistan</td>\n",
       "      <td>Naushro feroz</td>\n",
       "      <td>Sindh</td>\n",
       "      <td>44</td>\n",
       "      <td>OTHER_PHYSICAL_INSTRUMENTS</td>\n",
       "    </tr>\n",
       "    <tr>\n",
       "      <td>511</td>\n",
       "      <td>512</td>\n",
       "      <td>12.0</td>\n",
       "      <td>Chamman</td>\n",
       "      <td>Balochistan</td>\n",
       "      <td>Naushro feroz</td>\n",
       "      <td>Sindh</td>\n",
       "      <td>48</td>\n",
       "      <td>OTHER_PHYSICAL_INSTRUMENTS</td>\n",
       "    </tr>\n",
       "    <tr>\n",
       "      <td>512</td>\n",
       "      <td>513</td>\n",
       "      <td>119.0</td>\n",
       "      <td>Sheikupura</td>\n",
       "      <td>Punjab</td>\n",
       "      <td>Naushro feroz</td>\n",
       "      <td>Sindh</td>\n",
       "      <td>476</td>\n",
       "      <td>OTHER_PHYSICAL_INSTRUMENTS</td>\n",
       "    </tr>\n",
       "    <tr>\n",
       "      <td>513</td>\n",
       "      <td>514</td>\n",
       "      <td>120.0</td>\n",
       "      <td>Haripur</td>\n",
       "      <td>KPK</td>\n",
       "      <td>Naushro feroz</td>\n",
       "      <td>Sindh</td>\n",
       "      <td>480</td>\n",
       "      <td>OTHER_PHYSICAL_INSTRUMENTS</td>\n",
       "    </tr>\n",
       "    <tr>\n",
       "      <td>514</td>\n",
       "      <td>515</td>\n",
       "      <td>121.0</td>\n",
       "      <td>Haripur</td>\n",
       "      <td>KPK</td>\n",
       "      <td>Malir</td>\n",
       "      <td>Sindh</td>\n",
       "      <td>484</td>\n",
       "      <td>OTHER_PHYSICAL_INSTRUMENTS</td>\n",
       "    </tr>\n",
       "    <tr>\n",
       "      <td>515</td>\n",
       "      <td>516</td>\n",
       "      <td>122.0</td>\n",
       "      <td>Rawalakot</td>\n",
       "      <td>AJK</td>\n",
       "      <td>Malir</td>\n",
       "      <td>Sindh</td>\n",
       "      <td>488</td>\n",
       "      <td>OTHER_PHYSICAL_INSTRUMENTS</td>\n",
       "    </tr>\n",
       "    <tr>\n",
       "      <td>516</td>\n",
       "      <td>517</td>\n",
       "      <td>123.0</td>\n",
       "      <td>Bagh</td>\n",
       "      <td>AJK</td>\n",
       "      <td>Malir</td>\n",
       "      <td>Sindh</td>\n",
       "      <td>492</td>\n",
       "      <td>OTHER_PHYSICAL_INSTRUMENTS</td>\n",
       "    </tr>\n",
       "  </tbody>\n",
       "</table>\n",
       "</div>"
      ],
      "text/plain": [
       "      id  price_in_gram from_district from_province    to_district  \\\n",
       "507  508            8.0    Rawalpindi        Punjab        Sukhhar   \n",
       "508  509            9.0    Rawalpindi        Punjab  Naushro feroz   \n",
       "509  510           10.0       Sialkot        Punjab  Naushro feroz   \n",
       "510  511           11.0       Chamman   Balochistan  Naushro feroz   \n",
       "511  512           12.0       Chamman   Balochistan  Naushro feroz   \n",
       "512  513          119.0    Sheikupura        Punjab  Naushro feroz   \n",
       "513  514          120.0       Haripur           KPK  Naushro feroz   \n",
       "514  515          121.0       Haripur           KPK          Malir   \n",
       "515  516          122.0     Rawalakot           AJK          Malir   \n",
       "516  517          123.0          Bagh           AJK          Malir   \n",
       "\n",
       "    to_province  weight_in_gram                package_type  \n",
       "507       Sindh              32  OTHER_PHYSICAL_INSTRUMENTS  \n",
       "508       Sindh              36  OTHER_PHYSICAL_INSTRUMENTS  \n",
       "509       Sindh              40  OTHER_PHYSICAL_INSTRUMENTS  \n",
       "510       Sindh              44  OTHER_PHYSICAL_INSTRUMENTS  \n",
       "511       Sindh              48  OTHER_PHYSICAL_INSTRUMENTS  \n",
       "512       Sindh             476  OTHER_PHYSICAL_INSTRUMENTS  \n",
       "513       Sindh             480  OTHER_PHYSICAL_INSTRUMENTS  \n",
       "514       Sindh             484  OTHER_PHYSICAL_INSTRUMENTS  \n",
       "515       Sindh             488  OTHER_PHYSICAL_INSTRUMENTS  \n",
       "516       Sindh             492  OTHER_PHYSICAL_INSTRUMENTS  "
      ]
     },
     "execution_count": 6,
     "metadata": {},
     "output_type": "execute_result"
    }
   ],
   "source": [
    "df.tail(10)"
   ]
  },
  {
   "cell_type": "markdown",
   "metadata": {},
   "source": [
    "# Graph to show from which District/city More packages went"
   ]
  },
  {
   "cell_type": "code",
   "execution_count": 7,
   "metadata": {},
   "outputs": [
    {
     "data": {
      "image/png": "[encoded data removed]",
      "text/plain": [
       "<Figure size 576x432 with 1 Axes>"
      ]
     },
     "metadata": {
      "needs_background": "light"
     },
     "output_type": "display_data"
    }
   ],
   "source": [
    "import matplotlib.pyplot as plt\n",
    "import pandas as pd\n",
    "import numpy as np\n",
    "%matplotlib inline\n",
    "plt.rcParams['figure.figsize']=(8,6)\n",
    "\n",
    "df.groupby('from_district')['id'].nunique().plot(kind='bar')\n",
    "\n",
    "figsize=(28,5)\n",
    "plt.show()"
   ]
  },
  {
   "cell_type": "markdown",
   "metadata": {},
   "source": [
    "# Below The list of counting of total number of sent pacakages city/District"
   ]
  },
  {
   "cell_type": "code",
   "execution_count": 8,
   "metadata": {},
   "outputs": [
    {
     "data": {
      "text/plain": [
       "517"
      ]
     },
     "execution_count": 8,
     "metadata": {},
     "output_type": "execute_result"
    }
   ],
   "source": [
    "df['from_district'].count()"
   ]
  },
  {
   "cell_type": "code",
   "execution_count": 9,
   "metadata": {},
   "outputs": [
    {
     "name": "stdout",
     "output_type": "stream",
     "text": [
      "57\n"
     ]
    }
   ],
   "source": [
    "rwp= df.from_district.value_counts()['Rawalpindi']\n",
    "print(rwp)"
   ]
  },
  {
   "cell_type": "code",
   "execution_count": 10,
   "metadata": {},
   "outputs": [
    {
     "name": "stdout",
     "output_type": "stream",
     "text": [
      "54\n"
     ]
    }
   ],
   "source": [
    "isl= df.from_district.value_counts()['Islamabd']\n",
    "print(isl)"
   ]
  },
  {
   "cell_type": "code",
   "execution_count": 11,
   "metadata": {},
   "outputs": [
    {
     "name": "stdout",
     "output_type": "stream",
     "text": [
      "23\n"
     ]
    }
   ],
   "source": [
    "lhr= df.from_district.value_counts()['Lahore']\n",
    "print(lhr)"
   ]
  },
  {
   "cell_type": "code",
   "execution_count": 12,
   "metadata": {},
   "outputs": [
    {
     "name": "stdout",
     "output_type": "stream",
     "text": [
      "16\n"
     ]
    }
   ],
   "source": [
    "kri= df.from_district.value_counts()['Karachi']\n",
    "print(kri)"
   ]
  },
  {
   "cell_type": "markdown",
   "metadata": {},
   "source": [
    "# Graph to show Destination District/city "
   ]
  },
  {
   "cell_type": "code",
   "execution_count": 13,
   "metadata": {},
   "outputs": [
    {
     "data": {
      "image/png": "[encoded data removed]",
      "text/plain": [
       "<Figure size 864x576 with 1 Axes>"
      ]
     },
     "metadata": {
      "needs_background": "light"
     },
     "output_type": "display_data"
    }
   ],
   "source": [
    "plt.rcParams['figure.figsize']=(12,8)\n",
    "\n",
    "df.groupby('to_district')['id'].nunique().plot(kind='bar')\n",
    "plt.show()"
   ]
  },
  {
   "cell_type": "markdown",
   "metadata": {},
   "source": [
    "# Below The list of counting of total number of receive pacakages city/District"
   ]
  },
  {
   "cell_type": "code",
   "execution_count": 14,
   "metadata": {},
   "outputs": [
    {
     "name": "stdout",
     "output_type": "stream",
     "text": [
      "68\n"
     ]
    }
   ],
   "source": [
    "rwp= df.to_district.value_counts()['Rawalpindi']\n",
    "print(rwp)"
   ]
  },
  {
   "cell_type": "code",
   "execution_count": 15,
   "metadata": {},
   "outputs": [
    {
     "name": "stdout",
     "output_type": "stream",
     "text": [
      "52\n"
     ]
    }
   ],
   "source": [
    "isl= df.to_district.value_counts()['Islamabd']\n",
    "print(isl)"
   ]
  },
  {
   "cell_type": "code",
   "execution_count": 16,
   "metadata": {},
   "outputs": [
    {
     "name": "stdout",
     "output_type": "stream",
     "text": [
      "11\n"
     ]
    }
   ],
   "source": [
    "lhr= df.to_district.value_counts()['Lahore']\n",
    "print(lhr)"
   ]
  },
  {
   "cell_type": "code",
   "execution_count": 17,
   "metadata": {},
   "outputs": [
    {
     "name": "stdout",
     "output_type": "stream",
     "text": [
      "27\n"
     ]
    }
   ],
   "source": [
    "kri= df.to_district.value_counts()['Karachi']\n",
    "print(kri)"
   ]
  },
  {
   "cell_type": "code",
   "execution_count": 18,
   "metadata": {},
   "outputs": [
    {
     "name": "stdout",
     "output_type": "stream",
     "text": [
      "17\n"
     ]
    }
   ],
   "source": [
    "mul=df.to_district.value_counts()['Multan']\n",
    "print(mul)"
   ]
  },
  {
   "cell_type": "markdown",
   "metadata": {},
   "source": [
    "# Graph to show from which Province wise More packages went"
   ]
  },
  {
   "cell_type": "code",
   "execution_count": 19,
   "metadata": {},
   "outputs": [
    {
     "data": {
      "image/png": "[encoded data removed]",
      "text/plain": [
       "<Figure size 864x288 with 1 Axes>"
      ]
     },
     "metadata": {
      "needs_background": "light"
     },
     "output_type": "display_data"
    }
   ],
   "source": [
    "import matplotlib.pyplot as plt\n",
    "import pandas as pd\n",
    "import numpy as np\n",
    "%matplotlib inline\n",
    "plt.rcParams['figure.figsize']=(12,4)\n",
    "\n",
    "df.groupby('from_province')['id'].nunique().plot(kind='bar')\n",
    "\n",
    "figsize=(28,5)\n",
    "plt.show()"
   ]
  },
  {
   "cell_type": "code",
   "execution_count": 20,
   "metadata": {},
   "outputs": [
    {
     "data": {
      "image/png": "[encoded data removed]",
      "text/plain": [
       "<Figure size 864x576 with 1 Axes>"
      ]
     },
     "metadata": {
      "needs_background": "light"
     },
     "output_type": "display_data"
    }
   ],
   "source": [
    "\n",
    "plt.rcParams['figure.figsize']=(12,8)\n",
    "\n",
    "df.groupby('to_province')['id'].nunique().plot(kind='bar')\n",
    "\n",
    "figsize=(28,5)\n",
    "plt.show()"
   ]
  },
  {
   "cell_type": "code",
   "execution_count": 21,
   "metadata": {},
   "outputs": [
    {
     "data": {
      "text/plain": [
       "35"
      ]
     },
     "execution_count": 21,
     "metadata": {},
     "output_type": "execute_result"
    }
   ],
   "source": [
    "Ajk= df.to_province.value_counts()['AJK']\n",
    "Ajk"
   ]
  },
  {
   "cell_type": "code",
   "execution_count": 22,
   "metadata": {},
   "outputs": [
    {
     "data": {
      "text/plain": [
       "281"
      ]
     },
     "execution_count": 22,
     "metadata": {},
     "output_type": "execute_result"
    }
   ],
   "source": [
    "Punjab=df.to_province.value_counts()['Punjab']\n",
    "Punjab"
   ]
  },
  {
   "cell_type": "code",
   "execution_count": 23,
   "metadata": {},
   "outputs": [
    {
     "data": {
      "text/plain": [
       "89"
      ]
     },
     "execution_count": 23,
     "metadata": {},
     "output_type": "execute_result"
    }
   ],
   "source": [
    "Sindh=df.to_province.value_counts()['Sindh']\n",
    "Sindh"
   ]
  },
  {
   "cell_type": "code",
   "execution_count": 24,
   "metadata": {},
   "outputs": [
    {
     "data": {
      "text/plain": [
       "55"
      ]
     },
     "execution_count": 24,
     "metadata": {},
     "output_type": "execute_result"
    }
   ],
   "source": [
    "Kpk=df.to_province.value_counts()['KPK']\n",
    "Kpk"
   ]
  },
  {
   "cell_type": "code",
   "execution_count": 25,
   "metadata": {},
   "outputs": [
    {
     "data": {
      "text/plain": [
       "57"
      ]
     },
     "execution_count": 25,
     "metadata": {},
     "output_type": "execute_result"
    }
   ],
   "source": [
    "Baloch=df.to_province.value_counts()['Balochistan']\n",
    "Baloch"
   ]
  },
  {
   "cell_type": "code",
   "execution_count": 26,
   "metadata": {},
   "outputs": [
    {
     "data": {
      "image/png": "[encoded data removed]",
      "text/plain": [
       "<Figure size 720x576 with 1 Axes>"
      ]
     },
     "metadata": {
      "needs_background": "light"
     },
     "output_type": "display_data"
    }
   ],
   "source": [
    "\n",
    "plt.rcParams['figure.figsize']=(10,8)\n",
    "\n",
    "df.groupby('package_type')['id'].nunique().plot(kind='bar')\n",
    "\n",
    "figsize=(28,5)\n",
    "plt.show()"
   ]
  },
  {
   "cell_type": "code",
   "execution_count": 27,
   "metadata": {},
   "outputs": [
    {
     "data": {
      "text/html": [
       "<div>\n",
       "<style scoped>\n",
       "    .dataframe tbody tr th:only-of-type {\n",
       "        vertical-align: middle;\n",
       "    }\n",
       "\n",
       "    .dataframe tbody tr th {\n",
       "        vertical-align: top;\n",
       "    }\n",
       "\n",
       "    .dataframe thead th {\n",
       "        text-align: right;\n",
       "    }\n",
       "</style>\n",
       "<table border=\"1\" class=\"dataframe\">\n",
       "  <thead>\n",
       "    <tr style=\"text-align: right;\">\n",
       "      <th></th>\n",
       "      <th>id</th>\n",
       "      <th>price_in_gram</th>\n",
       "      <th>from_district</th>\n",
       "      <th>from_province</th>\n",
       "      <th>to_district</th>\n",
       "      <th>to_province</th>\n",
       "      <th>weight_in_gram</th>\n",
       "      <th>package_type</th>\n",
       "    </tr>\n",
       "  </thead>\n",
       "  <tbody>\n",
       "    <tr>\n",
       "      <td>0</td>\n",
       "      <td>1</td>\n",
       "      <td>5.0</td>\n",
       "      <td>Karachi</td>\n",
       "      <td>Sindh</td>\n",
       "      <td>Rawalpindi</td>\n",
       "      <td>Punjab</td>\n",
       "      <td>10</td>\n",
       "      <td>DOCUMENTS</td>\n",
       "    </tr>\n",
       "    <tr>\n",
       "      <td>1</td>\n",
       "      <td>2</td>\n",
       "      <td>8.0</td>\n",
       "      <td>Rawalpindi</td>\n",
       "      <td>Punjab</td>\n",
       "      <td>Islamabd</td>\n",
       "      <td>Punjab</td>\n",
       "      <td>24</td>\n",
       "      <td>BOOK/COpy</td>\n",
       "    </tr>\n",
       "    <tr>\n",
       "      <td>2</td>\n",
       "      <td>3</td>\n",
       "      <td>8.0</td>\n",
       "      <td>Islamabd</td>\n",
       "      <td>Punjab</td>\n",
       "      <td>Rawalpindi</td>\n",
       "      <td>Punjab</td>\n",
       "      <td>16</td>\n",
       "      <td>DOCUMENTS</td>\n",
       "    </tr>\n",
       "    <tr>\n",
       "      <td>3</td>\n",
       "      <td>4</td>\n",
       "      <td>12.0</td>\n",
       "      <td>Rawalpindi</td>\n",
       "      <td>Punjab</td>\n",
       "      <td>Peshawer</td>\n",
       "      <td>KPK</td>\n",
       "      <td>20</td>\n",
       "      <td>BOOK/COpy</td>\n",
       "    </tr>\n",
       "    <tr>\n",
       "      <td>4</td>\n",
       "      <td>5</td>\n",
       "      <td>15.0</td>\n",
       "      <td>Islamabd</td>\n",
       "      <td>Punjab</td>\n",
       "      <td>Chakwal</td>\n",
       "      <td>Punjab</td>\n",
       "      <td>60</td>\n",
       "      <td>OTHER_PHYSICAL_INSTRUMENTS</td>\n",
       "    </tr>\n",
       "    <tr>\n",
       "      <td>...</td>\n",
       "      <td>...</td>\n",
       "      <td>...</td>\n",
       "      <td>...</td>\n",
       "      <td>...</td>\n",
       "      <td>...</td>\n",
       "      <td>...</td>\n",
       "      <td>...</td>\n",
       "      <td>...</td>\n",
       "    </tr>\n",
       "    <tr>\n",
       "      <td>512</td>\n",
       "      <td>513</td>\n",
       "      <td>119.0</td>\n",
       "      <td>Sheikupura</td>\n",
       "      <td>Punjab</td>\n",
       "      <td>Naushro feroz</td>\n",
       "      <td>Sindh</td>\n",
       "      <td>476</td>\n",
       "      <td>OTHER_PHYSICAL_INSTRUMENTS</td>\n",
       "    </tr>\n",
       "    <tr>\n",
       "      <td>513</td>\n",
       "      <td>514</td>\n",
       "      <td>120.0</td>\n",
       "      <td>Haripur</td>\n",
       "      <td>KPK</td>\n",
       "      <td>Naushro feroz</td>\n",
       "      <td>Sindh</td>\n",
       "      <td>480</td>\n",
       "      <td>OTHER_PHYSICAL_INSTRUMENTS</td>\n",
       "    </tr>\n",
       "    <tr>\n",
       "      <td>514</td>\n",
       "      <td>515</td>\n",
       "      <td>121.0</td>\n",
       "      <td>Haripur</td>\n",
       "      <td>KPK</td>\n",
       "      <td>Malir</td>\n",
       "      <td>Sindh</td>\n",
       "      <td>484</td>\n",
       "      <td>OTHER_PHYSICAL_INSTRUMENTS</td>\n",
       "    </tr>\n",
       "    <tr>\n",
       "      <td>515</td>\n",
       "      <td>516</td>\n",
       "      <td>122.0</td>\n",
       "      <td>Rawalakot</td>\n",
       "      <td>AJK</td>\n",
       "      <td>Malir</td>\n",
       "      <td>Sindh</td>\n",
       "      <td>488</td>\n",
       "      <td>OTHER_PHYSICAL_INSTRUMENTS</td>\n",
       "    </tr>\n",
       "    <tr>\n",
       "      <td>516</td>\n",
       "      <td>517</td>\n",
       "      <td>123.0</td>\n",
       "      <td>Bagh</td>\n",
       "      <td>AJK</td>\n",
       "      <td>Malir</td>\n",
       "      <td>Sindh</td>\n",
       "      <td>492</td>\n",
       "      <td>OTHER_PHYSICAL_INSTRUMENTS</td>\n",
       "    </tr>\n",
       "  </tbody>\n",
       "</table>\n",
       "<p>517 rows × 8 columns</p>\n",
       "</div>"
      ],
      "text/plain": [
       "      id  price_in_gram from_district from_province    to_district  \\\n",
       "0      1            5.0       Karachi         Sindh     Rawalpindi   \n",
       "1      2            8.0    Rawalpindi        Punjab       Islamabd   \n",
       "2      3            8.0      Islamabd        Punjab     Rawalpindi   \n",
       "3      4           12.0    Rawalpindi        Punjab       Peshawer   \n",
       "4      5           15.0      Islamabd        Punjab        Chakwal   \n",
       "..   ...            ...           ...           ...            ...   \n",
       "512  513          119.0    Sheikupura        Punjab  Naushro feroz   \n",
       "513  514          120.0       Haripur           KPK  Naushro feroz   \n",
       "514  515          121.0       Haripur           KPK          Malir   \n",
       "515  516          122.0     Rawalakot           AJK          Malir   \n",
       "516  517          123.0          Bagh           AJK          Malir   \n",
       "\n",
       "    to_province  weight_in_gram                package_type  \n",
       "0        Punjab              10                   DOCUMENTS  \n",
       "1        Punjab              24                   BOOK/COpy  \n",
       "2        Punjab              16                   DOCUMENTS  \n",
       "3           KPK              20                   BOOK/COpy  \n",
       "4        Punjab              60  OTHER_PHYSICAL_INSTRUMENTS  \n",
       "..          ...             ...                         ...  \n",
       "512       Sindh             476  OTHER_PHYSICAL_INSTRUMENTS  \n",
       "513       Sindh             480  OTHER_PHYSICAL_INSTRUMENTS  \n",
       "514       Sindh             484  OTHER_PHYSICAL_INSTRUMENTS  \n",
       "515       Sindh             488  OTHER_PHYSICAL_INSTRUMENTS  \n",
       "516       Sindh             492  OTHER_PHYSICAL_INSTRUMENTS  \n",
       "\n",
       "[517 rows x 8 columns]"
      ]
     },
     "execution_count": 27,
     "metadata": {},
     "output_type": "execute_result"
    }
   ],
   "source": [
    "df"
   ]
  },
  {
   "cell_type": "code",
   "execution_count": 28,
   "metadata": {},
   "outputs": [],
   "source": [
    "import pymysql\n",
    "import pandas as pd\n",
    "connection= pymysql.connect(host='localhost',\n",
    "                                    port=3308,\n",
    "                                   user='cms',\n",
    "                                   passwd='01161811024',\n",
    "                                   database='cms')\n",
    "query= \"select * from cms.location_franchise\"\n",
    "\n",
    "                        "
   ]
  },
  {
   "cell_type": "code",
   "execution_count": 29,
   "metadata": {},
   "outputs": [],
   "source": [
    "result= pd.read_sql_query(query, connection)\n",
    "result.to_csv('fran.csv', index=False)\n"
   ]
  },
  {
   "cell_type": "code",
   "execution_count": 30,
   "metadata": {},
   "outputs": [
    {
     "data": {
      "text/html": [
       "<div>\n",
       "<style scoped>\n",
       "    .dataframe tbody tr th:only-of-type {\n",
       "        vertical-align: middle;\n",
       "    }\n",
       "\n",
       "    .dataframe tbody tr th {\n",
       "        vertical-align: top;\n",
       "    }\n",
       "\n",
       "    .dataframe thead th {\n",
       "        text-align: right;\n",
       "    }\n",
       "</style>\n",
       "<table border=\"1\" class=\"dataframe\">\n",
       "  <thead>\n",
       "    <tr style=\"text-align: right;\">\n",
       "      <th></th>\n",
       "      <th>id</th>\n",
       "      <th>name</th>\n",
       "      <th>province</th>\n",
       "      <th>city</th>\n",
       "      <th>register_num</th>\n",
       "      <th>num_of_employes</th>\n",
       "      <th>office_starting_timing</th>\n",
       "      <th>office_closing_timing</th>\n",
       "      <th>email</th>\n",
       "      <th>location_id</th>\n",
       "      <th>owner_id</th>\n",
       "    </tr>\n",
       "  </thead>\n",
       "  <tbody>\n",
       "    <tr>\n",
       "      <td>0</td>\n",
       "      <td>1</td>\n",
       "      <td>korangi</td>\n",
       "      <td>Sindh</td>\n",
       "      <td>Karachi</td>\n",
       "      <td>1200</td>\n",
       "      <td>19</td>\n",
       "      <td>2020-03-15 08:00:00</td>\n",
       "      <td>2020-03-15 06:00:00</td>\n",
       "      <td>korangicms@gmail.com</td>\n",
       "      <td>1</td>\n",
       "      <td>1</td>\n",
       "    </tr>\n",
       "    <tr>\n",
       "      <td>1</td>\n",
       "      <td>2</td>\n",
       "      <td>Tench</td>\n",
       "      <td>Punjab</td>\n",
       "      <td>Rawalpindi</td>\n",
       "      <td>1201</td>\n",
       "      <td>12</td>\n",
       "      <td>2020-03-15 08:00:00</td>\n",
       "      <td>2020-03-15 06:00:00</td>\n",
       "      <td>tenchcms@gmail.com</td>\n",
       "      <td>2</td>\n",
       "      <td>1</td>\n",
       "    </tr>\n",
       "    <tr>\n",
       "      <td>2</td>\n",
       "      <td>3</td>\n",
       "      <td>Quetta Fort</td>\n",
       "      <td>Balochistan</td>\n",
       "      <td>Quetta</td>\n",
       "      <td>1202</td>\n",
       "      <td>19</td>\n",
       "      <td>2020-03-15 08:00:00</td>\n",
       "      <td>2020-03-15 06:00:00</td>\n",
       "      <td>balochistanfortcms@gmail.com</td>\n",
       "      <td>13</td>\n",
       "      <td>1</td>\n",
       "    </tr>\n",
       "    <tr>\n",
       "      <td>3</td>\n",
       "      <td>4</td>\n",
       "      <td>Quetta Pishin</td>\n",
       "      <td>Balochistan</td>\n",
       "      <td>Quetta</td>\n",
       "      <td>1203</td>\n",
       "      <td>11</td>\n",
       "      <td>2020-03-15 08:00:00</td>\n",
       "      <td>2020-03-15 06:00:00</td>\n",
       "      <td>balochistanpishincms@gmail.com</td>\n",
       "      <td>14</td>\n",
       "      <td>1</td>\n",
       "    </tr>\n",
       "    <tr>\n",
       "      <td>4</td>\n",
       "      <td>5</td>\n",
       "      <td>Sadder</td>\n",
       "      <td>Punjab</td>\n",
       "      <td>Rawalpindi</td>\n",
       "      <td>1208</td>\n",
       "      <td>11</td>\n",
       "      <td>2020-03-15 08:00:00</td>\n",
       "      <td>2020-03-15 06:00:00</td>\n",
       "      <td>saddercms@gmail.com</td>\n",
       "      <td>180</td>\n",
       "      <td>1</td>\n",
       "    </tr>\n",
       "    <tr>\n",
       "      <td>...</td>\n",
       "      <td>...</td>\n",
       "      <td>...</td>\n",
       "      <td>...</td>\n",
       "      <td>...</td>\n",
       "      <td>...</td>\n",
       "      <td>...</td>\n",
       "      <td>...</td>\n",
       "      <td>...</td>\n",
       "      <td>...</td>\n",
       "      <td>...</td>\n",
       "      <td>...</td>\n",
       "    </tr>\n",
       "    <tr>\n",
       "      <td>140</td>\n",
       "      <td>141</td>\n",
       "      <td>bagan</td>\n",
       "      <td>kpk</td>\n",
       "      <td>Abbotabad</td>\n",
       "      <td>1609</td>\n",
       "      <td>11</td>\n",
       "      <td>2020-03-15 08:00:00</td>\n",
       "      <td>2020-03-15 06:00:00</td>\n",
       "      <td>bagan_cms@gmail.com</td>\n",
       "      <td>129</td>\n",
       "      <td>1</td>\n",
       "    </tr>\n",
       "    <tr>\n",
       "      <td>141</td>\n",
       "      <td>142</td>\n",
       "      <td>Bagnotar</td>\n",
       "      <td>kpk</td>\n",
       "      <td>Abbotabad</td>\n",
       "      <td>1611</td>\n",
       "      <td>18</td>\n",
       "      <td>2020-03-15 08:00:00</td>\n",
       "      <td>2020-03-15 06:00:00</td>\n",
       "      <td>bagnotar_cms@gmail.com</td>\n",
       "      <td>130</td>\n",
       "      <td>1</td>\n",
       "    </tr>\n",
       "    <tr>\n",
       "      <td>142</td>\n",
       "      <td>143</td>\n",
       "      <td>Biran Gali</td>\n",
       "      <td>kpk</td>\n",
       "      <td>Abbotabad</td>\n",
       "      <td>1614</td>\n",
       "      <td>11</td>\n",
       "      <td>2020-03-15 08:00:00</td>\n",
       "      <td>2020-03-15 06:00:00</td>\n",
       "      <td>birangali_cms@gmail.com</td>\n",
       "      <td>131</td>\n",
       "      <td>1</td>\n",
       "    </tr>\n",
       "    <tr>\n",
       "      <td>143</td>\n",
       "      <td>144</td>\n",
       "      <td>Gpo Road Lahore</td>\n",
       "      <td>Punjab</td>\n",
       "      <td>Lahore</td>\n",
       "      <td>1619</td>\n",
       "      <td>19</td>\n",
       "      <td>2020-03-15 08:00:00</td>\n",
       "      <td>2020-03-15 06:00:00</td>\n",
       "      <td>lhr_gporoad_cms@gmail.com</td>\n",
       "      <td>132</td>\n",
       "      <td>1</td>\n",
       "    </tr>\n",
       "    <tr>\n",
       "      <td>144</td>\n",
       "      <td>145</td>\n",
       "      <td>Multan road(Lahore)</td>\n",
       "      <td>Punjab</td>\n",
       "      <td>Lahore</td>\n",
       "      <td>1620</td>\n",
       "      <td>21</td>\n",
       "      <td>2020-03-15 08:00:00</td>\n",
       "      <td>2020-03-15 06:00:00</td>\n",
       "      <td>multanroad_lhr_cms@gmail.com</td>\n",
       "      <td>133</td>\n",
       "      <td>1</td>\n",
       "    </tr>\n",
       "  </tbody>\n",
       "</table>\n",
       "<p>145 rows × 11 columns</p>\n",
       "</div>"
      ],
      "text/plain": [
       "      id                 name     province        city  register_num  \\\n",
       "0      1              korangi        Sindh     Karachi          1200   \n",
       "1      2                Tench       Punjab  Rawalpindi          1201   \n",
       "2      3          Quetta Fort  Balochistan      Quetta          1202   \n",
       "3      4        Quetta Pishin  Balochistan      Quetta          1203   \n",
       "4      5               Sadder       Punjab  Rawalpindi          1208   \n",
       "..   ...                  ...          ...         ...           ...   \n",
       "140  141                bagan          kpk   Abbotabad          1609   \n",
       "141  142             Bagnotar          kpk   Abbotabad          1611   \n",
       "142  143           Biran Gali          kpk   Abbotabad          1614   \n",
       "143  144      Gpo Road Lahore       Punjab      Lahore          1619   \n",
       "144  145  Multan road(Lahore)       Punjab      Lahore          1620   \n",
       "\n",
       "     num_of_employes office_starting_timing office_closing_timing  \\\n",
       "0                 19    2020-03-15 08:00:00   2020-03-15 06:00:00   \n",
       "1                 12    2020-03-15 08:00:00   2020-03-15 06:00:00   \n",
       "2                 19    2020-03-15 08:00:00   2020-03-15 06:00:00   \n",
       "3                 11    2020-03-15 08:00:00   2020-03-15 06:00:00   \n",
       "4                 11    2020-03-15 08:00:00   2020-03-15 06:00:00   \n",
       "..               ...                    ...                   ...   \n",
       "140               11    2020-03-15 08:00:00   2020-03-15 06:00:00   \n",
       "141               18    2020-03-15 08:00:00   2020-03-15 06:00:00   \n",
       "142               11    2020-03-15 08:00:00   2020-03-15 06:00:00   \n",
       "143               19    2020-03-15 08:00:00   2020-03-15 06:00:00   \n",
       "144               21    2020-03-15 08:00:00   2020-03-15 06:00:00   \n",
       "\n",
       "                              email  location_id  owner_id  \n",
       "0              korangicms@gmail.com            1         1  \n",
       "1                tenchcms@gmail.com            2         1  \n",
       "2      balochistanfortcms@gmail.com           13         1  \n",
       "3    balochistanpishincms@gmail.com           14         1  \n",
       "4               saddercms@gmail.com          180         1  \n",
       "..                              ...          ...       ...  \n",
       "140             bagan_cms@gmail.com          129         1  \n",
       "141          bagnotar_cms@gmail.com          130         1  \n",
       "142         birangali_cms@gmail.com          131         1  \n",
       "143       lhr_gporoad_cms@gmail.com          132         1  \n",
       "144    multanroad_lhr_cms@gmail.com          133         1  \n",
       "\n",
       "[145 rows x 11 columns]"
      ]
     },
     "execution_count": 30,
     "metadata": {},
     "output_type": "execute_result"
    }
   ],
   "source": [
    "df1= pd.read_csv('fran.csv')\n",
    "df1"
   ]
  },
  {
   "cell_type": "code",
   "execution_count": 31,
   "metadata": {},
   "outputs": [
    {
     "data": {
      "text/html": [
       "<div>\n",
       "<style scoped>\n",
       "    .dataframe tbody tr th:only-of-type {\n",
       "        vertical-align: middle;\n",
       "    }\n",
       "\n",
       "    .dataframe tbody tr th {\n",
       "        vertical-align: top;\n",
       "    }\n",
       "\n",
       "    .dataframe thead th {\n",
       "        text-align: right;\n",
       "    }\n",
       "</style>\n",
       "<table border=\"1\" class=\"dataframe\">\n",
       "  <thead>\n",
       "    <tr style=\"text-align: right;\">\n",
       "      <th></th>\n",
       "      <th>id</th>\n",
       "      <th>name</th>\n",
       "      <th>province</th>\n",
       "      <th>city</th>\n",
       "      <th>register_num</th>\n",
       "      <th>num_of_employes</th>\n",
       "      <th>office_starting_timing</th>\n",
       "      <th>office_closing_timing</th>\n",
       "      <th>email</th>\n",
       "      <th>location_id</th>\n",
       "      <th>owner_id</th>\n",
       "    </tr>\n",
       "  </thead>\n",
       "  <tbody>\n",
       "    <tr>\n",
       "      <td>0</td>\n",
       "      <td>1</td>\n",
       "      <td>korangi</td>\n",
       "      <td>Sindh</td>\n",
       "      <td>Karachi</td>\n",
       "      <td>1200</td>\n",
       "      <td>19</td>\n",
       "      <td>2020-03-15 08:00:00</td>\n",
       "      <td>2020-03-15 06:00:00</td>\n",
       "      <td>korangicms@gmail.com</td>\n",
       "      <td>1</td>\n",
       "      <td>1</td>\n",
       "    </tr>\n",
       "    <tr>\n",
       "      <td>1</td>\n",
       "      <td>2</td>\n",
       "      <td>Tench</td>\n",
       "      <td>Punjab</td>\n",
       "      <td>Rawalpindi</td>\n",
       "      <td>1201</td>\n",
       "      <td>12</td>\n",
       "      <td>2020-03-15 08:00:00</td>\n",
       "      <td>2020-03-15 06:00:00</td>\n",
       "      <td>tenchcms@gmail.com</td>\n",
       "      <td>2</td>\n",
       "      <td>1</td>\n",
       "    </tr>\n",
       "    <tr>\n",
       "      <td>2</td>\n",
       "      <td>3</td>\n",
       "      <td>Quetta Fort</td>\n",
       "      <td>Balochistan</td>\n",
       "      <td>Quetta</td>\n",
       "      <td>1202</td>\n",
       "      <td>19</td>\n",
       "      <td>2020-03-15 08:00:00</td>\n",
       "      <td>2020-03-15 06:00:00</td>\n",
       "      <td>balochistanfortcms@gmail.com</td>\n",
       "      <td>13</td>\n",
       "      <td>1</td>\n",
       "    </tr>\n",
       "    <tr>\n",
       "      <td>3</td>\n",
       "      <td>4</td>\n",
       "      <td>Quetta Pishin</td>\n",
       "      <td>Balochistan</td>\n",
       "      <td>Quetta</td>\n",
       "      <td>1203</td>\n",
       "      <td>11</td>\n",
       "      <td>2020-03-15 08:00:00</td>\n",
       "      <td>2020-03-15 06:00:00</td>\n",
       "      <td>balochistanpishincms@gmail.com</td>\n",
       "      <td>14</td>\n",
       "      <td>1</td>\n",
       "    </tr>\n",
       "    <tr>\n",
       "      <td>4</td>\n",
       "      <td>5</td>\n",
       "      <td>Sadder</td>\n",
       "      <td>Punjab</td>\n",
       "      <td>Rawalpindi</td>\n",
       "      <td>1208</td>\n",
       "      <td>11</td>\n",
       "      <td>2020-03-15 08:00:00</td>\n",
       "      <td>2020-03-15 06:00:00</td>\n",
       "      <td>saddercms@gmail.com</td>\n",
       "      <td>180</td>\n",
       "      <td>1</td>\n",
       "    </tr>\n",
       "    <tr>\n",
       "      <td>5</td>\n",
       "      <td>6</td>\n",
       "      <td>Six road</td>\n",
       "      <td>Punjab</td>\n",
       "      <td>Rawalpindi</td>\n",
       "      <td>1209</td>\n",
       "      <td>16</td>\n",
       "      <td>2020-03-15 08:00:00</td>\n",
       "      <td>2020-03-15 06:00:00</td>\n",
       "      <td>sixroadcms@gmail.com</td>\n",
       "      <td>179</td>\n",
       "      <td>1</td>\n",
       "    </tr>\n",
       "    <tr>\n",
       "      <td>6</td>\n",
       "      <td>7</td>\n",
       "      <td>Qasim Market</td>\n",
       "      <td>Punjab</td>\n",
       "      <td>Rawalpindi</td>\n",
       "      <td>1211</td>\n",
       "      <td>22</td>\n",
       "      <td>2020-03-15 08:00:00</td>\n",
       "      <td>2020-03-15 06:00:00</td>\n",
       "      <td>qasimmarket2cms@gmail.com</td>\n",
       "      <td>178</td>\n",
       "      <td>1</td>\n",
       "    </tr>\n",
       "    <tr>\n",
       "      <td>7</td>\n",
       "      <td>8</td>\n",
       "      <td>Tehli Mohri chowk</td>\n",
       "      <td>Punjab</td>\n",
       "      <td>Rawalpindi</td>\n",
       "      <td>1212</td>\n",
       "      <td>20</td>\n",
       "      <td>2020-03-15 08:00:00</td>\n",
       "      <td>2020-03-15 06:00:00</td>\n",
       "      <td>tehlimohricms@gmail.com</td>\n",
       "      <td>177</td>\n",
       "      <td>1</td>\n",
       "    </tr>\n",
       "    <tr>\n",
       "      <td>8</td>\n",
       "      <td>9</td>\n",
       "      <td>Chakri Road</td>\n",
       "      <td>Punjab</td>\n",
       "      <td>Rawalpindi</td>\n",
       "      <td>1214</td>\n",
       "      <td>24</td>\n",
       "      <td>2020-03-15 08:00:00</td>\n",
       "      <td>2020-03-15 06:00:00</td>\n",
       "      <td>chakriroadcms@gmail.com</td>\n",
       "      <td>176</td>\n",
       "      <td>1</td>\n",
       "    </tr>\n",
       "    <tr>\n",
       "      <td>9</td>\n",
       "      <td>10</td>\n",
       "      <td>Lalazar</td>\n",
       "      <td>Punjab</td>\n",
       "      <td>Rawalpindi</td>\n",
       "      <td>1215</td>\n",
       "      <td>19</td>\n",
       "      <td>2020-03-15 08:00:00</td>\n",
       "      <td>2020-03-15 06:00:00</td>\n",
       "      <td>lalazarcms@gmail.com</td>\n",
       "      <td>175</td>\n",
       "      <td>1</td>\n",
       "    </tr>\n",
       "  </tbody>\n",
       "</table>\n",
       "</div>"
      ],
      "text/plain": [
       "   id               name     province        city  register_num  \\\n",
       "0   1            korangi        Sindh     Karachi          1200   \n",
       "1   2              Tench       Punjab  Rawalpindi          1201   \n",
       "2   3        Quetta Fort  Balochistan      Quetta          1202   \n",
       "3   4      Quetta Pishin  Balochistan      Quetta          1203   \n",
       "4   5             Sadder       Punjab  Rawalpindi          1208   \n",
       "5   6           Six road       Punjab  Rawalpindi          1209   \n",
       "6   7       Qasim Market       Punjab  Rawalpindi          1211   \n",
       "7   8  Tehli Mohri chowk       Punjab  Rawalpindi          1212   \n",
       "8   9        Chakri Road       Punjab  Rawalpindi          1214   \n",
       "9  10            Lalazar       Punjab  Rawalpindi          1215   \n",
       "\n",
       "   num_of_employes office_starting_timing office_closing_timing  \\\n",
       "0               19    2020-03-15 08:00:00   2020-03-15 06:00:00   \n",
       "1               12    2020-03-15 08:00:00   2020-03-15 06:00:00   \n",
       "2               19    2020-03-15 08:00:00   2020-03-15 06:00:00   \n",
       "3               11    2020-03-15 08:00:00   2020-03-15 06:00:00   \n",
       "4               11    2020-03-15 08:00:00   2020-03-15 06:00:00   \n",
       "5               16    2020-03-15 08:00:00   2020-03-15 06:00:00   \n",
       "6               22    2020-03-15 08:00:00   2020-03-15 06:00:00   \n",
       "7               20    2020-03-15 08:00:00   2020-03-15 06:00:00   \n",
       "8               24    2020-03-15 08:00:00   2020-03-15 06:00:00   \n",
       "9               19    2020-03-15 08:00:00   2020-03-15 06:00:00   \n",
       "\n",
       "                            email  location_id  owner_id  \n",
       "0            korangicms@gmail.com            1         1  \n",
       "1              tenchcms@gmail.com            2         1  \n",
       "2    balochistanfortcms@gmail.com           13         1  \n",
       "3  balochistanpishincms@gmail.com           14         1  \n",
       "4             saddercms@gmail.com          180         1  \n",
       "5            sixroadcms@gmail.com          179         1  \n",
       "6       qasimmarket2cms@gmail.com          178         1  \n",
       "7         tehlimohricms@gmail.com          177         1  \n",
       "8         chakriroadcms@gmail.com          176         1  \n",
       "9            lalazarcms@gmail.com          175         1  "
      ]
     },
     "execution_count": 31,
     "metadata": {},
     "output_type": "execute_result"
    }
   ],
   "source": [
    "df1.head(10)"
   ]
  },
  {
   "cell_type": "markdown",
   "metadata": {},
   "source": [
    "# To see which city has more franchise"
   ]
  },
  {
   "cell_type": "code",
   "execution_count": 32,
   "metadata": {},
   "outputs": [
    {
     "data": {
      "image/png": "[encoded data removed]",
      "text/plain": [
       "<Figure size 864x576 with 1 Axes>"
      ]
     },
     "metadata": {
      "needs_background": "light"
     },
     "output_type": "display_data"
    }
   ],
   "source": [
    "\n",
    "plt.rcParams['figure.figsize']=(12,8)\n",
    "\n",
    "df1.groupby('city')['id'].nunique().plot(kind='bar')\n",
    "\n",
    "figsize=(28,5)\n",
    "plt.show()"
   ]
  },
  {
   "cell_type": "markdown",
   "metadata": {},
   "source": [
    "# To see by numbering"
   ]
  },
  {
   "cell_type": "code",
   "execution_count": 35,
   "metadata": {},
   "outputs": [
    {
     "name": "stdout",
     "output_type": "stream",
     "text": [
      "14\n"
     ]
    }
   ],
   "source": [
    "isl= df1.city.value_counts()['Islamabd']\n",
    "print(isl)"
   ]
  },
  {
   "cell_type": "code",
   "execution_count": 36,
   "metadata": {},
   "outputs": [
    {
     "ename": "AttributeError",
     "evalue": "'DataFrame' object has no attribute 'city'",
     "output_type": "error",
     "traceback": [
      "\u001b[1;31m---------------------------------------------------------------------------\u001b[0m",
      "\u001b[1;31mAttributeError\u001b[0m                            Traceback (most recent call last)",
      "\u001b[1;32m<ipython-input-36-149548fe3f3f>\u001b[0m in \u001b[0;36m<module>\u001b[1;34m\u001b[0m\n\u001b[1;32m----> 1\u001b[1;33m \u001b[0mrwp\u001b[0m\u001b[1;33m=\u001b[0m \u001b[0mdf\u001b[0m\u001b[1;33m.\u001b[0m\u001b[0mcity\u001b[0m\u001b[1;33m.\u001b[0m\u001b[0mvalue_counts\u001b[0m\u001b[1;33m(\u001b[0m\u001b[1;33m)\u001b[0m\u001b[1;33m[\u001b[0m\u001b[1;34m'Rawalpindi'\u001b[0m\u001b[1;33m]\u001b[0m\u001b[1;33m\u001b[0m\u001b[1;33m\u001b[0m\u001b[0m\n\u001b[0m\u001b[0;32m      2\u001b[0m \u001b[0mprint\u001b[0m\u001b[1;33m(\u001b[0m\u001b[0mrwp\u001b[0m\u001b[1;33m)\u001b[0m\u001b[1;33m\u001b[0m\u001b[1;33m\u001b[0m\u001b[0m\n",
      "\u001b[1;32m~\\Anaconda3\\lib\\site-packages\\pandas\\core\\generic.py\u001b[0m in \u001b[0;36m__getattr__\u001b[1;34m(self, name)\u001b[0m\n\u001b[0;32m   5177\u001b[0m             \u001b[1;32mif\u001b[0m \u001b[0mself\u001b[0m\u001b[1;33m.\u001b[0m\u001b[0m_info_axis\u001b[0m\u001b[1;33m.\u001b[0m\u001b[0m_can_hold_identifiers_and_holds_name\u001b[0m\u001b[1;33m(\u001b[0m\u001b[0mname\u001b[0m\u001b[1;33m)\u001b[0m\u001b[1;33m:\u001b[0m\u001b[1;33m\u001b[0m\u001b[1;33m\u001b[0m\u001b[0m\n\u001b[0;32m   5178\u001b[0m                 \u001b[1;32mreturn\u001b[0m \u001b[0mself\u001b[0m\u001b[1;33m[\u001b[0m\u001b[0mname\u001b[0m\u001b[1;33m]\u001b[0m\u001b[1;33m\u001b[0m\u001b[1;33m\u001b[0m\u001b[0m\n\u001b[1;32m-> 5179\u001b[1;33m             \u001b[1;32mreturn\u001b[0m \u001b[0mobject\u001b[0m\u001b[1;33m.\u001b[0m\u001b[0m__getattribute__\u001b[0m\u001b[1;33m(\u001b[0m\u001b[0mself\u001b[0m\u001b[1;33m,\u001b[0m \u001b[0mname\u001b[0m\u001b[1;33m)\u001b[0m\u001b[1;33m\u001b[0m\u001b[1;33m\u001b[0m\u001b[0m\n\u001b[0m\u001b[0;32m   5180\u001b[0m \u001b[1;33m\u001b[0m\u001b[0m\n\u001b[0;32m   5181\u001b[0m     \u001b[1;32mdef\u001b[0m \u001b[0m__setattr__\u001b[0m\u001b[1;33m(\u001b[0m\u001b[0mself\u001b[0m\u001b[1;33m,\u001b[0m \u001b[0mname\u001b[0m\u001b[1;33m,\u001b[0m \u001b[0mvalue\u001b[0m\u001b[1;33m)\u001b[0m\u001b[1;33m:\u001b[0m\u001b[1;33m\u001b[0m\u001b[1;33m\u001b[0m\u001b[0m\n",
      "\u001b[1;31mAttributeError\u001b[0m: 'DataFrame' object has no attribute 'city'"
     ]
    }
   ],
   "source": [
    "rwp= df.city.value_counts()['Rawalpindi']\n",
    "print(rwp)"
   ]
  },
  {
   "cell_type": "code",
   "execution_count": 38,
   "metadata": {},
   "outputs": [
    {
     "name": "stdout",
     "output_type": "stream",
     "text": [
      "12\n"
     ]
    }
   ],
   "source": [
    "que= df1.city.value_counts()['Quetta']\n",
    "print(que)"
   ]
  },
  {
   "cell_type": "markdown",
   "metadata": {},
   "source": [
    "# To see which Province has more franchises"
   ]
  },
  {
   "cell_type": "code",
   "execution_count": 40,
   "metadata": {},
   "outputs": [
    {
     "data": {
      "image/png": "[encoded data removed]",
      "text/plain": [
       "<Figure size 864x576 with 1 Axes>"
      ]
     },
     "metadata": {
      "needs_background": "light"
     },
     "output_type": "display_data"
    }
   ],
   "source": [
    "\n",
    "plt.rcParams['figure.figsize']=(12,8)\n",
    "\n",
    "df1.groupby('province')['id'].nunique().plot(kind='bar')\n",
    "\n",
    "figsize=(28,5)\n",
    "plt.show()"
   ]
  },
  {
   "cell_type": "markdown",
   "metadata": {},
   "source": [
    "# to see by numbering"
   ]
  },
  {
   "cell_type": "code",
   "execution_count": null,
   "metadata": {},
   "outputs": [],
   "source": [
    "Baloch=df1.province.value_counts()['Balochistan']\n",
    "Baloch"
   ]
  },
  {
   "cell_type": "code",
   "execution_count": null,
   "metadata": {},
   "outputs": [],
   "source": [
    "punjab=df.province.value_counts()['Punjab']\n",
    "punjab"
   ]
  },
  {
   "cell_type": "code",
   "execution_count": null,
   "metadata": {},
   "outputs": [],
   "source": [
    "sindh=df.province.value_counts()['Sindh']\n",
    "sindh"
   ]
  },
  {
   "cell_type": "code",
   "execution_count": null,
   "metadata": {},
   "outputs": [],
   "source": [
    "Ajk=df.province.value_counts()['Ajk']\n",
    "Ajk"
   ]
  },
  {
   "cell_type": "code",
   "execution_count": null,
   "metadata": {},
   "outputs": [],
   "source": [
    "sindh=df.province.value_counts()['Sindh']\n",
    "sindh"
   ]
  },
  {
   "cell_type": "code",
   "execution_count": null,
   "metadata": {},
   "outputs": [],
   "source": [
    "kpk=df.province.value_counts()['kpk']\n",
    "kpk"
   ]
  },
  {
   "cell_type": "code",
   "execution_count": null,
   "metadata": {},
   "outputs": [],
   "source": [
    "df"
   ]
  },
  {
   "cell_type": "code",
   "execution_count": null,
   "metadata": {},
   "outputs": [],
   "source": [
    "from sklearn.tree import DecisionTreeClassifier\n",
    "X=df.drop(columns=['from_district',\n",
    "'to_district','id','from_province','to_province',\n",
    "'package_type'])\n",
    "X\n"
   ]
  },
  {
   "cell_type": "code",
   "execution_count": null,
   "metadata": {},
   "outputs": [],
   "source": [
    "l=df['package_type']\n",
    "l"
   ]
  },
  {
   "cell_type": "code",
   "execution_count": null,
   "metadata": {},
   "outputs": [],
   "source": [
    "model=DecisionTreeClassifier()\n",
    "model.fit(X,Y)\n",
    "predictions=model.predict([[3,8]])\n",
    "predictions"
   ]
  },
  {
   "cell_type": "code",
   "execution_count": null,
   "metadata": {},
   "outputs": [],
   "source": [
    "from sklearn.model_selection import train_test_split\n",
    "from sklearn.metrics import accuracy_score\n",
    "X=df.drop(columns=['from_district','to_district','id',\n",
    "'to_province','from_province','package_type'])\n",
    "Y=df['package_type']\n",
    "X_train, X_test, Y_train, Y_test=train_test_split(X,Y, test_size=0.2)\n",
    "model=DecisionTreeClassifier()\n",
    "model.fit(X_train, Y_train)  \n",
    "predictions=model.predict(X_test)\n",
    "score=accuracy_score(Y_test, predictions)\n",
    "score"
   ]
  },
  {
   "cell_type": "code",
   "execution_count": 43,
   "metadata": {},
   "outputs": [
    {
     "data": {
      "text/plain": [
       "(0, 546.4136232371483)"
      ]
     },
     "execution_count": 43,
     "metadata": {},
     "output_type": "execute_result"
    },
    {
     "data": {
      "image/png": "[encoded data removed]",
      "text/plain": [
       "<Figure size 864x576 with 1 Axes>"
      ]
     },
     "metadata": {
      "needs_background": "light"
     },
     "output_type": "display_data"
    }
   ],
   "source": [
    "import seaborn as sns\n",
    "sns.regplot(x='price_in_gram', y='weight_in_gram', data= df)\n",
    "plt.ylim(0,)\n"
   ]
  },
  {
   "cell_type": "code",
   "execution_count": null,
   "metadata": {},
   "outputs": [],
   "source": []
  },
  {
   "cell_type": "code",
   "execution_count": null,
   "metadata": {},
   "outputs": [],
   "source": []
  },
  {
   "cell_type": "code",
   "execution_count": null,
   "metadata": {},
   "outputs": [],
   "source": []
  },
  {
   "cell_type": "code",
   "execution_count": null,
   "metadata": {},
   "outputs": [],
   "source": []
  },
  {
   "cell_type": "code",
   "execution_count": null,
   "metadata": {},
   "outputs": [],
   "source": []
  },
  {
   "cell_type": "code",
   "execution_count": null,
   "metadata": {},
   "outputs": [],
   "source": []
  },
  {
   "cell_type": "code",
   "execution_count": null,
   "metadata": {},
   "outputs": [],
   "source": []
  }
 ],
 "metadata": {
  "kernelspec": {
   "display_name": "Python 3",
   "language": "python",
   "name": "python3"
  },
  "language_info": {
   "codemirror_mode": {
    "name": "ipython",
    "version": 3
   },
   "file_extension": ".py",
   "mimetype": "text/x-python",
   "name": "python",
   "nbconvert_exporter": "python",
   "pygments_lexer": "ipython3",
   "version": "3.7.4"
  }
 },
 "nbformat": 4,
 "nbformat_minor": 2
}
